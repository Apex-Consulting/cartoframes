{
 "cells": [
  {
   "cell_type": "markdown",
   "metadata": {},
   "source": [
    "### get a dataset from Spain"
   ]
  },
  {
   "cell_type": "code",
   "execution_count": null,
   "metadata": {},
   "outputs": [],
   "source": [
    "from data.catalog import DO, Country\n",
    "\n",
    "# Step 1: get all countries\n",
    "do = DO()\n",
    "do.countries # [{iso3: ‘esp’}, {iso3: ‘usa’}]\n",
    "\n",
    "country = do.countries.get('esp') # {iso3: ‘esp’}\n",
    "country = Country.get('esp') # {iso3: ‘esp’}\n",
    "\n",
    "# Step 2: get all datasets from Spain\n",
    "country.datasets # [{id: 'basicstats-census', provider_id: 'bbva', ...}, {id: 'basicstats-municipalities', provider_id: 'bbva', ...}]\n",
    "\n",
    "# step3: get an specific dataset\n",
    "dataset = country.datasets.get('basicstats-census')\n",
    "dataset = Dataset.get('basicstats-census')\n",
    "# dataset = do.countries.get('esp').datasets.get('basicstats-census')"
   ]
  },
  {
   "cell_type": "markdown",
   "metadata": {},
   "source": [
    "### find financial datasets from Spain "
   ]
  },
  {
   "cell_type": "code",
   "execution_count": null,
   "metadata": {},
   "outputs": [],
   "source": [
    "from data.catalog import DO, Country\n",
    "\n",
    "# Step 1: get all countries\n",
    "do = DO()\n",
    "do.countries # [{iso3: ‘esp’}, {iso3: ‘usa’}]\n",
    "\n",
    "country = do.countries.get('esp') # {iso3: ‘esp’}\n",
    "country = Country.get('esp') # {iso3: ‘esp’}\n",
    "\n",
    "# Step 2: get all categories from Spain\n",
    "country.categories # [{id: 'demographics', name: 'Demographics', ...}, {id: 'financial', name: 'Financial', ...}]\n",
    "\n",
    "# step3: get an specific dataset\n",
    "category = country.categories.get('financial')\n",
    "category = Category.get('financial')\n",
    "\n",
    "# stye4: get datasets\n",
    "category.datasets # [{id: 'basicstats-census', provider_id: 'bbva', ...}, {id: 'basicstats-municipalities', provider_id: 'bbva', ...}]"
   ]
  },
  {
   "cell_type": "markdown",
   "metadata": {},
   "source": [
    "### get specific data from a dataset (aka variables)"
   ]
  },
  {
   "cell_type": "code",
   "execution_count": null,
   "metadata": {},
   "outputs": [],
   "source": [
    "dataset.variables"
   ]
  }
 ],
 "metadata": {
  "kernelspec": {
   "display_name": "Python 3",
   "language": "python",
   "name": "python3"
  },
  "language_info": {
   "codemirror_mode": {
    "name": "ipython",
    "version": 3
   },
   "file_extension": ".py",
   "mimetype": "text/x-python",
   "name": "python",
   "nbconvert_exporter": "python",
   "pygments_lexer": "ipython3",
   "version": "3.6.8"
  }
 },
 "nbformat": 4,
 "nbformat_minor": 2
}
