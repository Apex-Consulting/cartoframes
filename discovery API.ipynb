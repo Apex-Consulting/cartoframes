{
 "cells": [
  {
   "cell_type": "markdown",
   "metadata": {},
   "source": [
    "### Get a dataset from Spain"
   ]
  },
  {
   "cell_type": "code",
   "execution_count": null,
   "metadata": {},
   "outputs": [],
   "source": [
    "from data.catalog import DO, Country\n",
    "\n",
    "# Step 1: get all countries\n",
    "do = DO()\n",
    "do.countries # [{iso3: ‘esp’}, {iso3: ‘usa’}]\n",
    "\n",
    "country = do.countries.get('esp') # {iso3: ‘esp’}\n",
    "country = Country.get('esp') # {iso3: ‘esp’}\n",
    "\n",
    "# Step 2: get all datasets from Spain\n",
    "country.datasets # [{id: 'basicstats-census', provider_id: 'bbva', ...}, {id: 'basicstats-municipalities', provider_id: 'bbva', ...}]\n",
    "\n",
    "# step3: get an specific dataset\n",
    "dataset = country.datasets.get('basicstats-census')\n",
    "dataset = Dataset.get('basicstats-census')\n",
    "# dataset = do.countries.get('esp').datasets.get('basicstats-census')"
   ]
  },
  {
   "cell_type": "markdown",
   "metadata": {},
   "source": [
    "### Find financial datasets from Spain "
   ]
  },
  {
   "cell_type": "code",
   "execution_count": null,
   "metadata": {},
   "outputs": [],
   "source": [
    "from data.catalog import DO, Country\n",
    "\n",
    "# Step 1: get all countries\n",
    "do = DO()\n",
    "do.countries # [{iso3: ‘esp’}, {iso3: ‘usa’}]\n",
    "\n",
    "country = do.countries.get('esp') # {iso3: ‘esp’}\n",
    "country = Country.get('esp') # {iso3: ‘esp’}\n",
    "\n",
    "# Step 2: get all categories from Spain\n",
    "country.categories # [{id: 'demographics', name: 'Demographics', ...}, {id: 'financial', name: 'Financial', ...}]\n",
    "\n",
    "# step3: get an specific dataset\n",
    "category = country.categories.get('financial')\n",
    "category = Category.get('financial')\n",
    "\n",
    "# step4: get datasets\n",
    "category.datasets # [{id: 'basicstats-census', provider_id: 'bbva', ...}, {id: 'basicstats-municipalities', provider_id: 'bbva', ...}]"
   ]
  },
  {
   "cell_type": "markdown",
   "metadata": {},
   "source": [
    "### Get specific data from a dataset (aka variables)"
   ]
  },
  {
   "cell_type": "markdown",
   "metadata": {},
   "source": [
    "#### option 1: variables with parent-child relationship"
   ]
  },
  {
   "cell_type": "code",
   "execution_count": null,
   "metadata": {},
   "outputs": [],
   "source": [
    "# step1: get variables\n",
    "dataset.variables # [{id: 'basicstats-census.population', name: 'Population', ...},\n",
    "                  #  {id: 'basicstats-census.date', name: 'Date', ...}]\n",
    "\n",
    "# setp2: get Population variable\n",
    "variable_population = dataset.variables.get('basicstats-census.population') # {id: 'basicstats-census.population', name: 'Population', ...}\n",
    "variable_population = Variable.get('basicstats-census.population') # {id: 'basicstats-census.population', name: 'Population', ...}\n",
    "\n",
    "variable_population.children # [{id: 'basicstats-census.population_male', name: 'Male population', ...},\n",
    "                  #  {id: 'basicstats-census.population_female', name: 'Female population', ...}]\n",
    "variable_population.parent # None\n",
    "variable_population.children.get('basicstats-census.population_male').parent # {id: 'basicstats-census.population', name: 'Population', ...}\n",
    "\n",
    "# step3: get Date variable\n",
    "variable_date = dataset.variables.get('basicstats-census.date') # {id: 'basicstats-census.date', name: 'Date', ...}\n",
    "variable_date = Variable.get('basicstats-census.date') # {id: 'basicstats-census.date', name: 'Date', ...}\n",
    "\n",
    "variable_date.children # None\n",
    "variable_date.parent # None"
   ]
  },
  {
   "cell_type": "markdown",
   "metadata": {},
   "source": [
    "#### option2: variables with variable groups"
   ]
  },
  {
   "cell_type": "code",
   "execution_count": null,
   "metadata": {},
   "outputs": [],
   "source": [
    "# step1: get variables\n",
    "dataset.variables # [{id: 'basicstats-census.population_male', name: 'Male Population', ...},\n",
    "                  #  {id: 'basicstats-census.population_female', name: 'Female Population', ...},\n",
    "                  #  {id: 'basicstats-census.date', name: 'Date', ...}]\n",
    "        \n",
    "# setp2: get Female Population variable\n",
    "variable_femalePopulation = dataset.variables.get('basicstats-census.female_population') # {id: 'basicstats-census.population', name: 'Female Population', ...}\n",
    "variableFemalePopulation = Variable.get('basicstats-census.female_population') # {id: 'basicstats-census.female_population', name: 'Female Population', ...}\n",
    "\n",
    "# step3: get variable groups\n",
    "dataset.variable_groups # [{id: 'basicstats-census.population', name: 'Population', ...}]\n",
    "\n",
    "# step4: get population variable group\n",
    "variableGroup = VariableGroup.get('basicstats-census.population') # {id: 'basicstats-census.population', name: 'Population', ...}\n",
    "variableGroup = dataset.variable_groups.get('basicstats-census.population') # {id: 'basicstats-census.population', name: 'Population', ...}\n",
    "\n",
    "# step5: get all variables from variable group\n",
    "variableGroup.variables # [{id: 'basicstats-census.population_male', name: 'Male Population', ...},\n",
    "                        #  {id: 'basicstats-census.population_female', name: 'Female Population', ...}]"
   ]
  },
  {
   "cell_type": "markdown",
   "metadata": {},
   "source": [
    "### Further dataset actions"
   ]
  },
  {
   "cell_type": "code",
   "execution_count": null,
   "metadata": {},
   "outputs": [],
   "source": [
    "Dataset.provider      # 'bbbva'\n",
    "Dataset.time_coverage # ['2006-01-01','2010-01-01']\n",
    "Dataset.geography     # {id: 'geography_spain_municipalities_2017', name: 'Spain Municipalities',... } \n",
    "Dataset.describe     # Stats regarding the dataset data\n",
    "Dataset.download(include_geometries=True) # Returns a GeoDataFrame\n",
    "Dataset.download()   # Return a DataFrame"
   ]
  }
 ],
 "metadata": {
  "kernelspec": {
   "display_name": "Python 3",
   "language": "python",
   "name": "python3"
  },
  "language_info": {
   "codemirror_mode": {
    "name": "ipython",
    "version": 3
   },
   "file_extension": ".py",
   "mimetype": "text/x-python",
   "name": "python",
   "nbconvert_exporter": "python",
   "pygments_lexer": "ipython3",
   "version": "3.7.3"
  }
 },
 "nbformat": 4,
 "nbformat_minor": 2
}
