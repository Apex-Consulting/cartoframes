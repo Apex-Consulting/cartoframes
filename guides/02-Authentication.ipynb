{
 "cells": [
  {
   "cell_type": "markdown",
   "metadata": {},
   "source": [
    "## Authentication\n",
    "\n",
    "### Introduction\n",
    "\n",
    "This guide focuses on the basics of authentication in CARTOframes.\n",
    "\n",
    "> To visualize your local data with CARTOframes, you don't need to be authenticated.\n",
    "\n",
    "Authentication is needed to set up your credentials to save your data and visualizations to CARTO, to use [Location Data Services](/developers/cartoframes/guides/Location-Data-Services/), or the [Data Observatory](developers/cartoframes/guides/Data-discovery/). Since a CARTO account is required for these cases, if you don't already have an account, you can [create one here](https://carto.com/signup/)."
   ]
  },
  {
   "cell_type": "markdown",
   "metadata": {},
   "source": [
    "### Get your Master API Key\n",
    "Once you have created an account, you need to get your **Master** API Key. The API keys page can be accessed from your [CARTO Dashboard](https://carto.com/help/tutorials/your-dashboard-overview/). Once there, click on your avatar to open the dashboard menu. The API keys link will be shown.\n",
    "\n",
    "![API Keys link - CARTO Dashboard](img/credentials/dashboard.png)\n",
    "\n",
    "From here, copy the **Master** API Key to use in the next section.\n",
    "\n",
    "![Master API Key - CARTO Dashboard](img/credentials/api-keys.png)"
   ]
  },
  {
   "cell_type": "markdown",
   "metadata": {},
   "source": [
    "### Setting your credentials\n",
    "\n",
    "The [Credentials](/developers/cartoframes/reference/#cartoframes-auth-credentials) class is used to load your credentials in CARTOframes. This should be passed to every method that insteracts with your CARTO account. You can create multiple instances of credentials to manage different CARTO accounts.\n",
    "\n",
    "There are different ways to set them but we encourage you to use the one that reads the credentials from a JSON file:\n",
    "\n",
    "```py\n",
    "from cartoframes.auth import Credentials\n",
    "\n",
    "creds = Credentials.from_file('creds.json')\n",
    "```\n",
    "\n",
    "With [set_default_credentials](/developers/cartoframes/reference/#cartoframes-auth-set_default_credentials), the same user's authentication will be used by every CARTOframes component by default, so you don't need to pass the parameter to every method that requires it.\n",
    "\n",
    "```py\n",
    "from cartoframes.auth import set_default_credentials\n",
    "\n",
    "set_default_credentials('creds.json')\n",
    "```\n",
    "\n",
    "Example `creds.json` file using the credentials above:\n",
    "\n",
    "```json\n",
    "{\n",
    "  \"username\": \"johnsmith\",\n",
    "  \"api_key\": \"b1ff3ed88761070116180189d9a1f5cb9cc80654\"\n",
    "}\n",
    "```"
   ]
  },
  {
   "cell_type": "markdown",
   "metadata": {},
   "source": [
    "### Credential parameters\n",
    "\n",
    "- `username`: your CARTO account username\n",
    "- `api_key`: API Key of user's CARTO account. If the data to be accessed is **public**, it can be set to `default_public`.\n",
    "- `base_url`: only needed for on-premise or custom installations. Typically in the form of `https://username.carto.com/` for user `username`. On-premises installation (and others) have a different URL pattern."
   ]
  }
 ],
 "metadata": {
  "kernelspec": {
   "display_name": "Python 3",
   "language": "python",
   "name": "python3"
  },
  "language_info": {
   "codemirror_mode": {
    "name": "ipython",
    "version": 3
   },
   "file_extension": ".py",
   "mimetype": "text/x-python",
   "name": "python",
   "nbconvert_exporter": "python",
   "pygments_lexer": "ipython3",
   "version": "3.6.7"
  }
 },
 "nbformat": 4,
 "nbformat_minor": 2
}
