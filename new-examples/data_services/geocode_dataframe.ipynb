{
 "cells": [
  {
   "cell_type": "code",
   "execution_count": null,
   "metadata": {},
   "outputs": [],
   "source": [
    "import pandas\n",
    "from cartoframes.data.services import Geocoding\n",
    "from cartoframes.auth import set_default_credentials\n",
    "\n",
    "set_default_credentials('elena-carto', '97293f98929325451d1db4fd42b66cd1168e13d6')"
   ]
  },
  {
   "cell_type": "code",
   "execution_count": null,
   "metadata": {},
   "outputs": [],
   "source": [
    "df = pandas.DataFrame([['Gran Vía 46', 'Madrid'], ['Ebro 1', 'Sevilla']], columns=['address','city'])\n",
    "gc = Geocoding()\n",
    "\n",
    "df_data, df_metadata = gc.geocode(df, street='address', city='city', country={'value': 'Spain'})"
   ]
  },
  {
   "cell_type": "code",
   "execution_count": null,
   "metadata": {},
   "outputs": [],
   "source": [
    "print(df_metadata)"
   ]
  },
  {
   "cell_type": "code",
   "execution_count": null,
   "metadata": {},
   "outputs": [],
   "source": [
    "from cartoframes.data import Dataset\n",
    "from cartoframes.viz import Map, Layer\n",
    "\n",
    "ds = Dataset(df)\n",
    "\n",
    "Map(Layer(ds))"
   ]
  },
  {
   "cell_type": "code",
   "execution_count": null,
   "metadata": {},
   "outputs": [],
   "source": []
  }
 ],
 "metadata": {
  "kernelspec": {
   "display_name": "Python 3",
   "language": "python",
   "name": "python3"
  }
 },
 "nbformat": 4,
 "nbformat_minor": 2
}
