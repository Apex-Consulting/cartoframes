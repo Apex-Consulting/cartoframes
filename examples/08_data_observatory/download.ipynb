{
 "cells": [
  {
   "cell_type": "code",
   "execution_count": 1,
   "metadata": {},
   "outputs": [],
   "source": [
    "from cartoframes.auth import Credentials, set_default_credentials\n",
    "credentials = Credentials.from_file()"
   ]
  },
  {
   "cell_type": "code",
   "execution_count": 2,
   "metadata": {},
   "outputs": [
    {
     "name": "stderr",
     "output_type": "stream",
     "text": [
      "/home/simon/dev/cartoframes/env/src/carto/carto/resources.py:90: FutureWarning: This is part of a non-public CARTO API and may change in the future. Take this into account if you are using this in a production environment\n",
      "  warnings.warn('This is part of a non-public CARTO API and may change in the future. Take this into account if you are using this in a production environment', FutureWarning)\n"
     ]
    }
   ],
   "source": [
    "from cartoframes.data.clients.bigquery_client import BigQueryClient\n",
    "\n",
    "dataset = credentials.username.replace('-', '_')\n",
    "client = BigQueryClient('carto-do-customers', credentials)"
   ]
  },
  {
   "cell_type": "code",
   "execution_count": 3,
   "metadata": {},
   "outputs": [],
   "source": [
    "project = 'carto-do-customers'\n",
    "dataset = 'simon_carto'\n",
    "table = 'view_mastercard_financial_mrli_usa_block_2019_monthly_2019'"
   ]
  },
  {
   "cell_type": "code",
   "execution_count": 4,
   "metadata": {},
   "outputs": [
    {
     "name": "stdout",
     "output_type": "stream",
     "text": [
      "2019-10-03 15:23:06.811360\n"
     ]
    },
    {
     "data": {
      "application/vnd.jupyter.widget-view+json": {
       "model_id": "b52cd35e448141a2b14935706d127b4f",
       "version_major": 2,
       "version_minor": 0
      },
      "text/plain": [
       "HBox(children=(IntProgress(value=0, description='Downloading', max=903183, style=ProgressStyle(description_wid…"
      ]
     },
     "metadata": {},
     "output_type": "display_data"
    },
    {
     "name": "stdout",
     "output_type": "stream",
     "text": [
      "\n",
      "2019-10-03 15:26:14.234169\n"
     ]
    }
   ],
   "source": [
    "import datetime\n",
    " \n",
    "print (str(datetime.datetime.now()))\n",
    "\n",
    "df = client.download(project, dataset, table)\n",
    "\n",
    "print (str(datetime.datetime.now()))"
   ]
  },
  {
   "cell_type": "code",
   "execution_count": 6,
   "metadata": {},
   "outputs": [
    {
     "data": {
      "text/plain": [
       "425733667"
      ]
     },
     "execution_count": 6,
     "metadata": {},
     "output_type": "execute_result"
    }
   ],
   "source": [
    "from sys import getsizeof\n",
    "getsizeof(df)"
   ]
  },
  {
   "cell_type": "code",
   "execution_count": 7,
   "metadata": {},
   "outputs": [
    {
     "data": {
      "text/html": [
       "<div>\n",
       "<style scoped>\n",
       "    .dataframe tbody tr th:only-of-type {\n",
       "        vertical-align: middle;\n",
       "    }\n",
       "\n",
       "    .dataframe tbody tr th {\n",
       "        vertical-align: top;\n",
       "    }\n",
       "\n",
       "    .dataframe thead th {\n",
       "        text-align: right;\n",
       "    }\n",
       "</style>\n",
       "<table border=\"1\" class=\"dataframe\">\n",
       "  <thead>\n",
       "    <tr style=\"text-align: right;\">\n",
       "      <th></th>\n",
       "      <th>category</th>\n",
       "      <th>region_type</th>\n",
       "      <th>region_id</th>\n",
       "      <th>month</th>\n",
       "      <th>total_merchants</th>\n",
       "      <th>ticket_size_score</th>\n",
       "      <th>growth_score</th>\n",
       "      <th>stability_score</th>\n",
       "      <th>transactions_score</th>\n",
       "      <th>sales_score</th>\n",
       "      <th>...</th>\n",
       "      <th>growth_metro_score</th>\n",
       "      <th>stability_metro_score</th>\n",
       "      <th>transactions_metro_score</th>\n",
       "      <th>sales_metro_score</th>\n",
       "      <th>ticket_size_state_score</th>\n",
       "      <th>growth_state_score</th>\n",
       "      <th>stability_state_score</th>\n",
       "      <th>transactions_state_score</th>\n",
       "      <th>sales_state_score</th>\n",
       "      <th>geoid</th>\n",
       "    </tr>\n",
       "  </thead>\n",
       "  <tbody>\n",
       "    <tr>\n",
       "      <td>0</td>\n",
       "      <td>apparel</td>\n",
       "      <td>block</td>\n",
       "      <td>360610113001005</td>\n",
       "      <td>03/01/2019</td>\n",
       "      <td>14</td>\n",
       "      <td>974.0</td>\n",
       "      <td>817.0</td>\n",
       "      <td>2.0</td>\n",
       "      <td>110.0</td>\n",
       "      <td>656.0</td>\n",
       "      <td>...</td>\n",
       "      <td>757.0</td>\n",
       "      <td>9.0</td>\n",
       "      <td>170.0</td>\n",
       "      <td>587.0</td>\n",
       "      <td>948.0</td>\n",
       "      <td>779.0</td>\n",
       "      <td>9.0</td>\n",
       "      <td>131.0</td>\n",
       "      <td>583.0</td>\n",
       "      <td>360610113001005</td>\n",
       "    </tr>\n",
       "    <tr>\n",
       "      <td>1</td>\n",
       "      <td>apparel</td>\n",
       "      <td>block</td>\n",
       "      <td>060372079001007</td>\n",
       "      <td>03/01/2019</td>\n",
       "      <td>11</td>\n",
       "      <td>933.0</td>\n",
       "      <td>19.0</td>\n",
       "      <td>2.0</td>\n",
       "      <td>79.0</td>\n",
       "      <td>253.0</td>\n",
       "      <td>...</td>\n",
       "      <td>31.0</td>\n",
       "      <td>7.0</td>\n",
       "      <td>360.0</td>\n",
       "      <td>391.0</td>\n",
       "      <td>825.0</td>\n",
       "      <td>23.0</td>\n",
       "      <td>3.0</td>\n",
       "      <td>241.0</td>\n",
       "      <td>364.0</td>\n",
       "      <td>060372079001007</td>\n",
       "    </tr>\n",
       "    <tr>\n",
       "      <td>2</td>\n",
       "      <td>eating places</td>\n",
       "      <td>block</td>\n",
       "      <td>120310168011019</td>\n",
       "      <td>03/01/2019</td>\n",
       "      <td>7</td>\n",
       "      <td>800.0</td>\n",
       "      <td>939.0</td>\n",
       "      <td>2.0</td>\n",
       "      <td>184.0</td>\n",
       "      <td>357.0</td>\n",
       "      <td>...</td>\n",
       "      <td>912.0</td>\n",
       "      <td>23.0</td>\n",
       "      <td>256.0</td>\n",
       "      <td>500.0</td>\n",
       "      <td>774.0</td>\n",
       "      <td>938.0</td>\n",
       "      <td>4.0</td>\n",
       "      <td>140.0</td>\n",
       "      <td>287.0</td>\n",
       "      <td>120310168011019</td>\n",
       "    </tr>\n",
       "    <tr>\n",
       "      <td>3</td>\n",
       "      <td>eating places</td>\n",
       "      <td>block</td>\n",
       "      <td>120710011022006</td>\n",
       "      <td>03/01/2019</td>\n",
       "      <td>13</td>\n",
       "      <td>90.0</td>\n",
       "      <td>800.0</td>\n",
       "      <td>2.0</td>\n",
       "      <td>597.0</td>\n",
       "      <td>320.0</td>\n",
       "      <td>...</td>\n",
       "      <td>825.0</td>\n",
       "      <td>25.0</td>\n",
       "      <td>750.0</td>\n",
       "      <td>250.0</td>\n",
       "      <td>77.0</td>\n",
       "      <td>800.0</td>\n",
       "      <td>4.0</td>\n",
       "      <td>575.0</td>\n",
       "      <td>254.0</td>\n",
       "      <td>120710011022006</td>\n",
       "    </tr>\n",
       "    <tr>\n",
       "      <td>4</td>\n",
       "      <td>eating places</td>\n",
       "      <td>block</td>\n",
       "      <td>120860089041000</td>\n",
       "      <td>03/01/2019</td>\n",
       "      <td>24</td>\n",
       "      <td>5.0</td>\n",
       "      <td>1000.0</td>\n",
       "      <td>2.0</td>\n",
       "      <td>899.0</td>\n",
       "      <td>504.0</td>\n",
       "      <td>...</td>\n",
       "      <td>998.0</td>\n",
       "      <td>5.0</td>\n",
       "      <td>941.0</td>\n",
       "      <td>483.0</td>\n",
       "      <td>5.0</td>\n",
       "      <td>1000.0</td>\n",
       "      <td>4.0</td>\n",
       "      <td>910.0</td>\n",
       "      <td>471.0</td>\n",
       "      <td>120860089041000</td>\n",
       "    </tr>\n",
       "  </tbody>\n",
       "</table>\n",
       "<p>5 rows × 21 columns</p>\n",
       "</div>"
      ],
      "text/plain": [
       "        category region_type        region_id       month  total_merchants  \\\n",
       "0        apparel       block  360610113001005  03/01/2019               14   \n",
       "1        apparel       block  060372079001007  03/01/2019               11   \n",
       "2  eating places       block  120310168011019  03/01/2019                7   \n",
       "3  eating places       block  120710011022006  03/01/2019               13   \n",
       "4  eating places       block  120860089041000  03/01/2019               24   \n",
       "\n",
       "   ticket_size_score  growth_score  stability_score  transactions_score  \\\n",
       "0              974.0         817.0              2.0               110.0   \n",
       "1              933.0          19.0              2.0                79.0   \n",
       "2              800.0         939.0              2.0               184.0   \n",
       "3               90.0         800.0              2.0               597.0   \n",
       "4                5.0        1000.0              2.0               899.0   \n",
       "\n",
       "   sales_score  ...  growth_metro_score  stability_metro_score  \\\n",
       "0        656.0  ...               757.0                    9.0   \n",
       "1        253.0  ...                31.0                    7.0   \n",
       "2        357.0  ...               912.0                   23.0   \n",
       "3        320.0  ...               825.0                   25.0   \n",
       "4        504.0  ...               998.0                    5.0   \n",
       "\n",
       "   transactions_metro_score  sales_metro_score  ticket_size_state_score  \\\n",
       "0                     170.0              587.0                    948.0   \n",
       "1                     360.0              391.0                    825.0   \n",
       "2                     256.0              500.0                    774.0   \n",
       "3                     750.0              250.0                     77.0   \n",
       "4                     941.0              483.0                      5.0   \n",
       "\n",
       "   growth_state_score  stability_state_score  transactions_state_score  \\\n",
       "0               779.0                    9.0                     131.0   \n",
       "1                23.0                    3.0                     241.0   \n",
       "2               938.0                    4.0                     140.0   \n",
       "3               800.0                    4.0                     575.0   \n",
       "4              1000.0                    4.0                     910.0   \n",
       "\n",
       "   sales_state_score            geoid  \n",
       "0              583.0  360610113001005  \n",
       "1              364.0  060372079001007  \n",
       "2              287.0  120310168011019  \n",
       "3              254.0  120710011022006  \n",
       "4              471.0  120860089041000  \n",
       "\n",
       "[5 rows x 21 columns]"
      ]
     },
     "execution_count": 7,
     "metadata": {},
     "output_type": "execute_result"
    }
   ],
   "source": [
    "df.head()"
   ]
  }
 ],
 "metadata": {
  "kernelspec": {
   "display_name": "Python 3",
   "language": "python",
   "name": "python3"
  },
  "language_info": {
   "codemirror_mode": {
    "name": "ipython",
    "version": 3
   },
   "file_extension": ".py",
   "mimetype": "text/x-python",
   "name": "python",
   "nbconvert_exporter": "python",
   "pygments_lexer": "ipython3",
   "version": "3.7.3"
  }
 },
 "nbformat": 4,
 "nbformat_minor": 2
}
