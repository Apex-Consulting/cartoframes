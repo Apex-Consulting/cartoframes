{
 "cells": [
  {
   "cell_type": "markdown",
   "metadata": {},
   "source": [
    "# Geocoding and Isolines Services\n",
    "\n",
    "This example illustrates how to combine both Geocoding and Isolines Data Services\n",
    "\n",
    "> Note: CARTO Account credentials are needed to reproduce this example. https://carto.com/signup"
   ]
  },
  {
   "cell_type": "code",
   "execution_count": 1,
   "metadata": {},
   "outputs": [],
   "source": [
    "import pandas\n",
    "from cartoframes.auth import set_default_credentials\n",
    "\n",
    "# set_default_credentials('johnsmith', '1a2b3c4d5e6f7g8h9i0j')\n",
    "set_default_credentials(\n",
    "    username='elena-carto',\n",
    "    api_key='97293f98929325451d1db4fd42b66cd1168e13d6'\n",
    ")"
   ]
  },
  {
   "cell_type": "code",
   "execution_count": 2,
   "metadata": {},
   "outputs": [
    {
     "ename": "ImportError",
     "evalue": "cannot import name 'Dataset' from 'cartoframes.data' (/Users/elena/Projects/CARTO/carto-data-science-stack/cartoframes/cartoframes/data/__init__.py)",
     "output_type": "error",
     "traceback": [
      "\u001b[0;31m---------------------------------------------------------------------------\u001b[0m",
      "\u001b[0;31mImportError\u001b[0m                               Traceback (most recent call last)",
      "\u001b[0;32m<ipython-input-2-8b16ff8f2531>\u001b[0m in \u001b[0;36m<module>\u001b[0;34m\u001b[0m\n\u001b[0;32m----> 1\u001b[0;31m \u001b[0;32mfrom\u001b[0m \u001b[0mcartoframes\u001b[0m\u001b[0;34m.\u001b[0m\u001b[0mdata\u001b[0m\u001b[0;34m.\u001b[0m\u001b[0mservices\u001b[0m \u001b[0;32mimport\u001b[0m \u001b[0mGeocoding\u001b[0m\u001b[0;34m\u001b[0m\u001b[0;34m\u001b[0m\u001b[0m\n\u001b[0m\u001b[1;32m      2\u001b[0m \u001b[0;34m\u001b[0m\u001b[0m\n\u001b[1;32m      3\u001b[0m df = pandas.DataFrame([\n\u001b[1;32m      4\u001b[0m          \u001b[0;34m[\u001b[0m\u001b[0;34m'Calle Serrano 15'\u001b[0m\u001b[0;34m]\u001b[0m\u001b[0;34m,\u001b[0m\u001b[0;34m\u001b[0m\u001b[0;34m\u001b[0m\u001b[0m\n\u001b[1;32m      5\u001b[0m          \u001b[0;34m[\u001b[0m\u001b[0;34m'Calle de San Pedro 21'\u001b[0m\u001b[0;34m]\u001b[0m\u001b[0;34m,\u001b[0m\u001b[0;34m\u001b[0m\u001b[0;34m\u001b[0m\u001b[0m\n",
      "\u001b[0;32m~/Projects/CARTO/carto-data-science-stack/cartoframes/cartoframes/data/services/__init__.py\u001b[0m in \u001b[0;36m<module>\u001b[0;34m\u001b[0m\n\u001b[1;32m      1\u001b[0m \u001b[0;32mfrom\u001b[0m \u001b[0m__future__\u001b[0m \u001b[0;32mimport\u001b[0m \u001b[0mabsolute_import\u001b[0m\u001b[0;34m\u001b[0m\u001b[0;34m\u001b[0m\u001b[0m\n\u001b[1;32m      2\u001b[0m \u001b[0;34m\u001b[0m\u001b[0m\n\u001b[0;32m----> 3\u001b[0;31m \u001b[0;32mfrom\u001b[0m \u001b[0;34m.\u001b[0m\u001b[0mgeocoding\u001b[0m \u001b[0;32mimport\u001b[0m \u001b[0mGeocoding\u001b[0m\u001b[0;34m\u001b[0m\u001b[0;34m\u001b[0m\u001b[0m\n\u001b[0m\u001b[1;32m      4\u001b[0m \u001b[0;32mfrom\u001b[0m \u001b[0;34m.\u001b[0m\u001b[0misolines\u001b[0m \u001b[0;32mimport\u001b[0m \u001b[0mIsolines\u001b[0m\u001b[0;34m\u001b[0m\u001b[0;34m\u001b[0m\u001b[0m\n\u001b[1;32m      5\u001b[0m \u001b[0;34m\u001b[0m\u001b[0m\n",
      "\u001b[0;32m~/Projects/CARTO/carto-data-science-stack/cartoframes/cartoframes/data/services/geocoding.py\u001b[0m in \u001b[0;36m<module>\u001b[0;34m\u001b[0m\n\u001b[1;32m      9\u001b[0m \u001b[0;32mimport\u001b[0m \u001b[0mpandas\u001b[0m \u001b[0;32mas\u001b[0m \u001b[0mpd\u001b[0m\u001b[0;34m\u001b[0m\u001b[0;34m\u001b[0m\u001b[0m\n\u001b[1;32m     10\u001b[0m \u001b[0;34m\u001b[0m\u001b[0m\n\u001b[0;32m---> 11\u001b[0;31m \u001b[0;32mfrom\u001b[0m \u001b[0;34m...\u001b[0m\u001b[0mdata\u001b[0m \u001b[0;32mimport\u001b[0m \u001b[0mDataset\u001b[0m\u001b[0;34m\u001b[0m\u001b[0;34m\u001b[0m\u001b[0m\n\u001b[0m\u001b[1;32m     12\u001b[0m \u001b[0;32mfrom\u001b[0m \u001b[0;34m...\u001b[0m\u001b[0mutils\u001b[0m\u001b[0;34m.\u001b[0m\u001b[0mgeom_utils\u001b[0m \u001b[0;32mimport\u001b[0m \u001b[0mgeodataframe_from_dataframe\u001b[0m\u001b[0;34m\u001b[0m\u001b[0;34m\u001b[0m\u001b[0m\n\u001b[1;32m     13\u001b[0m \u001b[0;32mfrom\u001b[0m \u001b[0;34m.\u001b[0m\u001b[0mservice\u001b[0m \u001b[0;32mimport\u001b[0m \u001b[0mService\u001b[0m\u001b[0;34m\u001b[0m\u001b[0;34m\u001b[0m\u001b[0m\n",
      "\u001b[0;31mImportError\u001b[0m: cannot import name 'Dataset' from 'cartoframes.data' (/Users/elena/Projects/CARTO/carto-data-science-stack/cartoframes/cartoframes/data/__init__.py)"
     ]
    }
   ],
   "source": [
    "from cartoframes.data.services import Geocoding\n",
    "\n",
    "df = pandas.DataFrame([\n",
    "         ['Calle Serrano 15'],\n",
    "         ['Calle de San Pedro 21'],\n",
    "         ['Calle Gran Vía 46'],\n",
    "         ['Paseo de la Castellana 200'],\n",
    "         ['Calle Ntra. Sra. del Carmen 7'],\n",
    "         ['Calle de San Germán 12'],\n",
    "         ['Calle de Bravo Murillo 377'],\n",
    "    ],\n",
    "    columns=['address']\n",
    ")\n",
    "\n",
    "gc = Geocoding()\n",
    "df_data, df_metadata = gc.geocode(df, street='address', city={'value': 'Madrid'}, country={'value': 'Spain'})"
   ]
  },
  {
   "cell_type": "code",
   "execution_count": null,
   "metadata": {},
   "outputs": [],
   "source": [
    "print(df_metadata)"
   ]
  },
  {
   "cell_type": "code",
   "execution_count": null,
   "metadata": {},
   "outputs": [],
   "source": [
    "df_data.head()"
   ]
  },
  {
   "cell_type": "code",
   "execution_count": null,
   "metadata": {},
   "outputs": [],
   "source": [
    "df_data.viz()"
   ]
  },
  {
   "cell_type": "code",
   "execution_count": null,
   "metadata": {},
   "outputs": [],
   "source": [
    "from cartoframes.data.services import Isolines\n",
    "\n",
    "iso_service = Isolines()\n",
    "isochrones = iso_service.isochrones(df_data, [100, 200, 300], mode='walk', dry_run=True)\n",
    "\n",
    "print('Available Quota: {0}'.format(iso_service.available_quota()))\n",
    "print('Required Quota: {0}'.format(isochrones.metadata.get('required_quota')))"
   ]
  },
  {
   "cell_type": "code",
   "execution_count": null,
   "metadata": {},
   "outputs": [],
   "source": [
    "isochrones = iso_service.isochrones(df_data, [100, 200, 300], mode='walk')\n",
    "\n",
    "print(isochrones.data)"
   ]
  },
  {
   "cell_type": "code",
   "execution_count": null,
   "metadata": {},
   "outputs": [],
   "source": [
    "Map([\n",
    "    Layer(isochrones.data),\n",
    "    Layer(ds)\n",
    "])"
   ]
  },
  {
   "cell_type": "code",
   "execution_count": null,
   "metadata": {},
   "outputs": [],
   "source": [
    "Map([\n",
    "    Layer(isochrones.data, 'color: opacity(green, 0.2) strokeWidth: 1'),\n",
    "    Layer(ds, 'width: 1 strokeWidth: 3')\n",
    "])"
   ]
  }
 ],
 "metadata": {
  "kernelspec": {
   "display_name": "Python 3",
   "language": "python",
   "name": "python3"
  },
  "language_info": {
   "codemirror_mode": {
    "name": "ipython",
    "version": 3
   },
   "file_extension": ".py",
   "mimetype": "text/x-python",
   "name": "python",
   "nbconvert_exporter": "python",
   "pygments_lexer": "ipython3",
   "version": "3.7.4"
  }
 },
 "nbformat": 4,
 "nbformat_minor": 2
}
