{
 "cells": [
  {
   "cell_type": "code",
   "execution_count": 1,
   "metadata": {},
   "outputs": [],
   "source": [
    "import cartoframes"
   ]
  },
  {
   "cell_type": "code",
   "execution_count": 10,
   "metadata": {},
   "outputs": [],
   "source": [
    "from cartoframes.carto_geocoder import CartoGeocoder"
   ]
  },
  {
   "cell_type": "code",
   "execution_count": 12,
   "metadata": {},
   "outputs": [],
   "source": [
    "cc = cartoframes.CartoContext()\n",
    "gc = CartoGeocoder(cc, dataset='untitled_table_9', street='name', country=\"'Spain'\")"
   ]
  },
  {
   "cell_type": "code",
   "execution_count": 13,
   "metadata": {},
   "outputs": [
    {
     "data": {
      "text/plain": [
       "{'total_rows': 175,\n",
       " 'required_quota': 0,\n",
       " 'previously_geocoded': 164,\n",
       " 'previously_failed': 11,\n",
       " 'records_with_geometry': 164}"
      ]
     },
     "execution_count": 13,
     "metadata": {},
     "output_type": "execute_result"
    }
   ],
   "source": [
    "gc.preview()"
   ]
  },
  {
   "cell_type": "code",
   "execution_count": 14,
   "metadata": {},
   "outputs": [
    {
     "name": "stdout",
     "output_type": "stream",
     "text": [
      "\u001b[1mcarto-geocoder/2\u001b[0m 2019-05-13 14:04:05 : \u001b[91mdead\u001b[0m : C:\u001b[92m1\u001b[0m S:\u001b[94m0\u001b[0m F:\u001b[31m0\u001b[0m L:\u001b[91m0\u001b[0m Q:\u001b[95m0\u001b[0m R:\u001b[93m0\u001b[0m\n",
      "\u001b[1mcarto-geocoder/2/1\u001b[0m 2019-05-13 14:04:05 : \u001b[92msuccess\u001b[0m (ran from 2019-05-13 14:04:06+00:00 to 2019-05-13 14:04:08+00:00)\n",
      "\u001b[94m\n",
      "Task received by client 2019-05-13 14:04:06\n",
      "Building Task Directory 2019-05-13 14:04:06\n",
      "Task started by client 2019-05-13 14:04:06\n",
      "Exit Code: 0 2019-05-13 14:04:08\n",
      "\n",
      "\u001b[0m\u001b[93m\n",
      "{\"total_rows\": 175, \"required_quota\": 0, \"previously_geocoded\": 164, \"previously_failed\": 11, \"records_with_geometry\": 164}\n",
      "\n",
      "\n",
      "\u001b[0m\u001b[31m\n",
      "2019-05-13 14:04:06,696 INFO dataset = \"untitled_table_9\"\n",
      "2019-05-13 14:04:06,696 INFO street = \"name\"\n",
      "2019-05-13 14:04:06,696 INFO city = \"None\"\n",
      "2019-05-13 14:04:06,696 INFO state = \"\"\n",
      "2019-05-13 14:04:06,696 INFO country = \"'Spain'\"\n",
      "2019-05-13 14:04:06,696 INFO metadata = \"None\"\n",
      "2019-05-13 14:04:06,696 INFO dry = \"None\"\n",
      "\u001b[0m\n"
     ]
    }
   ],
   "source": [
    "result = gc.run(verbose=True)"
   ]
  },
  {
   "cell_type": "code",
   "execution_count": 15,
   "metadata": {},
   "outputs": [
    {
     "data": {
      "text/plain": [
       "{'total_rows': 175,\n",
       " 'required_quota': 0,\n",
       " 'previously_geocoded': 164,\n",
       " 'previously_failed': 11,\n",
       " 'records_with_geometry': 164}"
      ]
     },
     "execution_count": 15,
     "metadata": {},
     "output_type": "execute_result"
    }
   ],
   "source": [
    "result"
   ]
  },
  {
   "cell_type": "code",
   "execution_count": 16,
   "metadata": {},
   "outputs": [
    {
     "data": {
      "text/plain": [
       "{'total_rows': 175,\n",
       " 'required_quota': 0,\n",
       " 'previously_geocoded': 164,\n",
       " 'previously_failed': 11,\n",
       " 'records_with_geometry': 164}"
      ]
     },
     "execution_count": 16,
     "metadata": {},
     "output_type": "execute_result"
    }
   ],
   "source": [
    "gc.run()"
   ]
  },
  {
   "cell_type": "code",
   "execution_count": 18,
   "metadata": {},
   "outputs": [],
   "source": [
    "schedule = gc.run_on_table_changes('jgoizueta.untitled_table_9')"
   ]
  },
  {
   "cell_type": "markdown",
   "metadata": {},
   "source": [
    "(4 rows are inserted in the table)"
   ]
  },
  {
   "cell_type": "code",
   "execution_count": 19,
   "metadata": {},
   "outputs": [
    {
     "data": {
      "text/plain": [
       "b'{\"total_rows\": 183, \"required_quota\": 4, \"previously_geocoded\": 168, \"previously_failed\": 11, \"records_with_geometry\": 168, \"updated_rows\": 4, \"final_records_with_geometry\": 172, \"geocoded_increment\": 4, \"successfully_geocoded\": 4, \"failed_geocodings\": 0}\\n'"
      ]
     },
     "execution_count": 19,
     "metadata": {},
     "output_type": "execute_result"
    }
   ],
   "source": [
    "gc.last_geocoding(schedule)"
   ]
  },
  {
   "cell_type": "code",
   "execution_count": 20,
   "metadata": {},
   "outputs": [
    {
     "data": {
      "text/plain": [
       "{'schedule_id': 'b384fad030bc45e5adb61b9ae7cea6bb'}"
      ]
     },
     "execution_count": 20,
     "metadata": {},
     "output_type": "execute_result"
    }
   ],
   "source": [
    "schedule.stop()"
   ]
  },
  {
   "cell_type": "code",
   "execution_count": null,
   "metadata": {},
   "outputs": [],
   "source": []
  }
 ],
 "metadata": {
  "kernelspec": {
   "display_name": "cftest",
   "language": "python",
   "name": "cftest"
  },
  "language_info": {
   "codemirror_mode": {
    "name": "ipython",
    "version": 3
   },
   "file_extension": ".py",
   "mimetype": "text/x-python",
   "name": "python",
   "nbconvert_exporter": "python",
   "pygments_lexer": "ipython3",
   "version": "3.7.3"
  }
 },
 "nbformat": 4,
 "nbformat_minor": 2
}
