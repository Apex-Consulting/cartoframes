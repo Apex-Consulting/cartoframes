{
 "cells": [
  {
   "cell_type": "markdown",
   "metadata": {},
   "source": [
    "# Publish a private visualization\n",
    "\n",
    "This example illustrate how to publish a private visualization.\n",
    "\n",
    "Read more about Maps API Keys: https://carto.com/developers/auth-api/guides/types-of-API-Keys/\n",
    "\n",
    "> Note: CARTO Account credentials are needed to reproduce this example. https://carto.com/signup"
   ]
  },
  {
   "cell_type": "code",
   "execution_count": null,
   "metadata": {},
   "outputs": [],
   "source": [
    "from cartoframes.auth import set_default_credentials\n",
    "\n",
    "set_default_credentials('johnsmith', '1a2b3c4d5e6f7g8h9i0j')"
   ]
  },
  {
   "cell_type": "code",
   "execution_count": null,
   "metadata": {},
   "outputs": [],
   "source": [
    "import geopandas\n",
    "\n",
    "df = geopandas.read_file('../files/sustainable_palm_oil_production_mills.geojson')\n",
    "df.head()"
   ]
  },
  {
   "cell_type": "code",
   "execution_count": null,
   "metadata": {},
   "outputs": [],
   "source": [
    "from cartoframes.data import Dataset\n",
    "\n",
    "ds = Dataset(df)\n",
    "ds.upload(table_name='sustainable_palm_oil_production_mills_private', if_exists=Dataset.IF_EXISTS_REPLACE)"
   ]
  },
  {
   "cell_type": "code",
   "execution_count": null,
   "metadata": {},
   "outputs": [],
   "source": [
    "from cartoframes.viz import Map, Layer\n",
    "\n",
    "maps_api_key = 'q1we2rt3y' # Manually created in the CARTO Dashboard\n",
    "map_viz = Map(Layer(ds))\n",
    "map_viz.sync_data(table_name='sustainable_palm_oil_production_mills_private_map')\n",
    "map_viz.publish(name='sustainable_palm_oil_production_mills_private_map', maps_api_key=maps_api_key, password='mypassword')"
   ]
  }
 ],
 "metadata": {
  "kernelspec": {
   "display_name": "Python 3",
   "language": "python",
   "name": "python3"
  },
  "language_info": {
   "codemirror_mode": {
    "name": "ipython",
    "version": 3
   },
   "file_extension": ".py",
   "mimetype": "text/x-python",
   "name": "python",
   "nbconvert_exporter": "python",
   "pygments_lexer": "ipython3",
   "version": "3.6.8"
  }
 },
 "nbformat": 4,
 "nbformat_minor": 2
}
