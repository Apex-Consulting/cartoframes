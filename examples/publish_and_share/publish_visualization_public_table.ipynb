{
 "cells": [
  {
   "cell_type": "markdown",
   "metadata": {},
   "source": [
    "# Publish a visualization from a public table\n",
    "\n",
    "This example illustrate how to publish a visualization using a public table. Using public tables does not require to create Maps API keys for the visualization.\n",
    "\n",
    "Read more about Maps API Keys: https://carto.com/developers/auth-api/guides/types-of-API-Keys/\n",
    "\n",
    "> Note: CARTO Account credentials are needed to reproduce this example. https://carto.com/signup"
   ]
  },
  {
   "cell_type": "code",
   "execution_count": 1,
   "metadata": {},
   "outputs": [],
   "source": [
    "from cartoframes.auth import set_default_credentials\n",
    "\n",
    "set_default_credentials('creds.json')"
   ]
  },
  {
   "cell_type": "code",
   "execution_count": 2,
   "metadata": {},
   "outputs": [],
   "source": [
    "from cartoframes.viz import Map, Layer\n",
    "\n",
    "map_viz = Map(Layer('public_table'))"
   ]
  },
  {
   "cell_type": "code",
   "execution_count": 3,
   "metadata": {},
   "outputs": [
    {
     "data": {
      "text/plain": [
       "{'id': 'a9de67cb-d648-44ea-914a-c7768d80f053',\n",
       " 'url': 'https://team.carto.com/u/arroyo-carto/kuviz/a9de67cb-d648-44ea-914a-c7768d80f053',\n",
       " 'name': 'map_public_table',\n",
       " 'privacy': 'public'}"
      ]
     },
     "execution_count": 3,
     "metadata": {},
     "output_type": "execute_result"
    }
   ],
   "source": [
    "map_viz.publish(\n",
    "    name='map_public_table',\n",
    "    password=None,\n",
    "    if_exists='replace')"
   ]
  }
 ],
 "metadata": {
  "kernelspec": {
   "display_name": "Python 3",
   "language": "python",
   "name": "python3"
  },
  "language_info": {
   "codemirror_mode": {
    "name": "ipython",
    "version": 3
   },
   "file_extension": ".py",
   "mimetype": "text/x-python",
   "name": "python",
   "nbconvert_exporter": "python",
   "pygments_lexer": "ipython3",
   "version": "3.6.7"
  }
 },
 "nbformat": 4,
 "nbformat_minor": 2
}
