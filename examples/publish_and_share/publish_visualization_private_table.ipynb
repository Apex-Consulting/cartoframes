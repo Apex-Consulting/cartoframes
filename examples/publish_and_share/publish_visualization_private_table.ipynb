{
 "cells": [
  {
   "cell_type": "markdown",
   "metadata": {},
   "source": [
    "# Publish a visualization from a private table\n",
    "\n",
    "This example illustrate how to publish a visualization using a private table. Using private tables requires to create Maps API keys for the visualization. By default it creates a custom Maps API key for all the private tables used in the visualization if not provided.\n",
    "\n",
    "Read more about Maps API Keys: https://carto.com/developers/auth-api/guides/types-of-API-Keys/\n",
    "\n",
    "> Note: CARTO Account credentials are needed to reproduce this example. https://carto.com/signup"
   ]
  },
  {
   "cell_type": "code",
   "execution_count": 1,
   "metadata": {},
   "outputs": [],
   "source": [
    "from cartoframes.auth import set_default_credentials\n",
    "\n",
    "set_default_credentials('creds.json')"
   ]
  },
  {
   "cell_type": "code",
   "execution_count": 2,
   "metadata": {},
   "outputs": [],
   "source": [
    "from cartoframes.viz import Map, Layer\n",
    "\n",
    "map_viz = Map(Layer('private_table'))"
   ]
  },
  {
   "cell_type": "code",
   "execution_count": 3,
   "metadata": {},
   "outputs": [
    {
     "name": "stdout",
     "output_type": "stream",
     "text": [
      "Publishing a map that uses private datasets requires a Maps API key. The \"8OTBbhGwd42JNi1e8kdhIg\" API key is being used for these datasets ['private_table']. You can manage your API keys on your account\n"
     ]
    },
    {
     "data": {
      "text/plain": [
       "{'id': 'b1d1ba7d-1e23-476c-bbfe-be6c7def4d7f',\n",
       " 'url': 'https://team.carto.com/u/arroyo-carto/kuviz/b1d1ba7d-1e23-476c-bbfe-be6c7def4d7f',\n",
       " 'name': 'map_private_table',\n",
       " 'privacy': 'password'}"
      ]
     },
     "execution_count": 3,
     "metadata": {},
     "output_type": "execute_result"
    }
   ],
   "source": [
    "map_viz.publish(\n",
    "    name='map_private_table',\n",
    "    password='1234',\n",
    "    if_exists='replace')"
   ]
  },
  {
   "cell_type": "markdown",
   "metadata": {},
   "source": [
    "The Maps API key can be created in the CARTO Dashboard and provided to the method. "
   ]
  },
  {
   "cell_type": "code",
   "execution_count": 4,
   "metadata": {},
   "outputs": [
    {
     "data": {
      "text/plain": [
       "{'id': 'b1d1ba7d-1e23-476c-bbfe-be6c7def4d7f',\n",
       " 'url': 'https://team.carto.com/u/arroyo-carto/kuviz/b1d1ba7d-1e23-476c-bbfe-be6c7def4d7f',\n",
       " 'name': 'map_private_table',\n",
       " 'privacy': 'password'}"
      ]
     },
     "execution_count": 4,
     "metadata": {},
     "output_type": "execute_result"
    }
   ],
   "source": [
    "map_viz.publish(\n",
    "    name='map_private_table',\n",
    "    password='password',\n",
    "    if_exists='replace',\n",
    "    maps_api_key='8OTBbhGwd42JNi1e8kdhIg')"
   ]
  }
 ],
 "metadata": {
  "kernelspec": {
   "display_name": "Python 3",
   "language": "python",
   "name": "python3"
  },
  "language_info": {
   "codemirror_mode": {
    "name": "ipython",
    "version": 3
   },
   "file_extension": ".py",
   "mimetype": "text/x-python",
   "name": "python",
   "nbconvert_exporter": "python",
   "pygments_lexer": "ipython3",
   "version": "3.7.4"
  }
 },
 "nbformat": 4,
 "nbformat_minor": 2
}
