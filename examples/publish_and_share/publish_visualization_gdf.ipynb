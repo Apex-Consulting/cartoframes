{
 "cells": [
  {
   "cell_type": "markdown",
   "metadata": {},
   "source": [
    "# Publish a visualization from a GeoDataFrame\n",
    "\n",
    "This example illustrate how to publish a visualization using a GeoDataFrame.\n",
    "\n",
    "Read more about Maps API Keys: https://carto.com/developers/auth-api/guides/types-of-API-Keys/\n",
    "\n",
    "> Note: CARTO Account credentials are needed to reproduce this example. https://carto.com/signup"
   ]
  },
  {
   "cell_type": "code",
   "execution_count": 1,
   "metadata": {},
   "outputs": [],
   "source": [
    "from cartoframes.auth import set_default_credentials\n",
    "\n",
    "set_default_credentials('creds.json')"
   ]
  },
  {
   "cell_type": "code",
   "execution_count": 2,
   "metadata": {},
   "outputs": [],
   "source": [
    "from geopandas import read_file\n",
    "\n",
    "gdf = read_file('http://libs.cartocdn.com/cartoframes/files/sustainable_palm_oil_production_mills.geojson')"
   ]
  },
  {
   "cell_type": "code",
   "execution_count": 3,
   "metadata": {},
   "outputs": [],
   "source": [
    "from cartoframes.viz import Map, Layer\n",
    "\n",
    "map_viz = Map(Layer(gdf))"
   ]
  },
  {
   "cell_type": "code",
   "execution_count": 4,
   "metadata": {},
   "outputs": [
    {
     "data": {
      "text/plain": [
       "{'id': '0f866bd6-4ced-4276-ba3c-38c80331f53a',\n",
       " 'url': 'https://team.carto.com/u/cmonteserin/kuviz/0f866bd6-4ced-4276-ba3c-38c80331f53a',\n",
       " 'name': 'map_gdf',\n",
       " 'privacy': 'password'}"
      ]
     },
     "execution_count": 4,
     "metadata": {},
     "output_type": "execute_result"
    }
   ],
   "source": [
    "map_viz.publish(\n",
    "    name='map_gdf',\n",
    "    password='password',\n",
    "    if_exists='replace')"
   ]
  },
  {
   "cell_type": "markdown",
   "metadata": {},
   "source": [
    "## Recomendation\n",
    "\n",
    "The performance of visualizations can be affected by using large GeoDataFrames. There is also a size limit of 10MB per visualization published. Our recomentation in these cases is to upload the data to a table in CARTO, and use the table as the source in the Layer."
   ]
  },
  {
   "cell_type": "code",
   "execution_count": 5,
   "metadata": {},
   "outputs": [
    {
     "name": "stdout",
     "output_type": "stream",
     "text": [
      "Success! Data uploaded to table \"table_name\" correctly\n"
     ]
    }
   ],
   "source": [
    "from cartoframes import to_carto\n",
    "\n",
    "to_carto(gdf, 'table_name', if_exists='replace')"
   ]
  },
  {
   "cell_type": "code",
   "execution_count": 6,
   "metadata": {},
   "outputs": [],
   "source": [
    "map_viz = Map(Layer('table_name'))"
   ]
  },
  {
   "cell_type": "code",
   "execution_count": 7,
   "metadata": {},
   "outputs": [
    {
     "name": "stdout",
     "output_type": "stream",
     "text": [
      "The map has been published. The \"6ilVUIANXikS0ZSBdX5ufg\" Maps API key is being used for these datasets ['table_name']. You can manage your API keys on your account\n"
     ]
    },
    {
     "data": {
      "text/plain": [
       "{'id': '9b5f5be5-83f3-4664-bb67-f6fa8c666775',\n",
       " 'url': 'https://team.carto.com/u/cmonteserin/kuviz/9b5f5be5-83f3-4664-bb67-f6fa8c666775',\n",
       " 'name': 'map_table',\n",
       " 'privacy': 'password'}"
      ]
     },
     "execution_count": 7,
     "metadata": {},
     "output_type": "execute_result"
    }
   ],
   "source": [
    "map_viz.publish(\n",
    "    name='map_table',\n",
    "    password='password',\n",
    "    if_exists='replace')"
   ]
  }
 ],
 "metadata": {
  "kernelspec": {
   "display_name": "Python 3",
   "language": "python",
   "name": "python3"
  },
  "language_info": {
   "codemirror_mode": {
    "name": "ipython",
    "version": 3
   },
   "file_extension": ".py",
   "mimetype": "text/x-python",
   "name": "python",
   "nbconvert_exporter": "python",
   "pygments_lexer": "ipython3",
   "version": "3.7.4"
  }
 },
 "nbformat": 4,
 "nbformat_minor": 2
}
