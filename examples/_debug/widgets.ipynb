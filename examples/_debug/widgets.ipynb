{
 "cells": [
  {
   "cell_type": "code",
   "execution_count": null,
   "metadata": {},
   "outputs": [],
   "source": [
    "from cartoframes.auth import set_default_context\n",
    "from cartoframes.viz import Map, Layer\n",
    "\n",
    "set_default_context('https://cartovl.carto.com/')"
   ]
  },
  {
   "cell_type": "code",
   "execution_count": null,
   "metadata": {},
   "outputs": [],
   "source": [
    "Map(\n",
    "    Layer(\n",
    "        'spend_data',\n",
    "        widgets=[{\n",
    "            'type': 'formula',\n",
    "            'value': 'viewportSum($amount)',\n",
    "            'title': 'Total $amount',\n",
    "            'description': 'feature count',\n",
    "            'footer': 'source: spend_data'\n",
    "        }]\n",
    "    ),\n",
    "    _airship_path='http://localhost:5000'\n",
    ")"
   ]
  },
  {
   "cell_type": "code",
   "execution_count": null,
   "metadata": {},
   "outputs": [],
   "source": [
    "Map(\n",
    "    Layer(\n",
    "        'spend_data',\n",
    "        widgets={\n",
    "            'type': 'default',\n",
    "            'value': '\"Custom Info\"'\n",
    "        }\n",
    "    )\n",
    ")"
   ]
  },
  {
   "cell_type": "code",
   "execution_count": null,
   "metadata": {},
   "outputs": [],
   "source": [
    "Map(\n",
    "    Layer(\n",
    "        'spend_data',\n",
    "        widgets=[\n",
    "            {\n",
    "                'type': 'formula',\n",
    "                'value': 'viewportSum($amount)',\n",
    "                'title': 'Total $amount'\n",
    "            }, {\n",
    "                'type': 'formula',\n",
    "                'value': 'viewportAvg($amount)',\n",
    "                'title': 'Avg $amount',\n",
    "                'footer': 'source: spend_data'\n",
    "            }\n",
    "        ]\n",
    "    )\n",
    ")"
   ]
  },
  {
   "cell_type": "code",
   "execution_count": null,
   "metadata": {},
   "outputs": [],
   "source": [
    "Map(\n",
    "    [Layer(\n",
    "        'spend_data',\n",
    "        'color: blue',\n",
    "        widgets={\n",
    "                'type': 'formula',\n",
    "                'value': 'viewportSum($amount)',\n",
    "                'title': 'Total $amount'\n",
    "            }\n",
    "    ),\n",
    "    Layer(\n",
    "        'populated_places',\n",
    "        widgets={\n",
    "            'type': 'default',\n",
    "            'value': '\"Populated Places\"'\n",
    "        }\n",
    "    )],\n",
    "    viewport={'zoom': 6.41, 'lat': 40.762873, 'lng': 1.958095}\n",
    ")"
   ]
  },
  {
   "cell_type": "code",
   "execution_count": null,
   "metadata": {},
   "outputs": [],
   "source": [
    "Map(\n",
    "    Layer(\n",
    "        'seattle_collisions',\n",
    "        '''\n",
    "            color: ramp($addrtype, Bold)\n",
    "            strokeWidth: 0\n",
    "        ''',\n",
    "        widgets=[{\n",
    "            'type': 'formula',\n",
    "            'value': 'viewportSum($sdot_colcode)',\n",
    "            'title': 'Total $personcount',\n",
    "            'description': 'feature count'\n",
    "        },\n",
    "        {\n",
    "            'type': 'category',\n",
    "            'value': 'addrtype',\n",
    "            'title': 'Address type',\n",
    "            'options': {\n",
    "                'read_only': False\n",
    "            }\n",
    "        }]\n",
    "    ),\n",
    "    _airship_path='http://localhost:5000'\n",
    ")"
   ]
  },
  {
   "cell_type": "code",
   "execution_count": null,
   "metadata": {},
   "outputs": [],
   "source": []
  }
 ],
 "metadata": {
  "kernelspec": {
   "display_name": "Python 3",
   "language": "python",
   "name": "python3"
  },
  "language_info": {
   "codemirror_mode": {
    "name": "ipython",
    "version": 3
   },
   "file_extension": ".py",
   "mimetype": "text/x-python",
   "name": "python",
   "nbconvert_exporter": "python",
   "pygments_lexer": "ipython3",
   "version": "3.7.2"
  }
 },
 "nbformat": 4,
 "nbformat_minor": 2
}
