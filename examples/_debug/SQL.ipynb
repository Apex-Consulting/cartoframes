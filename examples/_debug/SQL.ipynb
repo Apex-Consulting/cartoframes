{
 "cells": [
  {
   "cell_type": "code",
   "execution_count": 1,
   "metadata": {},
   "outputs": [],
   "source": [
    "from cartoframes.auth import Credentials\n",
    "from cartoframes.client import SQLClient"
   ]
  },
  {
   "cell_type": "code",
   "execution_count": 2,
   "metadata": {},
   "outputs": [],
   "source": [
    "creds = Credentials(username='cartovl', api_key='default_public')\n",
    "\n",
    "sql_client = SQLClient(creds)"
   ]
  },
  {
   "cell_type": "code",
   "execution_count": 3,
   "metadata": {},
   "outputs": [
    {
     "data": {
      "text/plain": [
       "[{'adm_0_cap_name': 'City'}, {'adm_0_cap_name': 'Capital'}]"
      ]
     },
     "execution_count": 3,
     "metadata": {},
     "output_type": "execute_result"
    }
   ],
   "source": [
    "sql_client.query('SELECT DISTINCT adm_0_cap_name FROM populated_places')"
   ]
  },
  {
   "cell_type": "code",
   "execution_count": 4,
   "metadata": {},
   "outputs": [
    {
     "data": {
      "text/plain": [
       "[{'count': 7322}]"
      ]
     },
     "execution_count": 4,
     "metadata": {},
     "output_type": "execute_result"
    }
   ],
   "source": [
    "sql_client.query('SELECT COUNT(*) FROM populated_places')"
   ]
  },
  {
   "cell_type": "code",
   "execution_count": 5,
   "metadata": {},
   "outputs": [
    {
     "data": {
      "text/plain": [
       "{'rows': [{'count': 7322}],\n",
       " 'time': 0.003,\n",
       " 'fields': {'count': {'type': 'number', 'pgtype': 'int8'}},\n",
       " 'total_rows': 1}"
      ]
     },
     "execution_count": 5,
     "metadata": {},
     "output_type": "execute_result"
    }
   ],
   "source": [
    "sql_client.query('SELECT COUNT(*) FROM populated_places', verbose=True)"
   ]
  },
  {
   "cell_type": "code",
   "execution_count": 6,
   "metadata": {
    "scrolled": true
   },
   "outputs": [
    {
     "name": "stderr",
     "output_type": "stream",
     "text": [
      "/home/jesus/code/carto/Trident/venv/src/carto/carto/sql.py:229: UserWarning: Batch SQL job created with job_id: 3059d339-9e93-4b1f-8f12-d0a52e1ed340\n",
      "  warnings.warn('Batch SQL job created with job_id: {job_id}'.format(job_id=data['job_id']))\n"
     ]
    },
    {
     "data": {
      "text/plain": [
       "{'user': 'cartovl',\n",
       " 'status': 'done',\n",
       " 'query': 'SELECT * FROM populated_places',\n",
       " 'created_at': '2019-07-11T13:44:48.982Z',\n",
       " 'updated_at': '2019-07-11T13:44:49.114Z',\n",
       " 'job_id': '3059d339-9e93-4b1f-8f12-d0a52e1ed340'}"
      ]
     },
     "execution_count": 6,
     "metadata": {},
     "output_type": "execute_result"
    }
   ],
   "source": [
    "sql_client.execute('SELECT * FROM populated_places')"
   ]
  },
  {
   "cell_type": "code",
   "execution_count": 7,
   "metadata": {},
   "outputs": [
    {
     "data": {
      "text/plain": [
       "['City', 'Capital']"
      ]
     },
     "execution_count": 7,
     "metadata": {},
     "output_type": "execute_result"
    }
   ],
   "source": [
    "sql_client.distinct('populated_places', 'adm_0_cap_name')"
   ]
  },
  {
   "cell_type": "code",
   "execution_count": 8,
   "metadata": {},
   "outputs": [
    {
     "data": {
      "text/plain": [
       "7322"
      ]
     },
     "execution_count": 8,
     "metadata": {},
     "output_type": "execute_result"
    }
   ],
   "source": [
    "sql_client.count('populated_places')"
   ]
  },
  {
   "cell_type": "code",
   "execution_count": 9,
   "metadata": {},
   "outputs": [
    {
     "data": {
      "text/plain": [
       "[[-16.2500006525, 28.0999760122], [2.65424597028, 43.530016092]]"
      ]
     },
     "execution_count": 9,
     "metadata": {},
     "output_type": "execute_result"
    }
   ],
   "source": [
    "sql_client.bounds('SELECT * FROM populated_places WHERE adm0name = \\'Spain\\'')"
   ]
  },
  {
   "cell_type": "code",
   "execution_count": 10,
   "metadata": {},
   "outputs": [
    {
     "name": "stderr",
     "output_type": "stream",
     "text": [
      "/home/jesus/code/carto/Trident/venv/src/carto/carto/sql.py:229: UserWarning: Batch SQL job created with job_id: c7bd4646-7fc3-46b4-a21a-05e292e80fcf\n",
      "  warnings.warn('Batch SQL job created with job_id: {job_id}'.format(job_id=data['job_id']))\n"
     ]
    },
    {
     "data": {
      "text/plain": [
       "{'user': 'cartovl',\n",
       " 'status': 'done',\n",
       " 'query': 'CREATE TABLE test (id INT,name TEXT);',\n",
       " 'created_at': '2019-07-11T13:44:52.422Z',\n",
       " 'updated_at': '2019-07-11T13:44:52.511Z',\n",
       " 'job_id': 'c7bd4646-7fc3-46b4-a21a-05e292e80fcf'}"
      ]
     },
     "execution_count": 10,
     "metadata": {},
     "output_type": "execute_result"
    }
   ],
   "source": [
    "sql_client.create_table('test', ['id INT', 'name TEXT'])"
   ]
  },
  {
   "cell_type": "code",
   "execution_count": 11,
   "metadata": {},
   "outputs": [
    {
     "name": "stderr",
     "output_type": "stream",
     "text": [
      "/home/jesus/code/carto/Trident/venv/src/carto/carto/sql.py:229: UserWarning: Batch SQL job created with job_id: d43198b7-9a1e-4260-a95d-b07a2c9e775e\n",
      "  warnings.warn('Batch SQL job created with job_id: {job_id}'.format(job_id=data['job_id']))\n"
     ]
    },
    {
     "data": {
      "text/plain": [
       "{'user': 'cartovl',\n",
       " 'status': 'done',\n",
       " 'query': 'DROP TABLE test;',\n",
       " 'created_at': '2019-07-11T13:44:54.803Z',\n",
       " 'updated_at': '2019-07-11T13:44:54.920Z',\n",
       " 'job_id': 'd43198b7-9a1e-4260-a95d-b07a2c9e775e'}"
      ]
     },
     "execution_count": 11,
     "metadata": {},
     "output_type": "execute_result"
    }
   ],
   "source": [
    "sql_client.drop_table('test')"
   ]
  }
 ],
 "metadata": {
  "kernelspec": {
   "display_name": "Python 3",
   "language": "python",
   "name": "python3"
  },
  "language_info": {
   "codemirror_mode": {
    "name": "ipython",
    "version": 3
   },
   "file_extension": ".py",
   "mimetype": "text/x-python",
   "name": "python",
   "nbconvert_exporter": "python",
   "pygments_lexer": "ipython3",
   "version": "3.6.7"
  }
 },
 "nbformat": 4,
 "nbformat_minor": 2
}
