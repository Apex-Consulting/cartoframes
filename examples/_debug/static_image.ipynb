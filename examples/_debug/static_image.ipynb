{
 "cells": [
  {
   "cell_type": "code",
   "execution_count": null,
   "metadata": {},
   "outputs": [],
   "source": [
    "from cartoframes.auth import set_default_credentials\n",
    "from cartoframes.viz import Map, Layer\n",
    "from cartoframes.viz.helpers import color_bins_layer\n",
    "\n",
    "set_default_credentials(\n",
    "  base_url='https://cartoframes.carto.com/', # or https://cartovl.carto.com/\n",
    "  api_key='default_public'\n",
    ")\n",
    "\n",
    "Map(\n",
    "  color_bins_layer('spend_data', 'amount'),\n",
    "  _carto_vl_path='http://localhost:8080',\n",
    "  static=True\n",
    ")"
   ]
  },
  {
   "cell_type": "code",
   "execution_count": null,
   "metadata": {},
   "outputs": [],
   "source": []
  },
  {
   "cell_type": "code",
   "execution_count": null,
   "metadata": {},
   "outputs": [],
   "source": []
  }
 ],
 "metadata": {
  "kernelspec": {
   "display_name": "Python 3",
   "language": "python",
   "name": "python3"
  },
  "language_info": {
   "codemirror_mode": {
    "name": "ipython",
    "version": 3
   },
   "file_extension": ".py",
   "mimetype": "text/x-python",
   "name": "python",
   "nbconvert_exporter": "python",
   "pygments_lexer": "ipython3",
   "version": "3.6.7"
  }
 },
 "nbformat": 4,
 "nbformat_minor": 2
}
