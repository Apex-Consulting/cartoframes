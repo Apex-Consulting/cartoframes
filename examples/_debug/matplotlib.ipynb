{
 "cells": [
  {
   "cell_type": "code",
   "execution_count": 3,
   "metadata": {},
   "outputs": [],
   "source": [
    "from matplotlib.backends.backend_agg import FigureCanvasAgg\n",
    "from matplotlib.figure import Figure\n",
    "import numpy as np\n",
    "\n",
    "fig = Figure(figsize=(5, 4), dpi=100)\n",
    "# A canvas must be manually attached to the figure (pyplot would automatically\n",
    "# do it).  This is done by instantiating the canvas with the figure as\n",
    "# argument.\n",
    "canvas = FigureCanvasAgg(fig)\n",
    "\n",
    "# Do some plotting.\n",
    "ax = fig.add_subplot(111)\n",
    "ax.plot([1, 2, 3])\n",
    "\n",
    "# Option 1: Save the figure to a file; can also be a file-like object (BytesIO,\n",
    "# etc.).\n",
    "# fig.savefig(\"test.png\")\n",
    "\n",
    "# Option 2: Save the figure to a string.\n",
    "canvas.draw()\n",
    "s, (width, height) = canvas.print_to_buffer()\n",
    "\n",
    "# Option 2a: Convert to a NumPy array.\n",
    "# X = np.frombuffer(s, np.uint8).reshape((height, width, 4))\n",
    "\n",
    "# Option 2b: Pass off to PIL.\n",
    "# from PIL import Image\n",
    "#im = Image.frombytes(\"RGBA\", (width, height), s)\n",
    "\n",
    "# Uncomment this line to display the image using ImageMagick's `display` tool.\n",
    "# im.show()"
   ]
  },
  {
   "cell_type": "code",
   "execution_count": null,
   "metadata": {},
   "outputs": [],
   "source": []
  }
 ],
 "metadata": {
  "kernelspec": {
   "display_name": "Python 3",
   "language": "python",
   "name": "python3"
  },
  "language_info": {
   "codemirror_mode": {
    "name": "ipython",
    "version": 3
   },
   "file_extension": ".py",
   "mimetype": "text/x-python",
   "name": "python",
   "nbconvert_exporter": "python",
   "pygments_lexer": "ipython3",
   "version": "3.7.2"
  }
 },
 "nbformat": 4,
 "nbformat_minor": 2
}
