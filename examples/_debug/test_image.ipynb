{
 "cells": [
  {
   "cell_type": "code",
   "execution_count": 1,
   "metadata": {
    "scrolled": true
   },
   "outputs": [
    {
     "data": {
      "text/html": [
       "<iframe srcdoc=\"\n",
       "            <div id=&quot;aaaa&quot; style=&quot;background-color: #ff0; height: 200px; widht: 200px&quot;></div>\n",
       "            <script>\n",
       "                comm = window.parent.Jupyter.notebook.kernel.comm_manager.new_comm('my_comm_target')\n",
       "\n",
       "                // Register a handler\n",
       "                comm.on_msg(function(msg) {\n",
       "                    console.log(msg.content.data);\n",
       "                    document.getElementById('aaaa').style = 'background-color:' + msg.content.data + '; height: 200px; widht: 200px';\n",
       "                });\n",
       "                \n",
       "                document.getElementById('aaaa').onclick = function() {\n",
       "                    comm.send('click');\n",
       "                }\n",
       "            </script>\n",
       "        \" width=400 height=400></iframe>"
      ],
      "text/plain": [
       "<__main__.ColorWidget at 0x106794c88>"
      ]
     },
     "metadata": {},
     "output_type": "display_data"
    }
   ],
   "source": [
    "from IPython.core.display import display\n",
    "from ipykernel.comm import Comm\n",
    "\n",
    "# Stolen from cartoframes\n",
    "def safe_quotes(text, escape_single_quotes=False):\n",
    "    \"\"\"htmlify string\"\"\"\n",
    "    if isinstance(text, str):\n",
    "        safe_text = text.replace('\"', \"&quot;\")\n",
    "        if escape_single_quotes:\n",
    "            safe_text = safe_text.replace(\"'\", \"&#92;'\")\n",
    "        return safe_text.replace('True', 'true')\n",
    "    return text\n",
    "\n",
    "class ColorWidget:\n",
    "    def _repr_html_(self):\n",
    "        html = '''\n",
    "            <div id=\"aaaa\" style=\"background-color: #ff0; height: 200px; widht: 200px\"></div>\n",
    "            <script>\n",
    "                comm = window.parent.Jupyter.notebook.kernel.comm_manager.new_comm('my_comm_target')\n",
    "\n",
    "                // Register a handler\n",
    "                comm.on_msg(function(msg) {\n",
    "                    console.log(msg.content.data);\n",
    "                    document.getElementById('aaaa').style = 'background-color:' + msg.content.data + '; height: 200px; widht: 200px';\n",
    "                });\n",
    "                \n",
    "                document.getElementById('aaaa').onclick = function() {\n",
    "                    comm.send('click');\n",
    "                }\n",
    "            </script>\n",
    "        '''\n",
    "        \n",
    "        # Returning the HTMl works\n",
    "        # return html\n",
    "        \n",
    "        return f'<iframe srcdoc=\"{safe_quotes(html)}\" width=400 height=400></iframe>'\n",
    "\n",
    "def target_func(comm, msg):\n",
    "    print('open', msg)\n",
    "    # Register handler for later messages\n",
    "    @comm.on_msg\n",
    "    def _recv(msg):\n",
    "        import random\n",
    "        comm.send(f'#%02x%02x%02x' % (random.randint(0, 256), random.randint(0, 256), random.randint(0, 256)))\n",
    "\n",
    "get_ipython().kernel.comm_manager.register_target('my_comm_target', target_func)\n",
    "\n",
    "display(ColorWidget())"
   ]
  },
  {
   "cell_type": "code",
   "execution_count": null,
   "metadata": {},
   "outputs": [],
   "source": []
  },
  {
   "cell_type": "code",
   "execution_count": null,
   "metadata": {},
   "outputs": [],
   "source": []
  }
 ],
 "metadata": {
  "kernelspec": {
   "display_name": "Python 3",
   "language": "python",
   "name": "python3"
  },
  "language_info": {
   "codemirror_mode": {
    "name": "ipython",
    "version": 3
   },
   "file_extension": ".py",
   "mimetype": "text/x-python",
   "name": "python",
   "nbconvert_exporter": "python",
   "pygments_lexer": "ipython3",
   "version": "3.7.2"
  }
 },
 "nbformat": 4,
 "nbformat_minor": 2
}
