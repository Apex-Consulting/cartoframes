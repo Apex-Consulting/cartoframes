{
 "cells": [
  {
   "cell_type": "code",
   "execution_count": 17,
   "metadata": {
    "scrolled": false
   },
   "outputs": [
    {
     "data": {
      "text/html": [
       "<iframe srcdoc=\"\n",
       "            <canvas id=&quot;canvas&quot;></canvas>\n",
       "            <script>\n",
       "                comm = window.parent.Jupyter.notebook.kernel.comm_manager.new_comm('my_comm_target')\n",
       "                const canvas =  document.getElementById('canvas');\n",
       "                \n",
       "                canvas.addEventListener('click', function() {\n",
       "                    const imageUrl = canvas.toDataURL('image/png');\n",
       "                    comm.send('https://matplotlib.org/_images/image_demo3.png');\n",
       "                })\n",
       "                \n",
       "                comm.on_msg(function(msg) {\n",
       "                    console.log('!!! on_msg', msg.content.data);\n",
       "                });\n",
       "            </script>\n",
       "        \" width=400 height=400></iframe>"
      ],
      "text/plain": [
       "<__main__.ColorWidget at 0x119dd2b70>"
      ]
     },
     "execution_count": 17,
     "metadata": {},
     "output_type": "execute_result"
    }
   ],
   "source": [
    "from ipykernel.comm import Comm\n",
    "import matplotlib.pyplot as plt\n",
    "from IPython.display import display, clear_output\n",
    "\n",
    "# Stolen from cartoframes\n",
    "def safe_quotes(text, escape_single_quotes=False):\n",
    "    \"\"\"htmlify string\"\"\"\n",
    "    if isinstance(text, str):\n",
    "        safe_text = text.replace('\"', \"&quot;\")\n",
    "        if escape_single_quotes:\n",
    "            safe_text = safe_text.replace(\"'\", \"&#92;'\")\n",
    "        return safe_text.replace('True', 'true')\n",
    "    return text\n",
    "\n",
    "class ColorWidget:\n",
    "    def __init__(self):\n",
    "        self.image = None\n",
    "\n",
    "    def _repr_html_(self):\n",
    "        html = '''\n",
    "            <canvas id=\"canvas\"></canvas>\n",
    "            <script>\n",
    "                comm = window.parent.Jupyter.notebook.kernel.comm_manager.new_comm('my_comm_target')\n",
    "                const canvas =  document.getElementById('canvas');\n",
    "                \n",
    "                canvas.addEventListener('click', function() {\n",
    "                    const imageUrl = canvas.toDataURL('image/png');\n",
    "                    comm.send('https://matplotlib.org/_images/image_demo3.png');\n",
    "                })\n",
    "                \n",
    "                comm.on_msg(function(msg) {\n",
    "                    console.log('!!! on_msg', msg.content.data);\n",
    "                });\n",
    "            </script>\n",
    "        '''\n",
    "        \n",
    "        return f'<iframe srcdoc=\"{safe_quotes(html)}\" width=400 height=400></iframe>'\n",
    "\n",
    "def target_func(comm, msg):\n",
    "    @comm.on_msg\n",
    "    def _recv(msg):\n",
    "        display(msg['content']['data'])\n",
    "        comm.send(msg['content']['data'])\n",
    "        fig, ax = plt.subplots()\n",
    "        image = plt.imread(msg['content']['data'])\n",
    "        ax.imshow(image)\n",
    "        ax.axis('off')\n",
    "        plt.show()\n",
    "\n",
    "get_ipython().kernel.comm_manager.register_target('my_comm_target', target_func)\n",
    "\n",
    "wait(\n",
    "    sobreescribir\n",
    ")\n",
    "\n",
    "color_widget = ColorWidget()\n",
    "color_widget"
   ]
  },
  {
   "cell_type": "code",
   "execution_count": 13,
   "metadata": {},
   "outputs": [
    {
     "data": {
      "image/png": "[encoded data removed]",
      "text/plain": [
       "<Figure size 432x288 with 1 Axes>"
      ]
     },
     "metadata": {
      "needs_background": "light"
     },
     "output_type": "display_data"
    }
   ],
   "source": [
    "import matplotlib.pyplot as plt\n",
    "\n",
    "image_file = 'https://matplotlib.org/_images/image_demo3.png'\n",
    "image = plt.imread(image_file)\n",
    "\n",
    "fig, ax = plt.subplots()\n",
    "ax.imshow(image)\n",
    "ax.axis('off')  # clear x- and y-axes\n",
    "plt.show()"
   ]
  },
  {
   "cell_type": "code",
   "execution_count": 5,
   "metadata": {},
   "outputs": [
    {
     "name": "stdout",
     "output_type": "stream",
     "text": [
      "Hello World!\n",
      "Hello World!\n",
      "Hello World!\n",
      "Hello World!\n",
      "Hello World!\n",
      "Hello World!\n",
      "Hello World!\n",
      "Hello World!\n",
      "Hello World!\n",
      "Hello World!\n"
     ]
    }
   ],
   "source": [
    "from IPython.display import clear_output\n",
    "\n",
    "for i in range(10):\n",
    "    print(\"Hello World!\")"
   ]
  },
  {
   "cell_type": "code",
   "execution_count": null,
   "metadata": {},
   "outputs": [],
   "source": []
  }
 ],
 "metadata": {
  "kernelspec": {
   "display_name": "Python 3",
   "language": "python",
   "name": "python3"
  },
  "language_info": {
   "codemirror_mode": {
    "name": "ipython",
    "version": 3
   },
   "file_extension": ".py",
   "mimetype": "text/x-python",
   "name": "python",
   "nbconvert_exporter": "python",
   "pygments_lexer": "ipython3",
   "version": "3.7.2"
  }
 },
 "nbformat": 4,
 "nbformat_minor": 2
}
