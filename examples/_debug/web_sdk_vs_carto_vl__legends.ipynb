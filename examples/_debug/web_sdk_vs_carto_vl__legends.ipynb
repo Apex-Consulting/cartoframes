{
 "cells": [
  {
   "cell_type": "code",
   "execution_count": null,
   "metadata": {},
   "outputs": [],
   "source": [
    "%load_ext autoreload"
   ]
  },
  {
   "cell_type": "code",
   "execution_count": null,
   "metadata": {},
   "outputs": [],
   "source": [
    "%autoreload 2"
   ]
  },
  {
   "cell_type": "code",
   "execution_count": null,
   "metadata": {},
   "outputs": [],
   "source": [
    "from cartoframes.auth import Credentials, set_default_credentials\n",
    "from cartoframes.viz import (\n",
    "    color_bins_style, color_category_style, color_continuous_style,\n",
    "    size_bins_style, size_category_style, size_continuous_style,\n",
    "    basic_legend,\n",
    "    color_bins_legend, color_category_legend, color_continuous_legend,\n",
    "    size_bins_legend, size_category_legend, size_continuous_legend,\n",
    "    Layer, Map\n",
    ")"
   ]
  },
  {
   "cell_type": "markdown",
   "metadata": {},
   "source": [
    "### Basic"
   ]
  },
  {
   "cell_type": "code",
   "execution_count": null,
   "metadata": {},
   "outputs": [],
   "source": [
    "set_default_credentials('cartoframes')\n",
    "\n",
    "tree_basic_legend = basic_legend(title='Tree Map', description='San Francisco, CA',\n",
    "                                 footer='Source: City of SF')"
   ]
  },
  {
   "cell_type": "code",
   "execution_count": null,
   "metadata": {},
   "outputs": [],
   "source": [
    "Map(Layer('trees_sf', legends=tree_basic_legend))"
   ]
  },
  {
   "cell_type": "markdown",
   "metadata": {},
   "source": [
    "### Color category"
   ]
  },
  {
   "cell_type": "code",
   "execution_count": null,
   "metadata": {},
   "outputs": [],
   "source": [
    "set_default_credentials('cartoframes')\n",
    "\n",
    "species_color_category_style = color_category_style('common_species')\n",
    "species_color_category_legend = color_category_legend(title='Trees in San Francisco',\n",
    "                                                      description='Top 3 species',\n",
    "                                                      footer='Data: City of SF')"
   ]
  },
  {
   "cell_type": "code",
   "execution_count": null,
   "metadata": {},
   "outputs": [],
   "source": [
    "Map(Layer('trees_sf', species_color_category_style, legends=species_color_category_legend))"
   ]
  },
  {
   "cell_type": "markdown",
   "metadata": {},
   "source": [
    "### Color bins"
   ]
  },
  {
   "cell_type": "code",
   "execution_count": null,
   "metadata": {},
   "outputs": [],
   "source": [
    "set_default_credentials('cartoframes')\n",
    "\n",
    "masters_color_bins_style = color_bins_style('masters_percent')\n",
    "masters_color_bins_legend = color_bins_legend(title=\"Percent Master's Degree\",\n",
    "                                              description='by block group',\n",
    "                                              footer='Data: US Census',\n",
    "                                              format='.0%')"
   ]
  },
  {
   "cell_type": "code",
   "execution_count": null,
   "metadata": {},
   "outputs": [],
   "source": [
    "Map(Layer('demographics_sf', masters_color_bins_style, legends=masters_color_bins_legend))"
   ]
  },
  {
   "cell_type": "markdown",
   "metadata": {},
   "source": [
    "### Color continuous"
   ]
  },
  {
   "cell_type": "code",
   "execution_count": null,
   "metadata": {},
   "outputs": [],
   "source": [
    "set_default_credentials('cartoframes')\n",
    "\n",
    "masters_color_continuous_style = color_continuous_style('masters_percent')\n",
    "masters_color_continuous_legend = color_continuous_legend(title=\"Percent Master's Degree\",\n",
    "                                                          description='by block group',\n",
    "                                                          footer='Data: US Census',\n",
    "                                                          format='.0%')"
   ]
  },
  {
   "cell_type": "code",
   "execution_count": null,
   "metadata": {},
   "outputs": [],
   "source": [
    "Map(Layer('demographics_sf', masters_color_continuous_style, legends=masters_color_continuous_legend))"
   ]
  },
  {
   "cell_type": "markdown",
   "metadata": {},
   "source": [
    "### Size category"
   ]
  },
  {
   "cell_type": "code",
   "execution_count": null,
   "metadata": {},
   "outputs": [],
   "source": [
    "set_default_credentials('cartoframes')\n",
    "\n",
    "feature_size_category_style = size_category_style(\n",
    "    'featurecla',\n",
    "    cat=['Populated place', 'Admin-1 capital', 'Admin-0 capital'],\n",
    "    size_range=[15]\n",
    ")\n",
    "feature_size_category_legend = size_category_legend(title='Spanish Cities',\n",
    "                                                    footer='Source: Natural Earth')"
   ]
  },
  {
   "cell_type": "code",
   "execution_count": null,
   "metadata": {},
   "outputs": [],
   "source": [
    "Map(Layer('spain_populated_places', feature_size_category_style, legends=feature_size_category_legend))"
   ]
  },
  {
   "cell_type": "markdown",
   "metadata": {},
   "source": [
    "### Size bins"
   ]
  },
  {
   "cell_type": "code",
   "execution_count": null,
   "metadata": {},
   "outputs": [],
   "source": [
    "set_default_credentials('cartoframes')\n",
    "\n",
    "speed_size_bins_style = size_bins_style('auto_speed')\n",
    "speed_size_bins_legend = size_bins_legend(title='Road Congestion', description='Travel Speeds',\n",
    "                                          footer='Data: City of SF', format='d')"
   ]
  },
  {
   "cell_type": "code",
   "execution_count": null,
   "metadata": {},
   "outputs": [],
   "source": [
    "Map(Layer('sf_road_travel', speed_size_bins_style, legends=speed_size_bins_legend))"
   ]
  },
  {
   "cell_type": "markdown",
   "metadata": {},
   "source": [
    "### Size continuous"
   ]
  },
  {
   "cell_type": "code",
   "execution_count": null,
   "metadata": {},
   "outputs": [],
   "source": [
    "set_default_credentials('cartoframes')\n",
    "\n",
    "value_size_continuous_style = size_continuous_style('value', size_range=[8, 40])\n",
    "value_size_continuous_legend = size_continuous_legend(title='Crime Counts',\n",
    "                                                      description='by neighborhood',\n",
    "                                                      footer='Source: City of SF',\n",
    "                                                      format='.0s')"
   ]
  },
  {
   "cell_type": "code",
   "execution_count": null,
   "metadata": {},
   "outputs": [],
   "source": [
    "Map(Layer('sf_nbhd_crime', value_size_continuous_style, legends=value_size_continuous_legend))"
   ]
  }
 ],
 "metadata": {
  "kernelspec": {
   "display_name": "Python 3",
   "language": "python",
   "name": "python3"
  },
  "language_info": {
   "codemirror_mode": {
    "name": "ipython",
    "version": 3
   },
   "file_extension": ".py",
   "mimetype": "text/x-python",
   "name": "python",
   "nbconvert_exporter": "python",
   "pygments_lexer": "ipython3",
   "version": "3.5.3"
  }
 },
 "nbformat": 4,
 "nbformat_minor": 4
}
