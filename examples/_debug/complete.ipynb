{
 "cells": [
  {
   "cell_type": "code",
   "execution_count": null,
   "metadata": {},
   "outputs": [],
   "source": [
    "from cartoframes.auth import set_default_context\n",
    "from cartoframes.viz import Map, Layer\n",
    "\n",
    "set_default_context('https://cartovl.carto.com/')"
   ]
  },
  {
   "cell_type": "code",
   "execution_count": null,
   "metadata": {},
   "outputs": [],
   "source": [
    "## Complete example 1\n",
    "\n",
    "Map([\n",
    "\n",
    "    Layer('populated_places', '''\n",
    "        @sum: sqrt($pop_max) / 100\n",
    "        @grad: [red, blue, green]\n",
    "        color: ramp(globalEqIntervals($pop_min, 3), @grad)\n",
    "        filter: @sum > 20\n",
    "    '''),\n",
    "\n",
    "    Layer('SELECT * FROM populated_places LIMIT 10', 'color: purple width: 30'),\n",
    "    \n",
    "    Layer('populated_places', 'color: brown'),\n",
    "\n",
    "])"
   ]
  },
  {
   "cell_type": "code",
   "execution_count": null,
   "metadata": {},
   "outputs": [],
   "source": [
    "## Complete example 2\n",
    "\n",
    "Map([\n",
    "\n",
    "    Layer('populated_places', '''\n",
    "        @sum: sqrt($pop_max) / 100\n",
    "        @grad: [red, blue, green]\n",
    "        color: ramp(globalEqIntervals($pop_min, 3), @grad)\n",
    "        filter: @sum > 20\n",
    "    '''),\n",
    "\n",
    "    Layer('SELECT * FROM populated_places LIMIT 10', 'color: purple width: 30', {\n",
    "        'hover': ['$pop_min']\n",
    "    }),\n",
    "    \n",
    "    Layer('populated_places', 'color: brown', {\n",
    "        'click': ['$pop_max'],\n",
    "        'hover': [{\n",
    "            'title': 'Name',\n",
    "            'value': '$name'\n",
    "        }]\n",
    "    })\n",
    "\n",
    "])"
   ]
  }
 ],
 "metadata": {
  "kernelspec": {
   "display_name": "Python 3",
   "language": "python",
   "name": "python3"
  },
  "language_info": {
   "codemirror_mode": {
    "name": "ipython",
    "version": 3
   },
   "file_extension": ".py",
   "mimetype": "text/x-python",
   "name": "python",
   "nbconvert_exporter": "python",
   "pygments_lexer": "ipython3",
   "version": "3.6.7"
  }
 },
 "nbformat": 4,
 "nbformat_minor": 2
}
