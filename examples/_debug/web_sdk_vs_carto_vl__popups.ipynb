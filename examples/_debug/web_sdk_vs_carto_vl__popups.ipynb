{
 "cells": [
  {
   "cell_type": "code",
   "execution_count": null,
   "metadata": {},
   "outputs": [],
   "source": [
    "from cartoframes.auth import Credentials, set_default_credentials\n",
    "from cartoframes.viz import (\n",
    "    basic_style,\n",
    "    popup_element,\n",
    "    Layer, Map\n",
    ")"
   ]
  },
  {
   "cell_type": "markdown",
   "metadata": {},
   "source": [
    "### Click"
   ]
  },
  {
   "cell_type": "code",
   "execution_count": null,
   "metadata": {},
   "outputs": [],
   "source": [
    "set_default_credentials(Credentials(username='cartoframes', api_key='default_public'))\n",
    "\n",
    "popup_click = [popup_element('pop_est'), popup_element('name_long')]"
   ]
  },
  {
   "cell_type": "code",
   "execution_count": null,
   "metadata": {},
   "outputs": [],
   "source": [
    "Map(Layer('countries_africa', popup_click=popup_click), render='web-sdk')"
   ]
  },
  {
   "cell_type": "code",
   "execution_count": null,
   "metadata": {},
   "outputs": [],
   "source": [
    "Map(Layer('countries_africa', popup_click=popup_click), render='carto-vl')"
   ]
  },
  {
   "cell_type": "markdown",
   "metadata": {},
   "source": [
    "### Hover"
   ]
  },
  {
   "cell_type": "code",
   "execution_count": null,
   "metadata": {},
   "outputs": [],
   "source": [
    "set_default_credentials(Credentials(username='cartoframes', api_key='default_public'))\n",
    "\n",
    "popup_hover = [popup_element('pop_est'), popup_element('name_long')]"
   ]
  },
  {
   "cell_type": "code",
   "execution_count": null,
   "metadata": {},
   "outputs": [],
   "source": [
    "Map(Layer('countries_africa', popup_hover=popup_hover), render='web-sdk')"
   ]
  },
  {
   "cell_type": "code",
   "execution_count": null,
   "metadata": {},
   "outputs": [],
   "source": [
    "Map(Layer('countries_africa', popup_hover=popup_hover), render='carto-vl')"
   ]
  },
  {
   "cell_type": "markdown",
   "metadata": {},
   "source": [
    "### Title and format"
   ]
  },
  {
   "cell_type": "code",
   "execution_count": null,
   "metadata": {},
   "outputs": [],
   "source": [
    "set_default_credentials(Credentials(username='cartoframes', api_key='default_public'))\n",
    "\n",
    "ten_basic_style = basic_style(size=10)\n",
    "\n",
    "popup_hover = [\n",
    "    popup_element('name', 'City'),\n",
    "    popup_element('pop_max', title='Rounded population', format=',.2r')\n",
    "]"
   ]
  },
  {
   "cell_type": "code",
   "execution_count": null,
   "metadata": {
    "scrolled": false
   },
   "outputs": [],
   "source": [
    "Map(Layer('spain_populated_places', ten_basic_style, popup_hover=popup_hover), render='web-sdk')"
   ]
  },
  {
   "cell_type": "code",
   "execution_count": null,
   "metadata": {},
   "outputs": [],
   "source": [
    "Map(Layer('spain_populated_places', ten_basic_style, popup_hover=popup_hover), render='carto-vl')"
   ]
  }
 ],
 "metadata": {
  "kernelspec": {
   "display_name": "Python 3",
   "language": "python",
   "name": "python3"
  },
  "language_info": {
   "codemirror_mode": {
    "name": "ipython",
    "version": 3
   },
   "file_extension": ".py",
   "mimetype": "text/x-python",
   "name": "python",
   "nbconvert_exporter": "python",
   "pygments_lexer": "ipython3",
   "version": "3.5.3"
  }
 },
 "nbformat": 4,
 "nbformat_minor": 4
}
