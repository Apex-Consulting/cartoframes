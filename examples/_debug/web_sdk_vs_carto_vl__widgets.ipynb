{
 "cells": [
  {
   "cell_type": "code",
   "execution_count": null,
   "metadata": {},
   "outputs": [],
   "source": [
    "%load_ext autoreload"
   ]
  },
  {
   "cell_type": "code",
   "execution_count": null,
   "metadata": {},
   "outputs": [],
   "source": [
    "%autoreload 2"
   ]
  },
  {
   "cell_type": "code",
   "execution_count": null,
   "metadata": {},
   "outputs": [],
   "source": [
    "from cartoframes.auth import Credentials, set_default_credentials\n",
    "from cartoframes.viz import (\n",
    "    category_widget, formula_widget, histogram_widget,\n",
    "    Layer, Map\n",
    ")\n",
    "from geopandas import read_file"
   ]
  },
  {
   "cell_type": "markdown",
   "metadata": {},
   "source": [
    "## Category"
   ]
  },
  {
   "cell_type": "markdown",
   "metadata": {},
   "source": [
    "### Single"
   ]
  },
  {
   "cell_type": "code",
   "execution_count": null,
   "metadata": {},
   "outputs": [],
   "source": [
    "set_default_credentials('cartoframes')\n",
    "\n",
    "collision_category_widget = category_widget(\n",
    "    'collisiontype', title='Type of collision', description='Select a collision type to filter',\n",
    "    read_only=False, is_global=True\n",
    ")"
   ]
  },
  {
   "cell_type": "code",
   "execution_count": null,
   "metadata": {},
   "outputs": [],
   "source": [
    "Map(Layer('seattle_collisions', widgets=[collision_category_widget]))"
   ]
  },
  {
   "cell_type": "markdown",
   "metadata": {},
   "source": [
    "### Multilayer & multiwidget"
   ]
  },
  {
   "cell_type": "code",
   "execution_count": null,
   "metadata": {},
   "outputs": [],
   "source": [
    "cartoframes_credentials = Credentials('cartoframes')\n",
    "josemacarto_credentials = Credentials('josemacarto')\n",
    "\n",
    "collision_category_widget = category_widget(\n",
    "    'collisiontype', title='Type of collision', description='Select a collision type to filter', read_only=True\n",
    ")\n",
    "\n",
    "address_category_widget = category_widget(\n",
    "    'addrtype', title='Type of address', description='Select an address type to filter'\n",
    ")\n",
    "\n",
    "category_category_widget = category_widget(\n",
    "    'category', title='Number of category businesses', description='Select a category number to filter'\n",
    ")"
   ]
  },
  {
   "cell_type": "code",
   "execution_count": null,
   "metadata": {},
   "outputs": [],
   "source": [
    "collisions_layer = Layer('seattle_collisions',\n",
    "                         widgets=[collision_category_widget, address_category_widget],\n",
    "                         credentials=cartoframes_credentials)"
   ]
  },
  {
   "cell_type": "code",
   "execution_count": null,
   "metadata": {},
   "outputs": [],
   "source": [
    "businesses_layer = Layer('sf_businesses_neighborhoods',\n",
    "                         widgets=[category_category_widget],\n",
    "                         credentials=josemacarto_credentials)"
   ]
  },
  {
   "cell_type": "code",
   "execution_count": null,
   "metadata": {},
   "outputs": [],
   "source": [
    "Map([collisions_layer, businesses_layer])"
   ]
  },
  {
   "cell_type": "markdown",
   "metadata": {},
   "source": [
    "### GeoJSON"
   ]
  },
  {
   "cell_type": "code",
   "execution_count": null,
   "metadata": {},
   "outputs": [],
   "source": [
    "gdf = read_file('http://libs.cartocdn.com/cartoframes/files/sustainable_palm_oil_production_mills.geojson')\n",
    "\n",
    "peat_category_widget = category_widget(\n",
    "    'peat_con_2', title='PEAT CON 2 - SHRUG - Title', description='PEAT CON 2 - SHRUG'\n",
    ")"
   ]
  },
  {
   "cell_type": "code",
   "execution_count": null,
   "metadata": {},
   "outputs": [],
   "source": [
    "Map(Layer(gdf, widgets=[peat_category_widget]))"
   ]
  },
  {
   "cell_type": "markdown",
   "metadata": {},
   "source": [
    "## Formula"
   ]
  },
  {
   "cell_type": "markdown",
   "metadata": {},
   "source": [
    "### Single"
   ]
  },
  {
   "cell_type": "code",
   "execution_count": null,
   "metadata": {},
   "outputs": [],
   "source": [
    "set_default_credentials('cartoframes')\n",
    "\n",
    "collision_formula_widget = formula_widget(\n",
    "    'personcount', operation='sum', title='Number of people involved',\n",
    "    description='Zoom and/or pan the map to update count', format='.3s', is_global=False\n",
    ")"
   ]
  },
  {
   "cell_type": "code",
   "execution_count": null,
   "metadata": {},
   "outputs": [],
   "source": [
    "Map(Layer('seattle_collisions', widgets=[collision_formula_widget]))"
   ]
  },
  {
   "cell_type": "markdown",
   "metadata": {},
   "source": [
    "## Histogram"
   ]
  },
  {
   "cell_type": "markdown",
   "metadata": {},
   "source": [
    "### Single"
   ]
  },
  {
   "cell_type": "code",
   "execution_count": null,
   "metadata": {},
   "outputs": [],
   "source": [
    "set_default_credentials('cartoframes')\n",
    "\n",
    "vehicle_histogram_widget = histogram_widget(\n",
    "    'vehcount', title='Number of vehicles involved',\n",
    "    description='Select a range of values to filter', buckets=9, is_global=False\n",
    ")"
   ]
  },
  {
   "cell_type": "code",
   "execution_count": null,
   "metadata": {},
   "outputs": [],
   "source": [
    "Map(Layer('seattle_collisions', widgets=[vehicle_histogram_widget]))"
   ]
  }
 ],
 "metadata": {
  "kernelspec": {
   "display_name": "Python 3",
   "language": "python",
   "name": "python3"
  },
  "language_info": {
   "codemirror_mode": {
    "name": "ipython",
    "version": 3
   },
   "file_extension": ".py",
   "mimetype": "text/x-python",
   "name": "python",
   "nbconvert_exporter": "python",
   "pygments_lexer": "ipython3",
   "version": "3.5.3"
  }
 },
 "nbformat": 4,
 "nbformat_minor": 4
}
