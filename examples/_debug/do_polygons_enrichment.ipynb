{
 "cells": [
  {
   "cell_type": "code",
   "execution_count": 1,
   "metadata": {},
   "outputs": [],
   "source": [
    "import pandas as pd\n",
    "from cartoframes.auth import set_default_credentials, Credentials\n",
    "from cartoframes.data.observatory import Catalog, Enrichment"
   ]
  },
  {
   "cell_type": "markdown",
   "metadata": {},
   "source": [
    "## Search metadata"
   ]
  },
  {
   "cell_type": "code",
   "execution_count": null,
   "metadata": {
    "scrolled": true
   },
   "outputs": [],
   "source": [
    "catalog = Catalog()\n",
    "countries = catalog.countries\n",
    "countries"
   ]
  },
  {
   "cell_type": "code",
   "execution_count": 3,
   "metadata": {},
   "outputs": [],
   "source": [
    "usa = countries.get('usa')"
   ]
  },
  {
   "cell_type": "code",
   "execution_count": null,
   "metadata": {
    "scrolled": true
   },
   "outputs": [],
   "source": [
    "datasets = usa.datasets\n",
    "datasets"
   ]
  },
  {
   "cell_type": "code",
   "execution_count": 5,
   "metadata": {},
   "outputs": [],
   "source": [
    "dataset = datasets.get('od_acs_d28e63ff')"
   ]
  },
  {
   "cell_type": "code",
   "execution_count": null,
   "metadata": {},
   "outputs": [],
   "source": [
    "variables = dataset.variables\n",
    "variables"
   ]
  },
  {
   "cell_type": "code",
   "execution_count": 7,
   "metadata": {},
   "outputs": [],
   "source": [
    "variables_filtered = [variables.get('female_50_to_54_45fdde42')]"
   ]
  },
  {
   "cell_type": "code",
   "execution_count": 8,
   "metadata": {},
   "outputs": [
    {
     "data": {
      "text/plain": [
       "[<Variable('female_50_to_54_45fdde42','The female population between ...')>]"
      ]
     },
     "execution_count": 8,
     "metadata": {},
     "output_type": "execute_result"
    }
   ],
   "source": [
    "variables_filtered"
   ]
  },
  {
   "cell_type": "markdown",
   "metadata": {},
   "source": [
    "## Enrichment"
   ]
  },
  {
   "cell_type": "code",
   "execution_count": 9,
   "metadata": {},
   "outputs": [],
   "source": [
    "credentials = Credentials.from_file()\n",
    "set_default_credentials(credentials)"
   ]
  },
  {
   "cell_type": "code",
   "execution_count": 10,
   "metadata": {},
   "outputs": [],
   "source": [
    "# filters = {'do_date': '2019-02-01', 'category': 'apparel'}"
   ]
  },
  {
   "cell_type": "code",
   "execution_count": 11,
   "metadata": {},
   "outputs": [],
   "source": [
    "data = pd.read_csv('./data/polygons.csv')"
   ]
  },
  {
   "cell_type": "code",
   "execution_count": 12,
   "metadata": {},
   "outputs": [
    {
     "data": {
      "text/html": [
       "<div>\n",
       "<style scoped>\n",
       "    .dataframe tbody tr th:only-of-type {\n",
       "        vertical-align: middle;\n",
       "    }\n",
       "\n",
       "    .dataframe tbody tr th {\n",
       "        vertical-align: top;\n",
       "    }\n",
       "\n",
       "    .dataframe thead th {\n",
       "        text-align: right;\n",
       "    }\n",
       "</style>\n",
       "<table border=\"1\" class=\"dataframe\">\n",
       "  <thead>\n",
       "    <tr style=\"text-align: right;\">\n",
       "      <th></th>\n",
       "      <th>namelsad</th>\n",
       "      <th>statefp</th>\n",
       "      <th>countyfp</th>\n",
       "      <th>tractce</th>\n",
       "      <th>geoid</th>\n",
       "      <th>name</th>\n",
       "      <th>cartodb_id</th>\n",
       "      <th>mtfcc</th>\n",
       "      <th>funcstat</th>\n",
       "      <th>aland</th>\n",
       "      <th>awater</th>\n",
       "      <th>intptlat</th>\n",
       "      <th>intptlon</th>\n",
       "      <th>geom</th>\n",
       "    </tr>\n",
       "  </thead>\n",
       "  <tbody>\n",
       "    <tr>\n",
       "      <th>0</th>\n",
       "      <td>Census Tract 1038</td>\n",
       "      <td>51</td>\n",
       "      <td>13</td>\n",
       "      <td>103800</td>\n",
       "      <td>51013103800</td>\n",
       "      <td>1038.0</td>\n",
       "      <td>1</td>\n",
       "      <td>G5020</td>\n",
       "      <td>S</td>\n",
       "      <td>926693</td>\n",
       "      <td>2489</td>\n",
       "      <td>38.846407</td>\n",
       "      <td>-77.072039</td>\n",
       "      <td>POLYGON ((-77.082245 38.843433, -77.082031 38....</td>\n",
       "    </tr>\n",
       "    <tr>\n",
       "      <th>1</th>\n",
       "      <td>Census Tract 1004</td>\n",
       "      <td>51</td>\n",
       "      <td>13</td>\n",
       "      <td>100400</td>\n",
       "      <td>51013100400</td>\n",
       "      <td>1004.0</td>\n",
       "      <td>2</td>\n",
       "      <td>G5020</td>\n",
       "      <td>S</td>\n",
       "      <td>3815543</td>\n",
       "      <td>0</td>\n",
       "      <td>38.911577</td>\n",
       "      <td>-77.106083</td>\n",
       "      <td>POLYGON ((-77.122654 38.925328, -77.122545 38....</td>\n",
       "    </tr>\n",
       "    <tr>\n",
       "      <th>2</th>\n",
       "      <td>Census Tract 1006</td>\n",
       "      <td>51</td>\n",
       "      <td>13</td>\n",
       "      <td>100600</td>\n",
       "      <td>51013100600</td>\n",
       "      <td>1006.0</td>\n",
       "      <td>3</td>\n",
       "      <td>G5020</td>\n",
       "      <td>S</td>\n",
       "      <td>1012327</td>\n",
       "      <td>0</td>\n",
       "      <td>38.893596</td>\n",
       "      <td>-77.108631</td>\n",
       "      <td>POLYGON ((-77.115317 38.897582, -77.1150970000...</td>\n",
       "    </tr>\n",
       "    <tr>\n",
       "      <th>3</th>\n",
       "      <td>Census Tract 1008</td>\n",
       "      <td>51</td>\n",
       "      <td>13</td>\n",
       "      <td>100800</td>\n",
       "      <td>51013100800</td>\n",
       "      <td>1008.0</td>\n",
       "      <td>4</td>\n",
       "      <td>G5020</td>\n",
       "      <td>S</td>\n",
       "      <td>438613</td>\n",
       "      <td>0</td>\n",
       "      <td>38.894648</td>\n",
       "      <td>-77.128127</td>\n",
       "      <td>POLYGON ((-77.13364199999999 38.896322, -77.13...</td>\n",
       "    </tr>\n",
       "    <tr>\n",
       "      <th>4</th>\n",
       "      <td>Census Tract 1010</td>\n",
       "      <td>51</td>\n",
       "      <td>13</td>\n",
       "      <td>101000</td>\n",
       "      <td>51013101000</td>\n",
       "      <td>1010.0</td>\n",
       "      <td>5</td>\n",
       "      <td>G5020</td>\n",
       "      <td>S</td>\n",
       "      <td>1073466</td>\n",
       "      <td>0</td>\n",
       "      <td>38.888216</td>\n",
       "      <td>-77.141166</td>\n",
       "      <td>POLYGON ((-77.14642600000001 38.883708, -77.14...</td>\n",
       "    </tr>\n",
       "  </tbody>\n",
       "</table>\n",
       "</div>"
      ],
      "text/plain": [
       "            namelsad  statefp  countyfp  tractce        geoid    name  \\\n",
       "0  Census Tract 1038       51        13   103800  51013103800  1038.0   \n",
       "1  Census Tract 1004       51        13   100400  51013100400  1004.0   \n",
       "2  Census Tract 1006       51        13   100600  51013100600  1006.0   \n",
       "3  Census Tract 1008       51        13   100800  51013100800  1008.0   \n",
       "4  Census Tract 1010       51        13   101000  51013101000  1010.0   \n",
       "\n",
       "   cartodb_id  mtfcc funcstat    aland  awater   intptlat   intptlon  \\\n",
       "0           1  G5020        S   926693    2489  38.846407 -77.072039   \n",
       "1           2  G5020        S  3815543       0  38.911577 -77.106083   \n",
       "2           3  G5020        S  1012327       0  38.893596 -77.108631   \n",
       "3           4  G5020        S   438613       0  38.894648 -77.128127   \n",
       "4           5  G5020        S  1073466       0  38.888216 -77.141166   \n",
       "\n",
       "                                                geom  \n",
       "0  POLYGON ((-77.082245 38.843433, -77.082031 38....  \n",
       "1  POLYGON ((-77.122654 38.925328, -77.122545 38....  \n",
       "2  POLYGON ((-77.115317 38.897582, -77.1150970000...  \n",
       "3  POLYGON ((-77.13364199999999 38.896322, -77.13...  \n",
       "4  POLYGON ((-77.14642600000001 38.883708, -77.14...  "
      ]
     },
     "execution_count": 12,
     "metadata": {},
     "output_type": "execute_result"
    }
   ],
   "source": [
    "data.head()"
   ]
  },
  {
   "cell_type": "code",
   "execution_count": 13,
   "metadata": {},
   "outputs": [],
   "source": [
    "data_augmentated = Enrichment().enrich_polygons(\n",
    "    data, variables_filtered, agg_operators='sum', data_geom_column='geom'\n",
    ")"
   ]
  },
  {
   "cell_type": "code",
   "execution_count": 14,
   "metadata": {},
   "outputs": [
    {
     "data": {
      "text/html": [
       "<div>\n",
       "<style scoped>\n",
       "    .dataframe tbody tr th:only-of-type {\n",
       "        vertical-align: middle;\n",
       "    }\n",
       "\n",
       "    .dataframe tbody tr th {\n",
       "        vertical-align: top;\n",
       "    }\n",
       "\n",
       "    .dataframe thead th {\n",
       "        text-align: right;\n",
       "    }\n",
       "</style>\n",
       "<table border=\"1\" class=\"dataframe\">\n",
       "  <thead>\n",
       "    <tr style=\"text-align: right;\">\n",
       "      <th></th>\n",
       "      <th>namelsad</th>\n",
       "      <th>statefp</th>\n",
       "      <th>countyfp</th>\n",
       "      <th>tractce</th>\n",
       "      <th>geoid</th>\n",
       "      <th>name</th>\n",
       "      <th>cartodb_id</th>\n",
       "      <th>mtfcc</th>\n",
       "      <th>funcstat</th>\n",
       "      <th>aland</th>\n",
       "      <th>awater</th>\n",
       "      <th>intptlat</th>\n",
       "      <th>intptlon</th>\n",
       "      <th>geom</th>\n",
       "      <th>female_50_to_54</th>\n",
       "    </tr>\n",
       "  </thead>\n",
       "  <tbody>\n",
       "    <tr>\n",
       "      <th>0</th>\n",
       "      <td>Census Tract 1038</td>\n",
       "      <td>51</td>\n",
       "      <td>13</td>\n",
       "      <td>103800</td>\n",
       "      <td>51013103800</td>\n",
       "      <td>1038.0</td>\n",
       "      <td>1</td>\n",
       "      <td>G5020</td>\n",
       "      <td>S</td>\n",
       "      <td>926693</td>\n",
       "      <td>2489</td>\n",
       "      <td>38.846407</td>\n",
       "      <td>-77.072039</td>\n",
       "      <td>POLYGON ((-77.082245 38.843433, -77.082031 38....</td>\n",
       "      <td>1805.857328</td>\n",
       "    </tr>\n",
       "    <tr>\n",
       "      <th>1</th>\n",
       "      <td>Census Tract 1004</td>\n",
       "      <td>51</td>\n",
       "      <td>13</td>\n",
       "      <td>100400</td>\n",
       "      <td>51013100400</td>\n",
       "      <td>1004.0</td>\n",
       "      <td>2</td>\n",
       "      <td>G5020</td>\n",
       "      <td>S</td>\n",
       "      <td>3815543</td>\n",
       "      <td>0</td>\n",
       "      <td>38.911577</td>\n",
       "      <td>-77.106083</td>\n",
       "      <td>POLYGON ((-77.122654 38.925328, -77.122545 38....</td>\n",
       "      <td>1837.234755</td>\n",
       "    </tr>\n",
       "    <tr>\n",
       "      <th>2</th>\n",
       "      <td>Census Tract 1006</td>\n",
       "      <td>51</td>\n",
       "      <td>13</td>\n",
       "      <td>100600</td>\n",
       "      <td>51013100600</td>\n",
       "      <td>1006.0</td>\n",
       "      <td>3</td>\n",
       "      <td>G5020</td>\n",
       "      <td>S</td>\n",
       "      <td>1012327</td>\n",
       "      <td>0</td>\n",
       "      <td>38.893596</td>\n",
       "      <td>-77.108631</td>\n",
       "      <td>POLYGON ((-77.115317 38.897582, -77.1150970000...</td>\n",
       "      <td>1802.609596</td>\n",
       "    </tr>\n",
       "    <tr>\n",
       "      <th>3</th>\n",
       "      <td>Census Tract 1008</td>\n",
       "      <td>51</td>\n",
       "      <td>13</td>\n",
       "      <td>100800</td>\n",
       "      <td>51013100800</td>\n",
       "      <td>1008.0</td>\n",
       "      <td>4</td>\n",
       "      <td>G5020</td>\n",
       "      <td>S</td>\n",
       "      <td>438613</td>\n",
       "      <td>0</td>\n",
       "      <td>38.894648</td>\n",
       "      <td>-77.128127</td>\n",
       "      <td>POLYGON ((-77.13364199999999 38.896322, -77.13...</td>\n",
       "      <td>1810.880161</td>\n",
       "    </tr>\n",
       "    <tr>\n",
       "      <th>4</th>\n",
       "      <td>Census Tract 1010</td>\n",
       "      <td>51</td>\n",
       "      <td>13</td>\n",
       "      <td>101000</td>\n",
       "      <td>51013101000</td>\n",
       "      <td>1010.0</td>\n",
       "      <td>5</td>\n",
       "      <td>G5020</td>\n",
       "      <td>S</td>\n",
       "      <td>1073466</td>\n",
       "      <td>0</td>\n",
       "      <td>38.888216</td>\n",
       "      <td>-77.141166</td>\n",
       "      <td>POLYGON ((-77.14642600000001 38.883708, -77.14...</td>\n",
       "      <td>1816.921456</td>\n",
       "    </tr>\n",
       "  </tbody>\n",
       "</table>\n",
       "</div>"
      ],
      "text/plain": [
       "            namelsad  statefp  countyfp  tractce        geoid    name  \\\n",
       "0  Census Tract 1038       51        13   103800  51013103800  1038.0   \n",
       "1  Census Tract 1004       51        13   100400  51013100400  1004.0   \n",
       "2  Census Tract 1006       51        13   100600  51013100600  1006.0   \n",
       "3  Census Tract 1008       51        13   100800  51013100800  1008.0   \n",
       "4  Census Tract 1010       51        13   101000  51013101000  1010.0   \n",
       "\n",
       "   cartodb_id  mtfcc funcstat    aland  awater   intptlat   intptlon  \\\n",
       "0           1  G5020        S   926693    2489  38.846407 -77.072039   \n",
       "1           2  G5020        S  3815543       0  38.911577 -77.106083   \n",
       "2           3  G5020        S  1012327       0  38.893596 -77.108631   \n",
       "3           4  G5020        S   438613       0  38.894648 -77.128127   \n",
       "4           5  G5020        S  1073466       0  38.888216 -77.141166   \n",
       "\n",
       "                                                geom  female_50_to_54  \n",
       "0  POLYGON ((-77.082245 38.843433, -77.082031 38....      1805.857328  \n",
       "1  POLYGON ((-77.122654 38.925328, -77.122545 38....      1837.234755  \n",
       "2  POLYGON ((-77.115317 38.897582, -77.1150970000...      1802.609596  \n",
       "3  POLYGON ((-77.13364199999999 38.896322, -77.13...      1810.880161  \n",
       "4  POLYGON ((-77.14642600000001 38.883708, -77.14...      1816.921456  "
      ]
     },
     "execution_count": 14,
     "metadata": {},
     "output_type": "execute_result"
    }
   ],
   "source": [
    "data_augmentated.head()"
   ]
  },
  {
   "cell_type": "code",
   "execution_count": null,
   "metadata": {},
   "outputs": [],
   "source": []
  }
 ],
 "metadata": {
  "kernelspec": {
   "display_name": "Python 3",
   "language": "python",
   "name": "python3"
  },
  "language_info": {
   "codemirror_mode": {
    "name": "ipython",
    "version": 3
   },
   "file_extension": ".py",
   "mimetype": "text/x-python",
   "name": "python",
   "nbconvert_exporter": "python",
   "pygments_lexer": "ipython3",
   "version": "3.6.8"
  }
 },
 "nbformat": 4,
 "nbformat_minor": 4
}
