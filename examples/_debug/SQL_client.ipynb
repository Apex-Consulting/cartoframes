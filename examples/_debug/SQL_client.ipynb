{
 "cells": [
  {
   "cell_type": "code",
   "execution_count": 1,
   "metadata": {},
   "outputs": [],
   "source": [
    "from cartoframes.auth import Credentials\n",
    "from cartoframes.client import SQLClient"
   ]
  },
  {
   "cell_type": "code",
   "execution_count": 2,
   "metadata": {},
   "outputs": [],
   "source": [
    "creds = Credentials(username='cartovl', api_key='default_public')\n",
    "\n",
    "sql_client = SQLClient(creds)"
   ]
  },
  {
   "cell_type": "markdown",
   "metadata": {},
   "source": [
    "### Query"
   ]
  },
  {
   "cell_type": "code",
   "execution_count": 3,
   "metadata": {},
   "outputs": [
    {
     "data": {
      "text/plain": [
       "[{'adm_0_cap_name': 'City'}, {'adm_0_cap_name': 'Capital'}]"
      ]
     },
     "execution_count": 3,
     "metadata": {},
     "output_type": "execute_result"
    }
   ],
   "source": [
    "sql_client.query('SELECT DISTINCT adm_0_cap_name FROM populated_places')"
   ]
  },
  {
   "cell_type": "code",
   "execution_count": 4,
   "metadata": {},
   "outputs": [
    {
     "data": {
      "text/plain": [
       "[{'count': 7322}]"
      ]
     },
     "execution_count": 4,
     "metadata": {},
     "output_type": "execute_result"
    }
   ],
   "source": [
    "sql_client.query('SELECT COUNT(*) FROM populated_places')"
   ]
  },
  {
   "cell_type": "code",
   "execution_count": 5,
   "metadata": {},
   "outputs": [
    {
     "data": {
      "text/plain": [
       "{'rows': [{'count': 7322}],\n",
       " 'time': 0.006,\n",
       " 'fields': {'count': {'type': 'number', 'pgtype': 'int8'}},\n",
       " 'total_rows': 1}"
      ]
     },
     "execution_count": 5,
     "metadata": {},
     "output_type": "execute_result"
    }
   ],
   "source": [
    "sql_client.query('SELECT COUNT(*) FROM populated_places', verbose=True)"
   ]
  },
  {
   "cell_type": "markdown",
   "metadata": {},
   "source": [
    "### Execute"
   ]
  },
  {
   "cell_type": "code",
   "execution_count": 6,
   "metadata": {
    "scrolled": true
   },
   "outputs": [
    {
     "name": "stdout",
     "output_type": "stream",
     "text": [
      "Error: Access denied\n"
     ]
    }
   ],
   "source": [
    "sql_client.execute('SELECT * FROM populated_places')"
   ]
  },
  {
   "cell_type": "markdown",
   "metadata": {},
   "source": [
    "### Helpers"
   ]
  },
  {
   "cell_type": "code",
   "execution_count": 7,
   "metadata": {},
   "outputs": [
    {
     "data": {
      "text/plain": [
       "[('City', 7122), ('Capital', 200)]"
      ]
     },
     "execution_count": 7,
     "metadata": {},
     "output_type": "execute_result"
    }
   ],
   "source": [
    "sql_client.distinct('populated_places', 'adm_0_cap_name')"
   ]
  },
  {
   "cell_type": "code",
   "execution_count": 8,
   "metadata": {},
   "outputs": [
    {
     "data": {
      "text/plain": [
       "7322"
      ]
     },
     "execution_count": 8,
     "metadata": {},
     "output_type": "execute_result"
    }
   ],
   "source": [
    "sql_client.count('populated_places')"
   ]
  },
  {
   "cell_type": "code",
   "execution_count": 9,
   "metadata": {},
   "outputs": [
    {
     "data": {
      "text/plain": [
       "[[-16.2500006525, 28.0999760122], [2.65424597028, 43.530016092]]"
      ]
     },
     "execution_count": 9,
     "metadata": {},
     "output_type": "execute_result"
    }
   ],
   "source": [
    "sql_client.bounds('SELECT * FROM populated_places WHERE adm0name = \\'Spain\\'')"
   ]
  },
  {
   "cell_type": "code",
   "execution_count": 15,
   "metadata": {},
   "outputs": [
    {
     "data": {
      "text/plain": [
       "{'cartodb_id': 'number',\n",
       " 'the_geom': 'geometry',\n",
       " 'the_geom_webmercator': 'geometry',\n",
       " 'adm0name': 'string',\n",
       " 'adm1name': 'string',\n",
       " 'scalerank': 'number',\n",
       " 'natscale': 'number',\n",
       " 'labelrank': 'number',\n",
       " 'featurecla': 'string',\n",
       " 'name': 'string',\n",
       " 'namepar': 'string',\n",
       " 'namealt': 'string',\n",
       " 'diffascii': 'number',\n",
       " 'nameascii': 'string',\n",
       " 'adm0cap': 'number',\n",
       " 'capalt': 'number',\n",
       " 'capin': 'string',\n",
       " 'worldcity': 'number',\n",
       " 'megacity': 'number',\n",
       " 'sov0name': 'string',\n",
       " 'sov_a3': 'string',\n",
       " 'adm0_a3': 'string',\n",
       " 'iso_a2': 'string',\n",
       " 'note': 'string',\n",
       " 'latitude': 'number',\n",
       " 'longitude': 'number',\n",
       " 'changed': 'number',\n",
       " 'namediff': 'number',\n",
       " 'diffnote': 'string',\n",
       " 'pop_max': 'number',\n",
       " 'pop_min': 'number',\n",
       " 'pop_other': 'number',\n",
       " 'rank_max': 'number',\n",
       " 'rank_min': 'number',\n",
       " 'geonameid': 'number',\n",
       " 'meganame': 'string',\n",
       " 'ls_name': 'string',\n",
       " 'ls_match': 'number',\n",
       " 'checkme': 'number',\n",
       " 'created_at': 'date',\n",
       " 'updated_at': 'date',\n",
       " 'adm_0_cap': 'string',\n",
       " 'adm_0_cap_name': 'string'}"
      ]
     },
     "execution_count": 15,
     "metadata": {},
     "output_type": "execute_result"
    }
   ],
   "source": [
    "sql_client.schema('populated_places', raw=True)"
   ]
  },
  {
   "cell_type": "code",
   "execution_count": 11,
   "metadata": {},
   "outputs": [
    {
     "name": "stdout",
     "output_type": "stream",
     "text": [
      "count               7322\n",
      "type: string\n"
     ]
    }
   ],
   "source": [
    "sql_client.describe('populated_places', 'adm0name')"
   ]
  },
  {
   "cell_type": "code",
   "execution_count": 12,
   "metadata": {},
   "outputs": [
    {
     "name": "stdout",
     "output_type": "stream",
     "text": [
      "count               7322\n",
      "avg            322717.48\n",
      "min                  -99\n",
      "max             35676000\n",
      "type: number\n"
     ]
    }
   ],
   "source": [
    "sql_client.describe('populated_places', 'pop_max')"
   ]
  },
  {
   "cell_type": "code",
   "execution_count": 13,
   "metadata": {},
   "outputs": [
    {
     "name": "stdout",
     "output_type": "stream",
     "text": [
      "Error: Access denied\n",
      "Error: Access denied\n",
      "Error: Access denied\n",
      "Error: Access denied\n"
     ]
    }
   ],
   "source": [
    "sql_client.create_table('test', [('id', 'INT'), ('name', 'TEXT')]) # cartodbfy=False\n",
    "sql_client.insert_table('test', ['id', 'name'], [0, 'a'])\n",
    "sql_client.update_table('test', 'name', 'b', 'id = 0')\n",
    "sql_client.drop_table('test')"
   ]
  }
 ],
 "metadata": {
  "kernelspec": {
   "display_name": "Python 3",
   "language": "python",
   "name": "python3"
  },
  "language_info": {
   "codemirror_mode": {
    "name": "ipython",
    "version": 3
   },
   "file_extension": ".py",
   "mimetype": "text/x-python",
   "name": "python",
   "nbconvert_exporter": "python",
   "pygments_lexer": "ipython3",
   "version": "3.6.7"
  }
 },
 "nbformat": 4,
 "nbformat_minor": 2
}
