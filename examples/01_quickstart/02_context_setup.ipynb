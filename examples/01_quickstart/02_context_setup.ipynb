{
 "cells": [
  {
   "cell_type": "markdown",
   "metadata": {},
   "source": [
    "# Context Setup"
   ]
  },
  {
   "cell_type": "markdown",
   "metadata": {},
   "source": [
    "## Authentication\n",
    "\n",
    "Before we can do anything with CARTOframes, we need to authenticate against a CARTO account by passing in CARTO credentials. You will need your username (`base_url`) and an API key (`api_key`), which can be found at http://your_user_name.carto.com/your_apps.\n",
    "\n",
    "\n",
    "* `base_url`: which is the URL of your CARTO account (`https://your_user_name.carto.com/`)\n",
    "* `api_key`: if the dataset is **public**, we can use `default_public`. Otherwise, we need to set the API key.\n",
    "\n",
    "There are two ways to use our credentials:\n",
    "\n",
    "1. Setting the same credentials by default, which is called the **Default Context**\n",
    "2. Creating different contexts and passing them to the Map, Layer or Source we want to create, by using the `Context` class.\n",
    "\n",
    "The elements needed to create contexts are under the `cartoframes.auth` namespace."
   ]
  },
  {
   "cell_type": "markdown",
   "metadata": {},
   "source": [
    "### Default Context"
   ]
  },
  {
   "cell_type": "code",
   "execution_count": null,
   "metadata": {},
   "outputs": [],
   "source": [
    "from cartoframes.auth import set_default_context\n",
    "\n",
    "set_default_context(\n",
    "    base_url='https://your_user_name.carto.com/',\n",
    "    api_key='default_public'\n",
    ")"
   ]
  },
  {
   "cell_type": "markdown",
   "metadata": {},
   "source": [
    "### Layer Context"
   ]
  },
  {
   "cell_type": "code",
   "execution_count": null,
   "metadata": {},
   "outputs": [],
   "source": [
    "from cartoframes.auth import Context\n",
    "from cartoframes.viz import Map, Layer\n",
    "\n",
    "visualization = Map(\n",
    "    Layer(\n",
    "        'dataset',\n",
    "        context=Context('https://your_user_name.carto.com/', 'default_public')\n",
    "    )\n",
    ")"
   ]
  },
  {
   "cell_type": "code",
   "execution_count": null,
   "metadata": {},
   "outputs": [],
   "source": [
    "from cartoframes.auth import Context\n",
    "from cartoframes.viz import Map, Layer\n",
    "\n",
    "context_a=Context('https://your_user_name_a.carto.com/', 'default_public')\n",
    "context_b=Context('https://your_user_name_b.carto.com/', 'default_public')\n",
    "\n",
    "visualization = Map([\n",
    "    Layer('dataset_a', context=context_a),\n",
    "    Layer('dataset_b', context=context_b)\n",
    "])"
   ]
  },
  {
   "cell_type": "markdown",
   "metadata": {},
   "source": [
    "### Source Context"
   ]
  },
  {
   "cell_type": "code",
   "execution_count": null,
   "metadata": {},
   "outputs": [],
   "source": [
    "from cartoframes.auth import Context\n",
    "from cartoframes.viz import Map, Layer, Source\n",
    "\n",
    "visualization = Map(\n",
    "    Layer(\n",
    "        Source(\n",
    "            'dataset',\n",
    "            Context('https://your_user_name_a.carto.com/', 'default_public')\n",
    "        )\n",
    "    )\n",
    ")"
   ]
  },
  {
   "cell_type": "code",
   "execution_count": null,
   "metadata": {},
   "outputs": [],
   "source": [
    "from cartoframes.auth import Context\n",
    "from cartoframes.viz import Map, Layer, Source\n",
    "\n",
    "context_a=Context('https://your_user_name_a.carto.com/', 'default_public')\n",
    "context_b=Context('https://your_user_name_b.carto.com/', 'default_public')\n",
    "\n",
    "source_a=Source('dataset', context_a)\n",
    "source_b=Source('dataset', context_b)\n",
    "\n",
    "visualization = Map([\n",
    "    Layer(source_a),\n",
    "    Layer(source_b)\n",
    "])"
   ]
  }
 ],
 "metadata": {
  "kernelspec": {
   "display_name": "Python 3",
   "language": "python",
   "name": "python3"
  },
  "language_info": {
   "codemirror_mode": {
    "name": "ipython",
    "version": 3
   },
   "file_extension": ".py",
   "mimetype": "text/x-python",
   "name": "python",
   "nbconvert_exporter": "python",
   "pygments_lexer": "ipython3",
   "version": "3.7.2"
  }
 },
 "nbformat": 4,
 "nbformat_minor": 2
}
