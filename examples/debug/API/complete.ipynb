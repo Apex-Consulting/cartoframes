{
 "cells": [
  {
   "cell_type": "code",
   "execution_count": null,
   "metadata": {},
   "outputs": [],
   "source": [
    "from cartoframes import Context, set_default_context\n",
    "from cartoframes.vis import Map, Layer\n",
    "\n",
    "# Context\n",
    "context = Context(\n",
    "    base_url='https://cartovl.carto.com/', \n",
    "    api_key='default_public'\n",
    ")\n",
    "set_default_context(context)"
   ]
  },
  {
   "cell_type": "code",
   "execution_count": null,
   "metadata": {},
   "outputs": [],
   "source": [
    "## Complete example 1\n",
    "\n",
    "map = Map([\n",
    "\n",
    "    Layer('populated_places', 'color: green'),\n",
    "\n",
    "    Layer('SELECT * FROM populated_places LIMIT 10', 'color: blue width: 30'),\n",
    "\n",
    "    Layer('populated_places', '''\n",
    "        @sum: sqrt($pop_max) / 100\n",
    "        @grad: [red, blue, green]\n",
    "        color: ramp(globalEqIntervals($pop_min, 3), @grad)\n",
    "        filter: @sum > 20\n",
    "    ''')\n",
    "\n",
    "])\n",
    "\n",
    "url = map.publish()"
   ]
  },
  {
   "cell_type": "code",
   "execution_count": null,
   "metadata": {},
   "outputs": [],
   "source": [
    "## Complete example 2\n",
    "\n",
    "geojson = { ... }\n",
    "\n",
    "map = Map([\n",
    "\n",
    "    Layer(geojson, 'color: green', {\n",
    "        'hover': ['id']\n",
    "    }),\n",
    "\n",
    "    Layer('SELECT * FROM table_name1', 'color: blue'),\n",
    "\n",
    "    Layer('table_name2', '''\n",
    "        @sum: sqrt(viewportSum($pop)) / 100\n",
    "        @grad: [#AAA, #BBB, #CCC]\n",
    "        color: ramp(buckets($age, 4), @grad)\n",
    "        filter: @sum > 50\n",
    "    ''', {\n",
    "        'hover': ['pop']\n",
    "        'click': ['pop', 'age']\n",
    "    })\n",
    "\n",
    "])\n",
    "\n",
    "url = map.publish()"
   ]
  }
 ],
 "metadata": {
  "kernelspec": {
   "display_name": "Python 3",
   "language": "python",
   "name": "python3"
  },
  "language_info": {
   "codemirror_mode": {
    "name": "ipython",
    "version": 3
   },
   "file_extension": ".py",
   "mimetype": "text/x-python",
   "name": "python",
   "nbconvert_exporter": "python",
   "pygments_lexer": "ipython3",
   "version": "3.6.7"
  }
 },
 "nbformat": 4,
 "nbformat_minor": 2
}
