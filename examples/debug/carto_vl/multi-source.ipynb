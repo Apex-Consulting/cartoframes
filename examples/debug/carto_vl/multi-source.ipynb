{
 "cells": [
  {
   "cell_type": "code",
   "execution_count": null,
   "metadata": {},
   "outputs": [],
   "source": [
    "from cartoframes import CartoContext, Dataset\n",
    "from cartoframes.carto_vl import Map, Layer, Source\n",
    "\n",
    "context = CartoContext(\n",
    "    base_url='https://cartovl.carto.com/', \n",
    "    api_key='default_public'\n",
    ")"
   ]
  },
  {
   "cell_type": "code",
   "execution_count": null,
   "metadata": {},
   "outputs": [],
   "source": [
    "# Table name\n",
    "Map(\n",
    "    Layer(\n",
    "        Source('populated_places', context)\n",
    "    )\n",
    ")"
   ]
  },
  {
   "cell_type": "code",
   "execution_count": null,
   "metadata": {},
   "outputs": [],
   "source": [
    "Map(\n",
    "    Layer(\n",
    "        Source('SELECT * FROM populated_places LIMIT 20', context)\n",
    "    )\n",
    ")"
   ]
  },
  {
   "cell_type": "code",
   "execution_count": null,
   "metadata": {},
   "outputs": [],
   "source": [
    "Map(\n",
    "   Layer(\n",
    "       Source('sources/points.geojson')\n",
    "   )\n",
    ")"
   ]
  }
 ],
 "metadata": {
  "kernelspec": {
   "display_name": "Python 3",
   "language": "python",
   "name": "python3"
  },
  "language_info": {
   "codemirror_mode": {
    "name": "ipython",
    "version": 3
   },
   "file_extension": ".py",
   "mimetype": "text/x-python",
   "name": "python",
   "nbconvert_exporter": "python",
   "pygments_lexer": "ipython3",
   "version": "3.6.7"
  }
 },
 "nbformat": 4,
 "nbformat_minor": 2
}
