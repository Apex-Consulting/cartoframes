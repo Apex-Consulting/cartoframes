{
 "cells": [
  {
   "cell_type": "code",
   "execution_count": null,
   "metadata": {},
   "outputs": [],
   "source": [
    "from cartoframes import CartoContext, Dataset, setDefaultContext\n",
    "from cartoframes.carto_vl import Map, Layer, Source\n",
    "\n",
    "context = CartoContext(\n",
    "    base_url='https://cartovl.carto.com/',\n",
    "    api_key='default_public'\n",
    ")\n",
    "\n",
    "setDefaultContext(context)"
   ]
  },
  {
   "cell_type": "code",
   "execution_count": null,
   "metadata": {},
   "outputs": [],
   "source": [
    "# Table name\n",
    "# ds = Dataset.create_from_table('populated_places', context)\n",
    "ds = Dataset.create_from_table('populated_places')\n",
    "Map(Layer(Source(ds)))"
   ]
  },
  {
   "cell_type": "code",
   "execution_count": null,
   "metadata": {},
   "outputs": [],
   "source": [
    "# Query\n",
    "# ds = Dataset.create_from_query('SELECT * FROM populated_places LIMIT 20', context)\n",
    "ds = Dataset.create_from_query('SELECT * FROM populated_places LIMIT 20')\n",
    "Map(Layer(Source(ds)))"
   ]
  }
 ],
 "metadata": {
  "kernelspec": {
   "display_name": "Python 3",
   "language": "python",
   "name": "python3"
  },
  "language_info": {
   "codemirror_mode": {
    "name": "ipython",
    "version": 3
   },
   "file_extension": ".py",
   "mimetype": "text/x-python",
   "name": "python",
   "nbconvert_exporter": "python",
   "pygments_lexer": "ipython3",
   "version": "3.6.7"
  }
 },
 "nbformat": 4,
 "nbformat_minor": 2
}
