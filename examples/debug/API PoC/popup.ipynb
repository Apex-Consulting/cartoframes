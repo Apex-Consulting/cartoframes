{
 "cells": [
  {
   "cell_type": "code",
   "execution_count": null,
   "metadata": {},
   "outputs": [],
   "source": [
    "from cartoframes.xxx import Context, setDefaultContext\n",
    "from cartoframes.yyy import Map, Layer, Source, Style, Popup\n",
    "\n",
    "# Context\n",
    "context = Context(\n",
    "    base_url='https://cartoframes.carto.com/',\n",
    "    api_key='default_public'\n",
    ")\n",
    "setDefaultContext(context)"
   ]
  },
  {
   "cell_type": "code",
   "execution_count": null,
   "metadata": {},
   "outputs": [],
   "source": [
    "# Popup: columns\n",
    "Map(\n",
    "    Layer(\n",
    "        Source('table_name'),\n",
    "        Style('color: blue'),\n",
    "        Popup({\n",
    "            'hover': ['pop']\n",
    "            'click': ['pop', 'age']\n",
    "        })\n",
    "    )\n",
    ")\n",
    "\n",
    "# Popup: columns + sugar\n",
    "Map(Layer('table_name', 'color: blue', {\n",
    "    'hover': ['pop']\n",
    "    'click': ['pop', 'age']\n",
    "}))"
   ]
  },
  {
   "cell_type": "code",
   "execution_count": null,
   "metadata": {},
   "outputs": [],
   "source": [
    "# Popup: expressions\n",
    "Map(\n",
    "    Layer(\n",
    "        Source('table_name'),\n",
    "        Style('color: blue'),\n",
    "        Popup({\n",
    "            'hover': ['sqrt($pop)']\n",
    "            'click': ['viewportSum($pop)', 'viewportAvg($age)']\n",
    "        })\n",
    "    )\n",
    ")\n",
    "\n",
    "# Popup: expressions + sugar\n",
    "Map(Layer('table_name', 'color: blue', {\n",
    "    'hover': ['globalSum($pop)']\n",
    "    'click': ['viewportSum($pop)', 'viewportAvg($age)']\n",
    "}))"
   ]
  },
  {
   "cell_type": "code",
   "execution_count": null,
   "metadata": {},
   "outputs": [],
   "source": [
    "# Popup: without style\n",
    "Map(\n",
    "    Layer(\n",
    "        Source('table_name'),\n",
    "        popup=Popup({\n",
    "            'hover': ['pop']\n",
    "        })\n",
    "    )\n",
    ")\n",
    "\n",
    "# Popup: without style + sugar\n",
    "Map(Layer('table_name', popup={\n",
    "    'hover': ['pop']\n",
    "}))"
   ]
  }
 ],
 "metadata": {
  "kernelspec": {
   "display_name": "Python 3",
   "language": "python",
   "name": "python3"
  },
  "language_info": {
   "codemirror_mode": {
    "name": "ipython",
    "version": 3
   },
   "file_extension": ".py",
   "mimetype": "text/x-python",
   "name": "python",
   "nbconvert_exporter": "python",
   "pygments_lexer": "ipython3",
   "version": "3.6.7"
  }
 },
 "nbformat": 4,
 "nbformat_minor": 2
}
