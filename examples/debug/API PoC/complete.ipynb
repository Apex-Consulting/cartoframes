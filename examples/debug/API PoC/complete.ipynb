{
 "cells": [
  {
   "cell_type": "code",
   "execution_count": null,
   "metadata": {},
   "outputs": [],
   "source": [
    "from cartoframes.xxx import Context, setDefaultContext\n",
    "from cartoframes.yyy import Map, Layer\n",
    "\n",
    "# Context\n",
    "context = Context(\n",
    "    base_url='https://cartoframes.carto.com/',\n",
    "    api_key='default_public'\n",
    ")\n",
    "setDefaultContext(context)"
   ]
  },
  {
   "cell_type": "code",
   "execution_count": null,
   "metadata": {},
   "outputs": [],
   "source": [
    "## Complete example\n",
    "\n",
    "geojson = { ... }\n",
    "\n",
    "map = Map([\n",
    "\n",
    "    Layer(geojson, 'color: green', {\n",
    "        'hover': ['id']\n",
    "    }),\n",
    "\n",
    "    Layer('SELECT * FROM table_name1', 'color: blue'),\n",
    "\n",
    "    Layer('table_name2', '''\n",
    "        @sum: sqrt(viewportSum($pop)) / 100\n",
    "        @grad: [#AAA, #BBB, #CCC]\n",
    "        color: ramp(buckets($age, 4), @grad)\n",
    "        filter: @sum > 50\n",
    "    ''', {\n",
    "        'hover': ['pop']\n",
    "        'click': ['pop', 'age']\n",
    "    })\n",
    "\n",
    "])\n",
    "\n",
    "url = map.publish()"
   ]
  }
 ],
 "metadata": {
  "kernelspec": {
   "display_name": "Python 3",
   "language": "python",
   "name": "python3"
  },
  "language_info": {
   "codemirror_mode": {
    "name": "ipython",
    "version": 3
   },
   "file_extension": ".py",
   "mimetype": "text/x-python",
   "name": "python",
   "nbconvert_exporter": "python",
   "pygments_lexer": "ipython3",
   "version": "3.6.7"
  }
 },
 "nbformat": 4,
 "nbformat_minor": 2
}
