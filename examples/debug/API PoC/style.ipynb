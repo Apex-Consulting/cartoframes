{
 "cells": [
  {
   "cell_type": "code",
   "execution_count": null,
   "metadata": {},
   "outputs": [],
   "source": [
    "from cartoframes import Context, set_default_context\n",
    "from cartoframes.vis import Map, Layer, Source, Style\n",
    "\n",
    "# Context\n",
    "context = Context(\n",
    "    base_url='https://cartoframes.carto.com/',\n",
    "    api_key='default_public'\n",
    ")\n",
    "set_default_context(context)"
   ]
  },
  {
   "cell_type": "code",
   "execution_count": null,
   "metadata": {},
   "outputs": [],
   "source": [
    "# Style: simple string\n",
    "Map(\n",
    "    Layer(\n",
    "        Source('table_name'),\n",
    "        Style('color: blue')\n",
    "    )\n",
    ")\n",
    "\n",
    "# Style: simple string + sugar\n",
    "Map(Layer('table_name', 'color: blue'))"
   ]
  },
  {
   "cell_type": "code",
   "execution_count": null,
   "metadata": {},
   "outputs": [],
   "source": [
    "# Style: simple object\n",
    "Map(\n",
    "    Layer(\n",
    "        Source('table_name'),\n",
    "        Style({\n",
    "           'color': 'blue' \n",
    "        })\n",
    "    )\n",
    ")\n",
    "\n",
    "# Style: simple object + sugar\n",
    "Map(Layer('table_name', { 'color': 'blue' }))"
   ]
  },
  {
   "cell_type": "code",
   "execution_count": null,
   "metadata": {},
   "outputs": [],
   "source": [
    "# Style: complex string\n",
    "Map(\n",
    "    Layer(\n",
    "        Source('table_name'),\n",
    "        Style('''\n",
    "            @sum: sqrt(viewportSum($pop)) / 100\n",
    "            @grad: [#AAA, #BBB, #CCC]\n",
    "            color: ramp(buckets($pip, 4), @grad)\n",
    "            filter: @sum > 50\n",
    "        ''')\n",
    "    )\n",
    ")\n",
    "\n",
    "# Style: complex string + sugar\n",
    "Map(Layer('table_name', '''\n",
    "    @sum: sqrt(viewportSum($pop)) / 100\n",
    "    @grad: [#AAA, #BBB, #CCC]\n",
    "    color: ramp(buckets($pip, 4), @grad)\n",
    "    filter: @sum > 50\n",
    "'''))"
   ]
  },
  {
   "cell_type": "code",
   "execution_count": null,
   "metadata": {},
   "outputs": [],
   "source": [
    "# Style: complex object\n",
    "Map(\n",
    "    Layer(\n",
    "        Source('table_name'),\n",
    "        Style({\n",
    "            '@sum': 'sqrt(viewportSum($pop)) / 100',\n",
    "            '@grad': '[#AAA, #BBB, #CCC]',\n",
    "            'color': 'ramp(buckets($pip, 4), @grad)'\n",
    "            'filter': '@sum > 50'\n",
    "        })\n",
    "    )\n",
    ")\n",
    "\n",
    "# Style: complex object + sugar\n",
    "Map(Layer('table_name', {\n",
    "    '@sum': 'sqrt(viewportSum($pop)) / 100',\n",
    "    '@grad': '[#AAA, #BBB, #CCC]',\n",
    "    'color': 'ramp(buckets($pip, 4), @grad)'\n",
    "    'filter': '@sum > 50'\n",
    "}))"
   ]
  }
 ],
 "metadata": {
  "kernelspec": {
   "display_name": "Python 3",
   "language": "python",
   "name": "python3"
  },
  "language_info": {
   "codemirror_mode": {
    "name": "ipython",
    "version": 3
   },
   "file_extension": ".py",
   "mimetype": "text/x-python",
   "name": "python",
   "nbconvert_exporter": "python",
   "pygments_lexer": "ipython3",
   "version": "3.6.7"
  }
 },
 "nbformat": 4,
 "nbformat_minor": 2
}
