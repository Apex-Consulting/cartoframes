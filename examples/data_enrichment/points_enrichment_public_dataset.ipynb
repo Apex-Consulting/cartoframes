{
 "cells": [
  {
   "cell_type": "code",
   "execution_count": null,
   "metadata": {},
   "outputs": [],
   "source": [
    "import geopandas as gpd\n",
    "from cartoframes.auth import set_default_credentials\n",
    "\n",
    "set_default_credentials()"
   ]
  },
  {
   "cell_type": "code",
   "execution_count": null,
   "metadata": {},
   "outputs": [],
   "source": [
    "arlington_file = '../files/bikes.geojson'\n",
    "bikeshare_df = gpd.read_file(arlington_file)\n",
    "bikeshare_df.head(10)"
   ]
  },
  {
   "cell_type": "code",
   "execution_count": null,
   "metadata": {},
   "outputs": [],
   "source": [
    "from cartoframes.data.observatory import CatalogDataset, Catalog\n",
    "\n",
    "dataset = CatalogDataset.get('carto-do-public-data.usa_acs.demographics_acs_usa_censustractclipped_2015_5yrs_20132017')\n",
    "variables = dataset.variables\n",
    "variables"
   ]
  },
  {
   "cell_type": "code",
   "execution_count": null,
   "metadata": {},
   "outputs": [],
   "source": [
    "variable = variables.get('no_cars_d19dfd10')\n",
    "variable"
   ]
  },
  {
   "cell_type": "code",
   "execution_count": null,
   "metadata": {},
   "outputs": [],
   "source": [
    "from cartoframes.data.observatory import Enrichment\n",
    "\n",
    "enrichment = Enrichment()\n",
    "\n",
    "enriched_dataset_df = enrichment.enrich_points(\n",
    "    bikeshare_df,\n",
    "    variables=['no_cars_d19dfd10']\n",
    ")"
   ]
  },
  {
   "cell_type": "code",
   "execution_count": null,
   "metadata": {},
   "outputs": [],
   "source": [
    "enriched_dataset_df.head(10)"
   ]
  },
  {
   "cell_type": "code",
   "execution_count": null,
   "metadata": {},
   "outputs": [],
   "source": [
    "from cartoframes.viz import Map\n",
    "from cartoframes.viz.helpers import size_continuous_layer\n",
    "\n",
    "Map(size_continuous_layer(enriched_dataset_df, value='no_cars'))"
   ]
  }
 ],
 "metadata": {
  "kernelspec": {
   "display_name": "Python 3",
   "language": "python",
   "name": "python3"
  },
  "language_info": {
   "codemirror_mode": {
    "name": "ipython",
    "version": 3
   },
   "file_extension": ".py",
   "mimetype": "text/x-python",
   "name": "python",
   "nbconvert_exporter": "python",
   "pygments_lexer": "ipython3",
   "version": "3.7.3"
  }
 },
 "nbformat": 4,
 "nbformat_minor": 2
}
