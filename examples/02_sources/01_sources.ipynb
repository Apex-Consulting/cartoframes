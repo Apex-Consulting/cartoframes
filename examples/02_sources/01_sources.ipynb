{
 "cells": [
  {
   "cell_type": "markdown",
   "metadata": {},
   "source": [
    "# Sources"
   ]
  },
  {
   "cell_type": "code",
   "execution_count": null,
   "metadata": {},
   "outputs": [],
   "source": [
    "from cartoframes.auth import set_default_context\n",
    "from cartoframes.viz import Map, Layer, Source\n",
    "\n",
    "set_default_context('https://cartovl.carto.com/')\n",
    "\n",
    "Map(\n",
    "    Layer(\n",
    "        Source('populated_places')\n",
    "    )\n",
    ")"
   ]
  },
  {
   "cell_type": "markdown",
   "metadata": {},
   "source": [
    "## Table Name\n",
    "\n",
    "Create a new `Source` passing the name of your table in CARTO. It's not needed to use the `Source` class to create the source for the layer, it's automatically casted when sent as the first parameter"
   ]
  },
  {
   "cell_type": "code",
   "execution_count": null,
   "metadata": {},
   "outputs": [],
   "source": [
    "Map(\n",
    "    Layer('populated_places')\n",
    ")"
   ]
  },
  {
   "cell_type": "markdown",
   "metadata": {},
   "source": [
    "## SQL Query"
   ]
  },
  {
   "cell_type": "code",
   "execution_count": null,
   "metadata": {},
   "outputs": [],
   "source": [
    "Map(Layer('SELECT * FROM populated_places LIMIT 10'))"
   ]
  },
  {
   "cell_type": "markdown",
   "metadata": {},
   "source": [
    "## GeoJSON file"
   ]
  },
  {
   "cell_type": "code",
   "execution_count": null,
   "metadata": {},
   "outputs": [],
   "source": [
    "Map(Layer('points.geojson'))"
   ]
  },
  {
   "cell_type": "markdown",
   "metadata": {},
   "source": [
    "## Dataframe"
   ]
  },
  {
   "cell_type": "code",
   "execution_count": null,
   "metadata": {},
   "outputs": [],
   "source": [
    "import pandas as pd\n",
    "\n",
    "data = {'latitude': [0, 10, 20, 30], 'longitude': [0, 10, 20, 30]}\n",
    "df = pd.DataFrame.from_dict(data)\n",
    "\n",
    "Map(Layer(df))"
   ]
  },
  {
   "cell_type": "markdown",
   "metadata": {},
   "source": [
    "## Dataframe from CARTO using Dataset"
   ]
  },
  {
   "cell_type": "code",
   "execution_count": null,
   "metadata": {},
   "outputs": [],
   "source": [
    "from cartoframes.data import Dataset\n",
    "\n",
    "ds = Dataset.from_table('populated_places')\n",
    "\n",
    "df = ds.download(limit=10)\n",
    "\n",
    "Map(Layer(df))"
   ]
  },
  {
   "cell_type": "markdown",
   "metadata": {},
   "source": [
    "## Table from CARTO using Dataset"
   ]
  },
  {
   "cell_type": "code",
   "execution_count": null,
   "metadata": {},
   "outputs": [],
   "source": [
    "from cartoframes.data import Dataset\n",
    "\n",
    "ds = Dataset.from_table('populated_places')\n",
    "\n",
    "Map(Layer(ds))"
   ]
  },
  {
   "cell_type": "markdown",
   "metadata": {},
   "source": [
    "## Pandas Dataframe"
   ]
  },
  {
   "cell_type": "code",
   "execution_count": null,
   "metadata": {},
   "outputs": [],
   "source": [
    "import pandas as pd\n",
    "\n",
    "data = {'latitude': [0, 10, 20, 30], 'longitude': [0, 10, 20, 30]}\n",
    "df = pd.DataFrame.from_dict(data)\n",
    "\n",
    "ds = Dataset.from_dataframe(df)\n",
    "\n",
    "Map(Layer(ds))"
   ]
  },
  {
   "cell_type": "code",
   "execution_count": null,
   "metadata": {},
   "outputs": [],
   "source": []
  }
 ],
 "metadata": {
  "kernelspec": {
   "display_name": "Python 3",
   "language": "python",
   "name": "python3"
  },
  "language_info": {
   "codemirror_mode": {
    "name": "ipython",
    "version": 3
   },
   "file_extension": ".py",
   "mimetype": "text/x-python",
   "name": "python",
   "nbconvert_exporter": "python",
   "pygments_lexer": "ipython3",
   "version": "3.7.2"
  }
 },
 "nbformat": 4,
 "nbformat_minor": 2
}
