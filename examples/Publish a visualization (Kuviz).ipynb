{
 "cells": [
  {
   "cell_type": "markdown",
   "metadata": {},
   "source": [
    "We are going to show how to publish a visualization created in a Notebook getting the final URL of your visualization to share it. For that, we will need to use the CARTO custom visualizations (aka Kuviz). \n",
    "\n",
    "We are going to start creating a Carto Context and we will use it in every example.\n",
    "\n",
    "You only need to complete the following cell:"
   ]
  },
  {
   "cell_type": "markdown",
   "metadata": {},
   "source": [
    "# Complete the following info"
   ]
  },
  {
   "cell_type": "code",
   "execution_count": null,
   "metadata": {},
   "outputs": [],
   "source": [
    "USERNAME = \"\"\n",
    "BASE_URL = \"https://{u}.carto.com\".format(u=USERNAME)\n",
    "API_KEY = \"\"\n",
    "PUBLIC_TABLE = \"\"\n",
    "PRIVATE_TABLE = \"\""
   ]
  },
  {
   "cell_type": "markdown",
   "metadata": {},
   "source": [
    "# Carto Context"
   ]
  },
  {
   "cell_type": "code",
   "execution_count": null,
   "metadata": {},
   "outputs": [],
   "source": [
    "from cartoframes.auth import set_default_context\n",
    "\n",
    "set_default_context(\n",
    "    base_url=BASE_URL,\n",
    "    api_key=API_KEY\n",
    ")"
   ]
  },
  {
   "cell_type": "markdown",
   "metadata": {},
   "source": [
    "# case 1: using a synchronized and public table"
   ]
  },
  {
   "cell_type": "code",
   "execution_count": null,
   "metadata": {},
   "outputs": [],
   "source": [
    "from cartoframes.viz import Map, Layer, basemaps\n",
    "\n",
    "tmap = Map(Layer(PUBLIC_TABLE))"
   ]
  },
  {
   "cell_type": "code",
   "execution_count": null,
   "metadata": {},
   "outputs": [],
   "source": [
    "tmap.publish('cf_publish_case_1')"
   ]
  },
  {
   "cell_type": "markdown",
   "metadata": {},
   "source": [
    "Is my master API key shared in the visualization? No, it isn't. The 'publish' method uses 'default_public' by default.\n",
    "\n",
    "You can create a visualization with password:"
   ]
  },
  {
   "cell_type": "code",
   "execution_count": null,
   "metadata": {},
   "outputs": [],
   "source": [
    "tmap.publish('cf_publish_case_1_password', password=\"1234\")"
   ]
  },
  {
   "cell_type": "markdown",
   "metadata": {},
   "source": [
    "# case 2: synchronized & private table"
   ]
  },
  {
   "cell_type": "code",
   "execution_count": null,
   "metadata": {},
   "outputs": [],
   "source": [
    "from cartoframes.viz import Map, Layer, basemaps\n",
    "\n",
    "tmap = Map(Layer(PRIVATE_TABLE))"
   ]
  },
  {
   "cell_type": "markdown",
   "metadata": {},
   "source": [
    "Now, you need to add the `maps_api_key` parameter in the publish method. This is due to the 'publish' method uses 'default_public' by default and the dataset is private. \n",
    "\n",
    "So, you should add a Maps API key with permissions for your private table from your CARTO dashboard or using the Auth API. You can get more info at https://carto.com/developers/auth-api/guides/types-of-API-Keys/"
   ]
  },
  {
   "cell_type": "code",
   "execution_count": null,
   "metadata": {},
   "outputs": [],
   "source": [
    "# The link to your dashboard:\n",
    "\"{BASE_URL}/your_apps\".format(BASE_URL=BASE_URL)"
   ]
  },
  {
   "cell_type": "code",
   "execution_count": null,
   "metadata": {},
   "outputs": [],
   "source": [
    "tmap.publish('cf_publish_case_2', maps_api_key='YOUR MAPS API KEY')"
   ]
  },
  {
   "cell_type": "markdown",
   "metadata": {},
   "source": [
    "# case 3: non synchronized and private table"
   ]
  },
  {
   "cell_type": "code",
   "execution_count": null,
   "metadata": {},
   "outputs": [],
   "source": [
    "from cartoframes.viz import Map, Layer, basemaps\n",
    "from cartoframes.data import Dataset\n",
    "\n",
    "ds = Dataset.from_table(PRIVATE_TABLE)\n",
    "ds.download()\n",
    "ds._is_saved_in_carto = False\n",
    "\n",
    "tmap = Map(Layer(ds))"
   ]
  },
  {
   "cell_type": "markdown",
   "metadata": {},
   "source": [
    "In this case, if you try to publish a non synchronized dataset, you will get an error:\n",
    "\n",
    "'The map layers are not synchronized with CARTO. Please, use the `sync_data` before publishing the map'\n",
    "\n",
    "Try it:"
   ]
  },
  {
   "cell_type": "code",
   "execution_count": null,
   "metadata": {},
   "outputs": [],
   "source": [
    "tmap.publish('cf_publish_case_3')"
   ]
  },
  {
   "cell_type": "markdown",
   "metadata": {},
   "source": [
    "As the error message says, we will need to make a previous step sychronizing the data. After that as your new table will be private, you will need to create a Maps API key with permissions for your new private table from your CARTO dashboard or Auth API. And finally, we will be ready to publish the visualization."
   ]
  },
  {
   "cell_type": "code",
   "execution_count": null,
   "metadata": {},
   "outputs": [],
   "source": [
    "table_name = \"{PRIVATE_TABLE}_case3\".format(PRIVATE_TABLE=PRIVATE_TABLE)\n",
    "tmap.sync_data(table_name)"
   ]
  },
  {
   "cell_type": "code",
   "execution_count": null,
   "metadata": {},
   "outputs": [],
   "source": [
    "tmap.publish('cf_publish_case_3', maps_api_key='YOUR MAPS API KEY')"
   ]
  },
  {
   "cell_type": "markdown",
   "metadata": {},
   "source": [
    "# Updating a Kuviz"
   ]
  },
  {
   "cell_type": "code",
   "execution_count": null,
   "metadata": {},
   "outputs": [],
   "source": [
    "from cartoframes.viz import Map, Layer, basemaps\n",
    "\n",
    "tmap = Map(Layer(PUBLIC_TABLE))\n",
    "tmap.publish('cf_publish_update_1')"
   ]
  },
  {
   "cell_type": "markdown",
   "metadata": {},
   "source": [
    "Changing name"
   ]
  },
  {
   "cell_type": "code",
   "execution_count": null,
   "metadata": {},
   "outputs": [],
   "source": [
    "tmap.update_publication('cf_publish_update_2', password=None)"
   ]
  },
  {
   "cell_type": "markdown",
   "metadata": {},
   "source": [
    "Adding password"
   ]
  },
  {
   "cell_type": "code",
   "execution_count": null,
   "metadata": {},
   "outputs": [],
   "source": [
    "tmap.update_publication('cf_publish_update_3', password=\"1234\")"
   ]
  },
  {
   "cell_type": "markdown",
   "metadata": {},
   "source": [
    "Removing password"
   ]
  },
  {
   "cell_type": "code",
   "execution_count": null,
   "metadata": {},
   "outputs": [],
   "source": [
    "tmap.update_publication('cf_publish_update_4', password=None)"
   ]
  },
  {
   "cell_type": "markdown",
   "metadata": {},
   "source": [
    "# Delete a Kuviz"
   ]
  },
  {
   "cell_type": "code",
   "execution_count": null,
   "metadata": {},
   "outputs": [],
   "source": [
    "from cartoframes.viz import Map, Layer, basemaps\n",
    "\n",
    "tmap = Map(Layer(PUBLIC_TABLE))\n",
    "tmap.publish('cf_publish_delete_1')"
   ]
  },
  {
   "cell_type": "code",
   "execution_count": null,
   "metadata": {},
   "outputs": [],
   "source": [
    "tmap.delete_publication()"
   ]
  },
  {
   "cell_type": "markdown",
   "metadata": {},
   "source": [
    "# Get all Kuviz"
   ]
  },
  {
   "cell_type": "code",
   "execution_count": null,
   "metadata": {},
   "outputs": [],
   "source": [
    "from cartoframes.viz import Map\n",
    "Map.all_publications()"
   ]
  }
 ],
 "metadata": {
  "kernelspec": {
   "display_name": "env",
   "language": "python",
   "name": "env"
  },
  "language_info": {
   "codemirror_mode": {
    "name": "ipython",
    "version": 3
   },
   "file_extension": ".py",
   "mimetype": "text/x-python",
   "name": "python",
   "nbconvert_exporter": "python",
   "pygments_lexer": "ipython3",
   "version": "3.6.7"
  }
 },
 "nbformat": 4,
 "nbformat_minor": 2
}
