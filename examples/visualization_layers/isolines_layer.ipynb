{
 "cells": [
  {
   "cell_type": "markdown",
   "metadata": {},
   "source": [
    "# Isolines Layer\n",
    "\n",
    "Visualization layers provide a way to quickly visualize patterns during data science workflows.\n",
    "\n",
    "By default, visualization layers provide:\n",
    "- a map style based on the kind of attribute (number or category) and map type you want to make\n",
    "- an appropriate legend \n",
    "- hover interactivity on the mapped attribute\n",
    "\n",
    "Each visualization layer has a set of parameters available to fine-tune the design and add additional map functionality. For detailed information on each, run `help(isolines_layer)`.\n",
    "\n",
    "In the first example, the `isolines_layer` is used to style the results of the isochrones generated in [this example](https://carto.com/developers/cartoframes/examples/#example-calculate-isochrones). In the second example, the defaults are modified to hange the color scheme, add a histogram widget and turn popups on hover off."
   ]
  },
  {
   "cell_type": "code",
   "execution_count": null,
   "metadata": {},
   "outputs": [],
   "source": [
    "from cartoframes.auth import set_default_credentials\n",
    "\n",
    "set_default_credentials('cartoframes')"
   ]
  },
  {
   "cell_type": "code",
   "execution_count": null,
   "metadata": {},
   "outputs": [],
   "source": [
    "from cartoframes import read_carto\n",
    "from cartoframes.viz.layers import isolines_layer\n",
    "\n",
    "gdf = read_carto('isochrones')\n",
    "gdf.head()"
   ]
  },
  {
   "cell_type": "code",
   "execution_count": null,
   "metadata": {},
   "outputs": [],
   "source": [
    "gdf['label'] = gdf.apply(lambda row: '{0} - {1}'.format(row['data_range'], row['lower_data_range']), axis=1)\n",
    "\n",
    "isolines_layer(gdf, value='label')"
   ]
  },
  {
   "cell_type": "code",
   "execution_count": null,
   "metadata": {},
   "outputs": [],
   "source": [
    "isolines_layer(\n",
    "    gdf,\n",
    "    value='label',\n",
    "    title='Walk Times',\n",
    "    stroke_color='rgba(255,255,255,0.3)',\n",
    "    palette='[#00cbe3,#27436a]',\n",
    "    description='From each address',\n",
    "    popups=False\n",
    ")"
   ]
  }
 ],
 "metadata": {
  "kernelspec": {
   "display_name": "Python 3",
   "language": "python",
   "name": "python3"
  },
  "language_info": {
   "codemirror_mode": {
    "name": "ipython",
    "version": 3
   },
   "file_extension": ".py",
   "mimetype": "text/x-python",
   "name": "python",
   "nbconvert_exporter": "python",
   "pygments_lexer": "ipython3",
   "version": "3.6.7"
  }
 },
 "nbformat": 4,
 "nbformat_minor": 2
}
