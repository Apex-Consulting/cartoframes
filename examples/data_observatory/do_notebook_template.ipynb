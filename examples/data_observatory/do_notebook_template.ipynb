{
 "cells": [
  {
   "cell_type": "markdown",
   "metadata": {},
   "source": [
    "# Introduction"
   ]
  },
  {
   "cell_type": "markdown",
   "metadata": {},
   "source": [
    "This is a basic template to start playing with your new Dataset from Data Observatory through the Python library CARTOframes.\n",
    "\n",
    "You can find more info about how to use CARTOframes in the [Quickstart guide](https://carto.com/developers/cartoframes/guides/Quickstart/)."
   ]
  },
  {
   "cell_type": "markdown",
   "metadata": {},
   "source": [
    "# Credentials"
   ]
  },
  {
   "cell_type": "code",
   "execution_count": null,
   "metadata": {},
   "outputs": [],
   "source": [
    "from cartoframes.auth import set_default_credentials\n",
    "\n",
    "username = 'YOUR_USERNAME'\n",
    "api_key  = 'YOUR_API_KEY'\n",
    "\n",
    "set_default_credentials(username, api_key)"
   ]
  },
  {
   "cell_type": "markdown",
   "metadata": {},
   "source": [
    "**Note about credentials**\n",
    "\n",
    "For security reasons we recomend to store your credentials in an external file, so they are not published by accident within your notebook. You can get more information in the section *Setting your credentials* of the [Authentication guide](https://carto.com/developers/cartoframes/guides/Authentication/)."
   ]
  },
  {
   "cell_type": "markdown",
   "metadata": {},
   "source": [
    "# Dataset operations"
   ]
  },
  {
   "cell_type": "markdown",
   "metadata": {},
   "source": [
    "## Explore\n",
    "\n",
    "More info in the [Data discovery guide](https://carto.com/developers/cartoframes/guides/Data-discovery/)."
   ]
  },
  {
   "cell_type": "code",
   "execution_count": null,
   "metadata": {},
   "outputs": [],
   "source": [
    "from cartoframes.data.observatory import Dataset\n",
    "\n",
    "dataset = Dataset.get('YOUR_SLUG_ID')"
   ]
  },
  {
   "cell_type": "code",
   "execution_count": null,
   "metadata": {},
   "outputs": [],
   "source": [
    "dataset.head()"
   ]
  },
  {
   "cell_type": "code",
   "execution_count": null,
   "metadata": {},
   "outputs": [],
   "source": [
    "dataset.describe()"
   ]
  },
  {
   "cell_type": "code",
   "execution_count": null,
   "metadata": {},
   "outputs": [],
   "source": [
    "dataset.to_dict()"
   ]
  },
  {
   "cell_type": "code",
   "execution_count": null,
   "metadata": {},
   "outputs": [],
   "source": [
    "dataset.geom_coverage()"
   ]
  },
  {
   "cell_type": "code",
   "execution_count": null,
   "metadata": {},
   "outputs": [],
   "source": [
    "dataset.variables"
   ]
  },
  {
   "cell_type": "markdown",
   "metadata": {},
   "source": [
    "## Download to CSV\n",
    "\n",
    "More info in the [Data discovery guide](https://carto.com/developers/cartoframes/guides/Data-discovery/)."
   ]
  },
  {
   "cell_type": "code",
   "execution_count": null,
   "metadata": {},
   "outputs": [],
   "source": [
    "# Filter by SQL query\n",
    "query = \"SELECT * FROM $dataset$ LIMIT 1\"\n",
    "\n",
    "dataset.to_csv('my_dataset.csv', sql_query=query)"
   ]
  },
  {
   "cell_type": "markdown",
   "metadata": {},
   "source": [
    "## Download to DataFrame\n",
    "\n",
    "More info in the [Data discovery guide](https://carto.com/developers/cartoframes/guides/Data-discovery/)."
   ]
  },
  {
   "cell_type": "code",
   "execution_count": null,
   "metadata": {},
   "outputs": [],
   "source": [
    "# Filter by SQL query\n",
    "query = \"SELECT * FROM $dataset$ LIMIT 1\"\n",
    "\n",
    "dataset_df = dataset.to_dataframe(sql_query=query)"
   ]
  },
  {
   "cell_type": "markdown",
   "metadata": {},
   "source": [
    "## Visualization\n",
    "\n",
    "More info in the [Visualization guide](https://carto.com/developers/cartoframes/guides/Visualization/)."
   ]
  },
  {
   "cell_type": "code",
   "execution_count": null,
   "metadata": {},
   "outputs": [],
   "source": [
    "from cartoframes.viz import Layer\n",
    "\n",
    "Layer(dataset_df, geom_col='geom')"
   ]
  },
  {
   "cell_type": "markdown",
   "metadata": {},
   "source": [
    "## Enrichment\n",
    "\n",
    "More info in the [Data enrichment guide](https://carto.com/developers/cartoframes/guides/Data-enrichment/)."
   ]
  },
  {
   "cell_type": "code",
   "execution_count": null,
   "metadata": {},
   "outputs": [],
   "source": [
    "from cartoframes.data.observatory import Enrichment\n",
    "\n",
    "enriched_df = Enrichment().enrich_polygons(\n",
    "    df,  # Insert here the DataFrame to be enriched\n",
    "    variables=['YOUR_DATASET_VARIABLE']\n",
    ")"
   ]
  },
  {
   "cell_type": "markdown",
   "metadata": {},
   "source": [
    "## Uplodat to CARTO\n",
    "\n",
    "More info in the [Data Management guide](https://carto.com/developers/cartoframes/guides/Data-management/)."
   ]
  },
  {
   "cell_type": "code",
   "execution_count": null,
   "metadata": {},
   "outputs": [],
   "source": [
    "from cartoframes import to_carto\n",
    "\n",
    "to_carto(dataset_df, 'my_dataset', geom_col='geom')"
   ]
  }
 ],
 "metadata": {
  "kernelspec": {
   "display_name": "Python 3",
   "language": "python",
   "name": "python3"
  },
  "language_info": {
   "codemirror_mode": {
    "name": "ipython",
    "version": 3
   },
   "file_extension": ".py",
   "mimetype": "text/x-python",
   "name": "python",
   "nbconvert_exporter": "python",
   "pygments_lexer": "ipython3",
   "version": "3.6.7"
  }
 },
 "nbformat": 4,
 "nbformat_minor": 2
}
