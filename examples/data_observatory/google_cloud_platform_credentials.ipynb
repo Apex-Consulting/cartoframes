{
 "cells": [
  {
   "cell_type": "markdown",
   "metadata": {},
   "source": [
    "# Google Cloud Platform credentials\n",
    "\n",
    "This example illustrates how to create a Google Cloud Platform credentials object from your Data Observatory enabled CARTO account."
   ]
  },
  {
   "cell_type": "code",
   "execution_count": 1,
   "metadata": {},
   "outputs": [],
   "source": [
    "from cartoframes.auth import Credentials\n",
    "from cartoframes.data.observatory import Dataset\n",
    "\n",
    "from google.cloud import bigquery, storage, bigquery_storage_v1beta1 as bigquery_storage\n",
    "from google.oauth2.credentials import Credentials as GCPCredentials"
   ]
  },
  {
   "cell_type": "code",
   "execution_count": 2,
   "metadata": {},
   "outputs": [],
   "source": [
    "creds = Credentials('creds.json')"
   ]
  },
  {
   "cell_type": "code",
   "execution_count": 3,
   "metadata": {},
   "outputs": [],
   "source": [
    "gcp_project, gcp_token = creds.get_gcp_auth_info()\n",
    "gcp_credentials = GCPCredentials(gcp_token)"
   ]
  },
  {
   "cell_type": "code",
   "execution_count": 4,
   "metadata": {},
   "outputs": [],
   "source": [
    "bq_client = bigquery.Client(project=gcp_project, credentials=gcp_credentials)\n",
    "gcs_client = storage.Client(project=gcp_project, credentials=gcp_credentials)\n",
    "bqs_client = bigquery_storage.BigQueryStorageClient(credentials=gcp_project)"
   ]
  },
  {
   "cell_type": "code",
   "execution_count": 5,
   "metadata": {},
   "outputs": [],
   "source": [
    "dataset = Dataset.get('acs_sociodemogr_8c2655e0')"
   ]
  },
  {
   "cell_type": "code",
   "execution_count": 6,
   "metadata": {},
   "outputs": [
    {
     "data": {
      "text/plain": [
       "True"
      ]
     },
     "execution_count": 6,
     "metadata": {},
     "output_type": "execute_result"
    }
   ],
   "source": [
    "dataset.is_public_data"
   ]
  },
  {
   "cell_type": "code",
   "execution_count": 7,
   "metadata": {},
   "outputs": [
    {
     "data": {
      "text/plain": [
       "'carto-do-public-data.usa_acs.demographics_sociodemographics_usa_county_2015_5yrs_20132017'"
      ]
     },
     "execution_count": 7,
     "metadata": {},
     "output_type": "execute_result"
    }
   ],
   "source": [
    "dataset.id"
   ]
  },
  {
   "cell_type": "code",
   "execution_count": 8,
   "metadata": {},
   "outputs": [],
   "source": [
    "query_job = bq_client.query('SELECT * FROM `{}` LIMIT 1'.format(dataset.id))\n",
    "results = query_job.result()"
   ]
  },
  {
   "cell_type": "code",
   "execution_count": 9,
   "metadata": {},
   "outputs": [
    {
     "data": {
      "text/plain": [
       "[SchemaField('geoid', 'STRING', 'NULLABLE', None, ()),\n",
       " SchemaField('do_date', 'DATE', 'NULLABLE', None, ()),\n",
       " SchemaField('total_pop', 'FLOAT', 'NULLABLE', None, ())]"
      ]
     },
     "execution_count": 9,
     "metadata": {},
     "output_type": "execute_result"
    }
   ],
   "source": [
    "results.schema[0:3]"
   ]
  },
  {
   "cell_type": "code",
   "execution_count": 10,
   "metadata": {},
   "outputs": [
    {
     "name": "stdout",
     "output_type": "stream",
     "text": [
      "18025 10598.0\n"
     ]
    }
   ],
   "source": [
    "for row in results:\n",
    "    print(row['geoid'], row['total_pop'])"
   ]
  }
 ],
 "metadata": {
  "kernelspec": {
   "display_name": "Python 3.5.3 64-bit ('cartoframes': venv)",
   "language": "python",
   "name": "python35364bitcartoframesvenveab847f182df42dfb14e0580b7bdb4bc"
  },
  "language_info": {
   "codemirror_mode": {
    "name": "ipython",
    "version": 3
   },
   "file_extension": ".py",
   "mimetype": "text/x-python",
   "name": "python",
   "nbconvert_exporter": "python",
   "pygments_lexer": "ipython3",
   "version": "3.5.3"
  }
 },
 "nbformat": 4,
 "nbformat_minor": 4
}
