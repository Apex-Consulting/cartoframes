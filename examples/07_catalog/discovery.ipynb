{
 "cells": [
  {
   "cell_type": "markdown",
   "metadata": {},
   "source": [
    "# Discoverying content of interest in the Data Observatory\n",
    "\n",
    "The Discovery API is a powerful tool for exploring the available datasets in our data lake. Through its methods you would be able to navigate through the datasets and their properties, thus knowing in advanced which sources may be of interest for you before even requesting access to them. "
   ]
  },
  {
   "cell_type": "markdown",
   "metadata": {},
   "source": [
    "## Catalog: the first step for discovery\n",
    "\n",
    "The Catalog class provides the methods to be used as the starting point in your discovery. It allows you to get the complete list of categories related to the avilable datasets, for example.\n"
   ]
  },
  {
   "cell_type": "markdown",
   "metadata": {},
   "source": [
    "### Get the list of categories"
   ]
  },
  {
   "cell_type": "code",
   "execution_count": 1,
   "metadata": {},
   "outputs": [
    {
     "data": {
      "text/plain": [
       "[Category(demographics),\n",
       " Category(environmental),\n",
       " Category(financial),\n",
       " Category(housing),\n",
       " Category(human_mobility),\n",
       " Category(points_of_interest),\n",
       " Category(road_traffic)]"
      ]
     },
     "execution_count": 1,
     "metadata": {},
     "output_type": "execute_result"
    }
   ],
   "source": [
    "from cartoframes.data.observatory.catalog import Catalog\n",
    "from cartoframes.data.observatory.category import Category\n",
    "\n",
    "catalog = Catalog()\n",
    "categories = catalog.categories\n",
    "\n",
    "categories"
   ]
  },
  {
   "cell_type": "code",
   "execution_count": 2,
   "metadata": {},
   "outputs": [
    {
     "data": {
      "text/plain": [
       "True"
      ]
     },
     "execution_count": 2,
     "metadata": {},
     "output_type": "execute_result"
    }
   ],
   "source": [
    "isinstance(categories[0], Category)"
   ]
  },
  {
   "cell_type": "markdown",
   "metadata": {},
   "source": [
    "We can also obtain the categories as a pandas DataFrame:"
   ]
  },
  {
   "cell_type": "code",
   "execution_count": 3,
   "metadata": {},
   "outputs": [
    {
     "data": {
      "text/html": [
       "<div>\n",
       "<style scoped>\n",
       "    .dataframe tbody tr th:only-of-type {\n",
       "        vertical-align: middle;\n",
       "    }\n",
       "\n",
       "    .dataframe tbody tr th {\n",
       "        vertical-align: top;\n",
       "    }\n",
       "\n",
       "    .dataframe thead th {\n",
       "        text-align: right;\n",
       "    }\n",
       "</style>\n",
       "<table border=\"1\" class=\"dataframe\">\n",
       "  <thead>\n",
       "    <tr style=\"text-align: right;\">\n",
       "      <th></th>\n",
       "      <th>id</th>\n",
       "      <th>name</th>\n",
       "    </tr>\n",
       "  </thead>\n",
       "  <tbody>\n",
       "    <tr>\n",
       "      <td>0</td>\n",
       "      <td>demographics</td>\n",
       "      <td>Demographics</td>\n",
       "    </tr>\n",
       "    <tr>\n",
       "      <td>1</td>\n",
       "      <td>environmental</td>\n",
       "      <td>Environmental</td>\n",
       "    </tr>\n",
       "    <tr>\n",
       "      <td>2</td>\n",
       "      <td>financial</td>\n",
       "      <td>Financial</td>\n",
       "    </tr>\n",
       "    <tr>\n",
       "      <td>3</td>\n",
       "      <td>housing</td>\n",
       "      <td>Housing</td>\n",
       "    </tr>\n",
       "    <tr>\n",
       "      <td>4</td>\n",
       "      <td>human_mobility</td>\n",
       "      <td>Human Mobility</td>\n",
       "    </tr>\n",
       "    <tr>\n",
       "      <td>5</td>\n",
       "      <td>points_of_interest</td>\n",
       "      <td>Points of Interest</td>\n",
       "    </tr>\n",
       "    <tr>\n",
       "      <td>6</td>\n",
       "      <td>road_traffic</td>\n",
       "      <td>Road Traffic</td>\n",
       "    </tr>\n",
       "  </tbody>\n",
       "</table>\n",
       "</div>"
      ],
      "text/plain": [
       "                   id                name\n",
       "0        demographics        Demographics\n",
       "1       environmental       Environmental\n",
       "2           financial           Financial\n",
       "3             housing             Housing\n",
       "4      human_mobility      Human Mobility\n",
       "5  points_of_interest  Points of Interest\n",
       "6        road_traffic        Road Traffic"
      ]
     },
     "execution_count": 3,
     "metadata": {},
     "output_type": "execute_result"
    }
   ],
   "source": [
    "categories_df = categories.to_dataframe()\n",
    "categories_df"
   ]
  },
  {
   "cell_type": "code",
   "execution_count": 4,
   "metadata": {},
   "outputs": [
    {
     "data": {
      "text/plain": [
       "True"
      ]
     },
     "execution_count": 4,
     "metadata": {},
     "output_type": "execute_result"
    }
   ],
   "source": [
    "import pandas as pd\n",
    "\n",
    "isinstance(categories_df, pd.DataFrame)"
   ]
  },
  {
   "cell_type": "markdown",
   "metadata": {},
   "source": [
    "### Filter one category \n",
    "\n",
    "Since the list of categories is also a Pandas' DataFrame, we can use its already familiar methods to explore the data."
   ]
  },
  {
   "cell_type": "code",
   "execution_count": 5,
   "metadata": {},
   "outputs": [
    {
     "data": {
      "text/plain": [
       "Category(demographics)"
      ]
     },
     "execution_count": 5,
     "metadata": {},
     "output_type": "execute_result"
    }
   ],
   "source": [
    "filtered_category = categories[0]\n",
    "filtered_category"
   ]
  },
  {
   "cell_type": "code",
   "execution_count": 6,
   "metadata": {},
   "outputs": [
    {
     "data": {
      "text/plain": [
       "True"
      ]
     },
     "execution_count": 6,
     "metadata": {},
     "output_type": "execute_result"
    }
   ],
   "source": [
    "isinstance(filtered_category, Category)"
   ]
  },
  {
   "cell_type": "markdown",
   "metadata": {},
   "source": [
    "We can obtain the category in a pandas Series:"
   ]
  },
  {
   "cell_type": "code",
   "execution_count": 7,
   "metadata": {},
   "outputs": [
    {
     "data": {
      "text/plain": [
       "id      demographics\n",
       "name    Demographics\n",
       "dtype: object"
      ]
     },
     "execution_count": 7,
     "metadata": {},
     "output_type": "execute_result"
    }
   ],
   "source": [
    "category_series = filtered_category.to_series()\n",
    "category_series\n"
   ]
  },
  {
   "cell_type": "code",
   "execution_count": 8,
   "metadata": {},
   "outputs": [
    {
     "data": {
      "text/plain": [
       "True"
      ]
     },
     "execution_count": 8,
     "metadata": {},
     "output_type": "execute_result"
    }
   ],
   "source": [
    "import pandas as pd\n",
    "\n",
    "isinstance(category_series, pd.Series)"
   ]
  },
  {
   "cell_type": "markdown",
   "metadata": {},
   "source": [
    "## Explore a particular category\n",
    "\n",
    "If we already know that a particular category has presence in the Catalog, we can retrieve it directly by using its id."
   ]
  },
  {
   "cell_type": "code",
   "execution_count": 9,
   "metadata": {},
   "outputs": [
    {
     "data": {
      "text/plain": [
       "Category(demographics)"
      ]
     },
     "execution_count": 9,
     "metadata": {},
     "output_type": "execute_result"
    }
   ],
   "source": [
    "category1 = catalog.categories.get('demographics')\n",
    "\n",
    "category1"
   ]
  },
  {
   "cell_type": "code",
   "execution_count": 10,
   "metadata": {},
   "outputs": [
    {
     "data": {
      "text/plain": [
       "True"
      ]
     },
     "execution_count": 10,
     "metadata": {},
     "output_type": "execute_result"
    }
   ],
   "source": [
    "isinstance(category1, Category)"
   ]
  },
  {
   "cell_type": "markdown",
   "metadata": {},
   "source": [
    "And we can access its different properties:"
   ]
  },
  {
   "cell_type": "code",
   "execution_count": 11,
   "metadata": {},
   "outputs": [
    {
     "data": {
      "text/plain": [
       "'Demographics'"
      ]
     },
     "execution_count": 11,
     "metadata": {},
     "output_type": "execute_result"
    }
   ],
   "source": [
    "category1.name"
   ]
  },
  {
   "cell_type": "markdown",
   "metadata": {},
   "source": [
    "### Get the datasets for that category\n",
    "\n",
    "Once we have a Category we can use the discovery methods to get the datasets related to that category."
   ]
  },
  {
   "cell_type": "code",
   "execution_count": 12,
   "metadata": {},
   "outputs": [
    {
     "data": {
      "text/plain": [
       "[Dataset(carto-do-public-data.acsquantiles.demographics_acsquantiles_usa_schooldistrictunifiedclipped_2015_5yrs_20062010),\n",
       " Dataset(carto-do-public-data.acs.demographics_acs_usa_stateclipped_2015_5yrs_20062010),\n",
       " Dataset(carto-do-public-data.acs.demographics_acs_usa_placeclipped_2015_yearly_2010),\n",
       " Dataset(carto-do-public-data.acs.demographics_acs_usa_countyclipped_2015_yearly_2015),\n",
       " Dataset(carto-do-public-data.acsquantiles.demographics_acsquantiles_usa_stateclipped_2015_5yrs_20102014),\n",
       " Dataset(carto-do-public-data.acsquantiles.demographics_acsquantiles_usa_schooldistrictsecondaryclipped_2015_5yrs_20062010),\n",
       " Dataset(carto-do-public-data.acsquantiles.demographics_acsquantiles_usa_cbsaclipped_2015_5yrs_20062010),\n",
       " Dataset(carto-do-public-data.acs.demographics_acs_usa_placeclipped_2015_5yrs_20132017),\n",
       " Dataset(carto-do-public-data.acs.demographics_acs_usa_schooldistrictsecondaryclipped_2015_5yrs_20102014),\n",
       " Dataset(carto-do-public-data.acs.demographics_acs_usa_countyclipped_2015_5yrs_20102014),\n",
       " Dataset(carto-do-public-data.acsquantiles.demographics_acsquantiles_usa_countyclipped_2015_5yrs_20102014),\n",
       " Dataset(carto-do-public-data.acs.demographics_acs_usa_cbsaclipped_2015_5yrs_20102014),\n",
       " Dataset(carto-do-public-data.acs.demographics_acs_usa_schooldistrictunifiedclipped_2015_5yrs_20102014),\n",
       " Dataset(carto-do-public-data.acsquantiles.demographics_acsquantiles_usa_schooldistrictunifiedclipped_2015_5yrs_20102014),\n",
       " Dataset(carto-do-public-data.acs.demographics_acs_usa_stateclipped_2015_5yrs_20102014),\n",
       " Dataset(carto-do-public-data.acs.demographics_acs_usa_schooldistrictsecondaryclipped_2015_5yrs_20112015),\n",
       " Dataset(carto-do-public-data.acsquantiles.demographics_acsquantiles_usa_countyclipped_2015_5yrs_20112015),\n",
       " Dataset(carto-do-public-data.acs.demographics_acs_usa_cbsaclipped_2015_5yrs_20112015),\n",
       " Dataset(carto-do-public-data.acs.demographics_acs_usa_schooldistrictunifiedclipped_2015_5yrs_20112015),\n",
       " Dataset(carto-do-public-data.acsquantiles.demographics_acsquantiles_usa_schooldistrictunifiedclipped_2015_5yrs_20112015),\n",
       " Dataset(carto-do-public-data.acs.demographics_acs_usa_congressionaldistrictclipped_2015_5yrs_20112015),\n",
       " Dataset(carto-do-public-data.acsquantiles.demographics_acsquantiles_usa_pumaclipped_2015_5yrs_20112015),\n",
       " Dataset(carto-do-public-data.acsquantiles.demographics_acsquantiles_usa_schooldistrictsecondaryclipped_2015_5yrs_20112015),\n",
       " Dataset(carto-do-public-data.acs.demographics_acs_usa_pumaclipped_2015_yearly_2014),\n",
       " Dataset(carto-do-public-data.acsquantiles.demographics_acsquantiles_usa_pumaclipped_2015_yearly_2014),\n",
       " Dataset(carto-do-public-data.acs.demographics_acs_usa_schooldistrictelementaryclipped_2015_yearly_2014),\n",
       " Dataset(carto-do-public-data.acsquantiles.demographics_acsquantiles_usa_schooldistrictelementaryclipped_2015_yearly_2014),\n",
       " Dataset(carto-do-public-data.acs.demographics_acs_usa_pumaclipped_2015_yearly_2015),\n",
       " Dataset(carto-do-public-data.acsquantiles.demographics_acsquantiles_usa_pumaclipped_2015_yearly_2015),\n",
       " Dataset(carto-do-public-data.acs.demographics_acs_usa_schooldistrictelementaryclipped_2015_yearly_2015),\n",
       " Dataset(carto-do-public-data.acsquantiles.demographics_acsquantiles_usa_schooldistrictelementaryclipped_2015_yearly_2015),\n",
       " Dataset(carto-do-public-data.acs.demographics_acs_usa_schooldistrictsecondaryclipped_2015_yearly_2015),\n",
       " Dataset(carto-do-public-data.acsquantiles.demographics_acsquantiles_usa_schooldistrictsecondaryclipped_2015_yearly_2015),\n",
       " Dataset(carto-do-public-data.lodes.demographics_lodes_usa_blockclipped_2015_yearly_2013),\n",
       " Dataset(carto-do-public-data.acsquantiles.demographics_acsquantiles_usa_schooldistrictunifiedclipped_2015_yearly_2014),\n",
       " Dataset(carto-do-public-data.acs.demographics_acs_usa_stateclipped_2015_yearly_2014),\n",
       " Dataset(carto-do-public-data.acs.demographics_acs_usa_placeclipped_2015_5yrs_20062010),\n",
       " Dataset(carto-do-public-data.acsquantiles.demographics_acsquantiles_usa_placeclipped_2015_5yrs_20062010),\n",
       " Dataset(carto-do-public-data.zillow.demographics_zillow_usa_zcta5clipped_2015_monthly_201105),\n",
       " Dataset(carto-do-public-data.acs.demographics_acs_usa_schooldistrictelementaryclipped_2015_5yrs_20102014),\n",
       " Dataset(carto-do-public-data.zillow.demographics_zillow_usa_zcta5clipped_2015_monthly_201505),\n",
       " Dataset(carto-do-public-data.zillow.demographics_zillow_usa_zcta5clipped_2015_monthly_201506),\n",
       " Dataset(carto-do-public-data.zillow.demographics_zillow_usa_zcta5clipped_2015_monthly_201507),\n",
       " Dataset(carto-do-public-data.bls.demographics_bls_usa_countyclipped_2015_quarterly_2014Q4),\n",
       " Dataset(carto-do-public-data.bls.demographics_bls_usa_countyclipped_2015_quarterly_2015Q1),\n",
       " Dataset(carto-do-public-data.bls.demographics_bls_usa_countyclipped_2015_quarterly_2015Q2),\n",
       " Dataset(carto-do-public-data.bls.demographics_bls_usa_countyclipped_2015_quarterly_2015Q3),\n",
       " Dataset(carto-do-public-data.bls.demographics_bls_usa_countyclipped_2015_quarterly_2015Q4),\n",
       " Dataset(carto-do-public-data.bls.demographics_bls_usa_countyclipped_2015_quarterly_2016Q1),\n",
       " Dataset(carto-do-public-data.bls.demographics_bls_usa_countyclipped_2015_quarterly_2016Q2),\n",
       " Dataset(carto-do-public-data.zillow.demographics_zillow_usa_zcta5clipped_2015_monthly_201609),\n",
       " Dataset(carto-do-public-data.zillow.demographics_zillow_usa_zcta5clipped_2015_monthly_201610),\n",
       " Dataset(carto-do-public-data.zillow.demographics_zillow_usa_zcta5clipped_2015_monthly_201611),\n",
       " Dataset(carto-do-public-data.zillow.demographics_zillow_usa_zcta5clipped_2015_monthly_201612),\n",
       " Dataset(carto-do-public-data.zillow.demographics_zillow_usa_zcta5clipped_2015_monthly_201701),\n",
       " Dataset(carto-do-public-data.zillow.demographics_zillow_usa_zcta5clipped_2015_monthly_201702),\n",
       " Dataset(carto-do-public-data.zillow.demographics_zillow_usa_zcta5clipped_2015_monthly_201703),\n",
       " Dataset(carto-do-public-data.zillow.demographics_zillow_usa_zcta5clipped_2015_monthly_201704),\n",
       " Dataset(carto-do-public-data.acs.demographics_acs_usa_schooldistrictelementaryclipped_2015_5yrs_20112015),\n",
       " Dataset(carto-do-public-data.acs.demographics_acs_usa_countyclipped_2015_5yrs_20112015),\n",
       " Dataset(carto-do-public-data.zillow.demographics_zillow_usa_zcta5clipped_2015_monthly_201204),\n",
       " Dataset(carto-do-public-data.zillow.demographics_zillow_usa_zcta5clipped_2015_monthly_201605),\n",
       " Dataset(carto-do-public-data.zillow.demographics_zillow_usa_zcta5clipped_2015_monthly_201606),\n",
       " Dataset(carto-do-public-data.zillow.demographics_zillow_usa_zcta5clipped_2015_monthly_201607),\n",
       " Dataset(carto-do-public-data.acs.demographics_acs_usa_blockgroupclipped_2015_5yrs_20102014),\n",
       " Dataset(carto-do-public-data.acsquantiles.demographics_acsquantiles_usa_blockgroupclipped_2015_5yrs_20102014),\n",
       " Dataset(carto-do-public-data.acsquantiles.demographics_acsquantiles_usa_cbsaclipped_2015_5yrs_20102014),\n",
       " Dataset(carto-do-public-data.zillow.demographics_zillow_usa_zcta5clipped_2015_monthly_201409),\n",
       " Dataset(carto-do-public-data.zillow.demographics_zillow_usa_zcta5clipped_2015_monthly_201410),\n",
       " Dataset(carto-do-public-data.zillow.demographics_zillow_usa_zcta5clipped_2015_monthly_201411),\n",
       " Dataset(carto-do-public-data.zillow.demographics_zillow_usa_zcta5clipped_2015_monthly_201412),\n",
       " Dataset(carto-do-public-data.zillow.demographics_zillow_usa_zcta5clipped_2015_monthly_201501),\n",
       " Dataset(carto-do-public-data.acsquantiles.demographics_acsquantiles_usa_congressionaldistrictclipped_2015_5yrs_20102014),\n",
       " Dataset(carto-do-public-data.acsquantiles.demographics_acsquantiles_usa_zcta5clipped_2015_5yrs_20102014),\n",
       " Dataset(carto-do-public-data.acs.demographics_acs_usa_pumaclipped_2015_5yrs_20112015),\n",
       " Dataset(carto-do-public-data.acsquantiles.demographics_acsquantiles_usa_schooldistrictelementaryclipped_2015_5yrs_20062010),\n",
       " Dataset(carto-do-public-data.acs.demographics_acs_usa_cbsaclipped_2015_5yrs_20132017),\n",
       " Dataset(carto-do-public-data.acs.demographics_acs_usa_congressionaldistrictclipped_2015_5yrs_20132017),\n",
       " Dataset(carto-do-public-data.acs.demographics_acs_usa_cbsaclipped_2015_yearly_2010),\n",
       " Dataset(carto-do-public-data.acsquantiles.demographics_acsquantiles_usa_cbsaclipped_2015_yearly_2010),\n",
       " Dataset(carto-do-public-data.acs.demographics_acs_usa_schooldistrictunifiedclipped_2015_yearly_2010),\n",
       " Dataset(carto-do-public-data.acsquantiles.demographics_acsquantiles_usa_schooldistrictunifiedclipped_2015_yearly_2010),\n",
       " Dataset(carto-do-public-data.acs.demographics_acs_usa_pumaclipped_2015_5yrs_20102014),\n",
       " Dataset(carto-do-public-data.acs.demographics_acs_usa_placeclipped_2015_5yrs_20102014),\n",
       " Dataset(carto-do-public-data.acs.demographics_acs_usa_stateclipped_2015_5yrs_20112015),\n",
       " Dataset(carto-do-public-data.acs.demographics_acs_usa_placeclipped_2015_5yrs_20112015),\n",
       " Dataset(carto-do-public-data.acsquantiles.demographics_acsquantiles_usa_placeclipped_2015_5yrs_20112015),\n",
       " Dataset(carto-do.ags.demographics_crimerisk_usa_blockgroup_2015_yearly_2018),\n",
       " Dataset(carto-do-public-data.acs.demographics_acs_usa_pumaclipped_2015_5yrs_20062010),\n",
       " Dataset(carto-do-public-data.acs.demographics_acs_usa_stateclipped_2015_5yrs_20132017),\n",
       " Dataset(carto-do-public-data.acsquantiles.demographics_acsquantiles_usa_stateclipped_2015_yearly_2010),\n",
       " Dataset(carto-do-public-data.acsquantiles.demographics_acsquantiles_usa_placeclipped_2015_yearly_2010),\n",
       " Dataset(carto-do-public-data.acsquantiles.demographics_acsquantiles_usa_schooldistrictsecondaryclipped_2015_yearly_2010),\n",
       " Dataset(carto-do-public-data.acs.demographics_acs_usa_congressionaldistrictclipped_2015_yearly_2010),\n",
       " Dataset(carto-do-public-data.acsquantiles.demographics_acsquantiles_usa_congressionaldistrictclipped_2015_yearly_2010),\n",
       " Dataset(carto-do.ags.demographics_consumerprofiles_usa_blockgroup_2015_yearly_2018),\n",
       " Dataset(carto-do-public-data.acs.demographics_acs_usa_pumaclipped_2015_yearly_2010),\n",
       " Dataset(carto-do-public-data.acsquantiles.demographics_acsquantiles_usa_pumaclipped_2015_yearly_2010),\n",
       " Dataset(carto-do-public-data.acs.demographics_acs_usa_schooldistrictelementaryclipped_2015_yearly_2010),\n",
       " Dataset(carto-do-public-data.acsquantiles.demographics_acsquantiles_usa_schooldistrictelementaryclipped_2015_yearly_2010),\n",
       " Dataset(carto-do-public-data.acs.demographics_acs_usa_schooldistrictsecondaryclipped_2015_yearly_2010),\n",
       " Dataset(carto-do-public-data.acs.demographics_acs_usa_countyclipped_2015_yearly_2010),\n",
       " Dataset(carto-do-public-data.acsquantiles.demographics_acsquantiles_usa_countyclipped_2015_yearly_2010),\n",
       " Dataset(carto-do.ags.demographics_consumerspending_usa_blockgroup_2015_yearly_2018),\n",
       " Dataset(carto-do.unica360.demographics_touristicindex_spain_grid100x100m_2018_yearly_2018),\n",
       " Dataset(carto-do.unica360.demographics_workingpopulation_spain_grid100x100m_2018_yearly_2018),\n",
       " Dataset(carto-do.unica360.demographics_demographics_spain_grid100x100m_2018_yearly_2018),\n",
       " Dataset(carto-do.unica360.demographics_pedestriantrafficindex_spain_roadsegment_2018_yearly_2018),\n",
       " Dataset(carto-do-public-data.acs.demographics_acs_usa_zcta5clipped_2015_5yrs_20132017),\n",
       " Dataset(carto-do-public-data.acs.demographics_acs_usa_pumaclipped_2015_5yrs_20132017),\n",
       " Dataset(carto-do.ags.demographics_retailpotential_usa_blockgroup_2015_yearly_2018),\n",
       " Dataset(carto-do.ags.demographics_sociodemographic_usa_blockgroup_2015_yearly_2019),\n",
       " Dataset(carto-do.ags.demographics_businesscounts_usa_blockgroup_2015_yearly_2018),\n",
       " Dataset(carto-do-public-data.acs.demographics_acs_usa_schooldistrictsecondaryclipped_2015_5yrs_20062010),\n",
       " Dataset(carto-do-public-data.acs.demographics_acs_usa_countyclipped_2015_5yrs_20062010),\n",
       " Dataset(carto-do-public-data.acs.demographics_acs_usa_cbsaclipped_2015_yearly_2017),\n",
       " Dataset(carto-do-public-data.acs.demographics_acs_usa_congressionaldistrictclipped_2015_yearly_2017),\n",
       " Dataset(carto-do-public-data.acs.demographics_acs_usa_pumaclipped_2015_yearly_2017),\n",
       " Dataset(carto-do-public-data.acs.demographics_acs_usa_countyclipped_2015_yearly_2017),\n",
       " Dataset(carto-do-public-data.acs.demographics_acs_usa_stateclipped_2015_yearly_2017),\n",
       " Dataset(carto-do-public-data.acsquantiles.demographics_acsquantiles_usa_countyclipped_2015_5yrs_20062010),\n",
       " Dataset(carto-do-public-data.acs.demographics_acs_usa_cbsaclipped_2015_5yrs_20062010),\n",
       " Dataset(carto-do-public-data.acs.demographics_acs_usa_schooldistrictunifiedclipped_2015_5yrs_20062010),\n",
       " Dataset(carto-do-public-data.acs.demographics_acs_usa_blockgroupclipped_2015_5yrs_20062010),\n",
       " Dataset(carto-do-public-data.acs.demographics_acs_usa_censustractclipped_2015_5yrs_20112015),\n",
       " Dataset(carto-do-public-data.acsquantiles.demographics_acsquantiles_usa_censustractclipped_2015_5yrs_20112015),\n",
       " Dataset(carto-do-public-data.acs.demographics_acs_usa_zcta5clipped_2015_5yrs_20112015),\n",
       " Dataset(carto-do-public-data.acsquantiles.demographics_acsquantiles_usa_stateclipped_2015_yearly_2014),\n",
       " Dataset(carto-do-public-data.acsquantiles.demographics_acsquantiles_usa_placeclipped_2015_5yrs_20102014),\n",
       " Dataset(carto-do-public-data.acs.demographics_acs_usa_congressionaldistrictclipped_2015_5yrs_20102014),\n",
       " Dataset(carto-do-public-data.acs.demographics_acs_usa_censustractclipped_2015_5yrs_20102014),\n",
       " Dataset(carto-do-public-data.acsquantiles.demographics_acsquantiles_usa_censustractclipped_2015_5yrs_20102014),\n",
       " Dataset(carto-do-public-data.acs.demographics_acs_usa_zcta5clipped_2015_5yrs_20102014),\n",
       " Dataset(carto-do-public-data.acsquantiles.demographics_acsquantiles_usa_pumaclipped_2015_5yrs_20102014),\n",
       " Dataset(carto-do-public-data.acsquantiles.demographics_acsquantiles_usa_schooldistrictelementaryclipped_2015_5yrs_20112015),\n",
       " Dataset(carto-do.unica360.demographics_commercialindex_spain_grid100x100m_2018_yearly_2018),\n",
       " Dataset(carto-do-public-data.acsquantiles.demographics_acsquantiles_usa_cbsaclipped_2015_5yrs_20112015),\n",
       " Dataset(carto-do-public-data.acsquantiles.demographics_acsquantiles_usa_stateclipped_2015_5yrs_20112015),\n",
       " Dataset(carto-do-public-data.acsquantiles.demographics_acsquantiles_usa_congressionaldistrictclipped_2015_5yrs_20112015),\n",
       " Dataset(carto-do-public-data.acsquantiles.demographics_acsquantiles_usa_zcta5clipped_2015_5yrs_20112015),\n",
       " Dataset(carto-do-public-data.acs.demographics_acs_usa_cbsaclipped_2015_yearly_2014),\n",
       " Dataset(carto-do-public-data.acsquantiles.demographics_acsquantiles_usa_cbsaclipped_2015_yearly_2014),\n",
       " Dataset(carto-do-public-data.acs.demographics_acs_usa_schooldistrictunifiedclipped_2015_yearly_2014),\n",
       " Dataset(carto-do-public-data.acs.demographics_acs_usa_placeclipped_2015_yearly_2014),\n",
       " Dataset(carto-do-public-data.acsquantiles.demographics_acsquantiles_usa_placeclipped_2015_yearly_2014),\n",
       " Dataset(carto-do-public-data.acs.demographics_acs_usa_congressionaldistrictclipped_2015_yearly_2014),\n",
       " Dataset(carto-do-public-data.acsquantiles.demographics_acsquantiles_usa_congressionaldistrictclipped_2015_yearly_2014),\n",
       " Dataset(carto-do-public-data.acs.demographics_acs_usa_schooldistrictsecondaryclipped_2015_yearly_2014),\n",
       " Dataset(carto-do-public-data.acsquantiles.demographics_acsquantiles_usa_schooldistrictsecondaryclipped_2015_yearly_2014),\n",
       " Dataset(carto-do-public-data.acs.demographics_acs_usa_countyclipped_2015_yearly_2014),\n",
       " Dataset(carto-do-public-data.acsquantiles.demographics_acsquantiles_usa_countyclipped_2015_yearly_2014),\n",
       " Dataset(carto-do-public-data.acsquantiles.demographics_acsquantiles_usa_countyclipped_2015_yearly_2015),\n",
       " Dataset(carto-do-public-data.acs.demographics_acs_usa_cbsaclipped_2015_yearly_2015),\n",
       " Dataset(carto-do-public-data.acsquantiles.demographics_acsquantiles_usa_cbsaclipped_2015_yearly_2015),\n",
       " Dataset(carto-do-public-data.acs.demographics_acs_usa_schooldistrictunifiedclipped_2015_yearly_2015),\n",
       " Dataset(carto-do-public-data.acsquantiles.demographics_acsquantiles_usa_schooldistrictunifiedclipped_2015_yearly_2015),\n",
       " Dataset(carto-do-public-data.acs.demographics_acs_usa_stateclipped_2015_yearly_2015),\n",
       " Dataset(carto-do-public-data.acsquantiles.demographics_acsquantiles_usa_stateclipped_2015_yearly_2015),\n",
       " Dataset(carto-do-public-data.acs.demographics_acs_usa_placeclipped_2015_yearly_2015),\n",
       " Dataset(carto-do-public-data.acsquantiles.demographics_acsquantiles_usa_placeclipped_2015_yearly_2015),\n",
       " Dataset(carto-do-public-data.acs.demographics_acs_usa_congressionaldistrictclipped_2015_yearly_2015),\n",
       " Dataset(carto-do-public-data.acsquantiles.demographics_acsquantiles_usa_congressionaldistrictclipped_2015_yearly_2015),\n",
       " Dataset(carto-do-public-data.tiger.demographics_tiger_usa_censustractclipped_2015_yearly_2015),\n",
       " Dataset(carto-do-public-data.tiger.demographics_tiger_usa_countyclipped_2015_yearly_2015),\n",
       " Dataset(carto-do-public-data.acs.demographics_acs_usa_blockgroupclipped_2015_5yrs_20112015),\n",
       " Dataset(carto-do-public-data.acs.demographics_acs_usa_stateclipped_2015_yearly_2010),\n",
       " Dataset(carto-do-public-data.tiger.demographics_tiger_usa_blockgroupclipped_2015_yearly_2015),\n",
       " Dataset(carto-do-public-data.acsquantiles.demographics_acsquantiles_usa_schooldistrictelementaryclipped_2015_5yrs_20102014),\n",
       " Dataset(carto-do-public-data.acsquantiles.demographics_acsquantiles_usa_schooldistrictsecondaryclipped_2015_5yrs_20102014),\n",
       " Dataset(carto-do-public-data.tiger.demographics_tiger_usa_congressionaldistrictclipped_2015_yearly_2015),\n",
       " Dataset(carto-do-public-data.tiger.demographics_tiger_usa_pumaclipped_2015_yearly_2015),\n",
       " Dataset(carto-do-public-data.acs.demographics_acs_usa_blockgroupclipped_2015_5yrs_20132017),\n",
       " Dataset(carto-do-public-data.acs.demographics_acs_usa_censustractclipped_2015_5yrs_20132017),\n",
       " Dataset(carto-do-public-data.acs.demographics_acs_usa_countyclipped_2015_5yrs_20132017),\n",
       " Dataset(carto-do-public-data.acsquantiles.demographics_acsquantiles_usa_stateclipped_2015_5yrs_20062010),\n",
       " Dataset(carto-do-public-data.acsquantiles.demographics_acsquantiles_usa_congressionaldistrictclipped_2015_5yrs_20062010),\n",
       " Dataset(carto-do-public-data.acsquantiles.demographics_acsquantiles_usa_blockgroupclipped_2015_5yrs_20062010),\n",
       " Dataset(carto-do-public-data.acs.demographics_acs_usa_schooldistrictelementaryclipped_2015_5yrs_20062010),\n",
       " Dataset(carto-do-public-data.acs.demographics_acs_usa_placeclipped_2015_yearly_2017),\n",
       " Dataset(carto-do-public-data.acsquantiles.demographics_acsquantiles_usa_blockgroupclipped_2015_5yrs_20112015),\n",
       " Dataset(carto-do-public-data.bls.demographics_bls_usa_countyclipped_2015_quarterly_2017Q1),\n",
       " Dataset(carto-do-public-data.acs.demographics_acs_usa_congressionaldistrictclipped_2015_5yrs_20062010),\n",
       " Dataset(carto-do-public-data.acs.demographics_acs_usa_censustractclipped_2015_5yrs_20062010),\n",
       " Dataset(carto-do-public-data.acsquantiles.demographics_acsquantiles_usa_censustractclipped_2015_5yrs_20062010),\n",
       " Dataset(carto-do-public-data.acsquantiles.demographics_acsquantiles_usa_pumaclipped_2015_5yrs_20062010),\n",
       " Dataset(carto-do-public-data.tiger.demographics_tiger_usa_schooldistrictsecondaryclipped_2015_yearly_2015),\n",
       " Dataset(carto-do-public-data.tiger.demographics_tiger_usa_stateclipped_2015_yearly_2015),\n",
       " Dataset(carto-do-public-data.tiger.demographics_tiger_usa_schooldistrictunifiedclipped_2015_yearly_2015),\n",
       " Dataset(carto-do-public-data.tiger.demographics_tiger_usa_cbsaclipped_2015_yearly_2015),\n",
       " Dataset(carto-do-public-data.tiger.demographics_tiger_usa_schooldistrictelementaryclipped_2015_yearly_2015),\n",
       " Dataset(carto-do-public-data.tiger.demographics_tiger_usa_placeclipped_2015_yearly_2015),\n",
       " Dataset(carto-do-public-data.tiger.demographics_tiger_usa_blockclipped_2015_yearly_2015),\n",
       " Dataset(carto-do-public-data.bls.demographics_bls_usa_countyclipped_2015_quarterly_2012Q1),\n",
       " Dataset(carto-do-public-data.bls.demographics_bls_usa_countyclipped_2015_quarterly_2012Q2),\n",
       " Dataset(carto-do-public-data.bls.demographics_bls_usa_countyclipped_2015_quarterly_2012Q3),\n",
       " Dataset(carto-do-public-data.bls.demographics_bls_usa_countyclipped_2015_quarterly_2012Q4),\n",
       " Dataset(carto-do-public-data.bls.demographics_bls_usa_countyclipped_2015_quarterly_2013Q1),\n",
       " Dataset(carto-do-public-data.bls.demographics_bls_usa_countyclipped_2015_quarterly_2013Q2),\n",
       " Dataset(carto-do-public-data.bls.demographics_bls_usa_countyclipped_2015_quarterly_2013Q3),\n",
       " Dataset(carto-do-public-data.bls.demographics_bls_usa_countyclipped_2015_quarterly_2013Q4),\n",
       " Dataset(carto-do-public-data.bls.demographics_bls_usa_countyclipped_2015_quarterly_2014Q1),\n",
       " Dataset(carto-do-public-data.bls.demographics_bls_usa_countyclipped_2015_quarterly_2014Q2),\n",
       " Dataset(carto-do-public-data.bls.demographics_bls_usa_countyclipped_2015_quarterly_2014Q3),\n",
       " Dataset(carto-do-public-data.bls.demographics_bls_usa_countyclipped_2015_quarterly_2016Q3),\n",
       " Dataset(carto-do-public-data.bls.demographics_bls_usa_countyclipped_2015_quarterly_2016Q4),\n",
       " Dataset(carto-do-public-data.spielmansingletonsegments.demographics_spielmansingletonsegments_usa_censustractclipped_2015_5yrs_20102014),\n",
       " Dataset(carto-do-public-data.zillow.demographics_zillow_usa_zcta5clipped_2015_monthly_201011),\n",
       " Dataset(carto-do-public-data.zillow.demographics_zillow_usa_zcta5clipped_2015_monthly_201012),\n",
       " Dataset(carto-do-public-data.zillow.demographics_zillow_usa_zcta5clipped_2015_monthly_201101),\n",
       " Dataset(carto-do-public-data.zillow.demographics_zillow_usa_zcta5clipped_2015_monthly_201102),\n",
       " Dataset(carto-do-public-data.zillow.demographics_zillow_usa_zcta5clipped_2015_monthly_201103),\n",
       " Dataset(carto-do-public-data.zillow.demographics_zillow_usa_zcta5clipped_2015_monthly_201104),\n",
       " Dataset(carto-do-public-data.zillow.demographics_zillow_usa_zcta5clipped_2015_monthly_201106),\n",
       " Dataset(carto-do-public-data.zillow.demographics_zillow_usa_zcta5clipped_2015_monthly_201107),\n",
       " Dataset(carto-do-public-data.zillow.demographics_zillow_usa_zcta5clipped_2015_monthly_201108),\n",
       " Dataset(carto-do-public-data.zillow.demographics_zillow_usa_zcta5clipped_2015_monthly_201109),\n",
       " Dataset(carto-do-public-data.zillow.demographics_zillow_usa_zcta5clipped_2015_monthly_201110),\n",
       " Dataset(carto-do-public-data.zillow.demographics_zillow_usa_zcta5clipped_2015_monthly_201111),\n",
       " Dataset(carto-do-public-data.zillow.demographics_zillow_usa_zcta5clipped_2015_monthly_201112),\n",
       " Dataset(carto-do-public-data.zillow.demographics_zillow_usa_zcta5clipped_2015_monthly_201201),\n",
       " Dataset(carto-do-public-data.zillow.demographics_zillow_usa_zcta5clipped_2015_monthly_201202),\n",
       " Dataset(carto-do-public-data.zillow.demographics_zillow_usa_zcta5clipped_2015_monthly_201203),\n",
       " Dataset(carto-do-public-data.zillow.demographics_zillow_usa_zcta5clipped_2015_monthly_201205),\n",
       " Dataset(carto-do-public-data.zillow.demographics_zillow_usa_zcta5clipped_2015_monthly_201206),\n",
       " Dataset(carto-do-public-data.zillow.demographics_zillow_usa_zcta5clipped_2015_monthly_201207),\n",
       " Dataset(carto-do-public-data.zillow.demographics_zillow_usa_zcta5clipped_2015_monthly_201208),\n",
       " Dataset(carto-do-public-data.zillow.demographics_zillow_usa_zcta5clipped_2015_monthly_201209),\n",
       " Dataset(carto-do-public-data.zillow.demographics_zillow_usa_zcta5clipped_2015_monthly_201210),\n",
       " Dataset(carto-do-public-data.zillow.demographics_zillow_usa_zcta5clipped_2015_monthly_201211),\n",
       " Dataset(carto-do-public-data.zillow.demographics_zillow_usa_zcta5clipped_2015_monthly_201212),\n",
       " Dataset(carto-do-public-data.zillow.demographics_zillow_usa_zcta5clipped_2015_monthly_201301),\n",
       " Dataset(carto-do-public-data.zillow.demographics_zillow_usa_zcta5clipped_2015_monthly_201302),\n",
       " Dataset(carto-do-public-data.zillow.demographics_zillow_usa_zcta5clipped_2015_monthly_201303),\n",
       " Dataset(carto-do-public-data.zillow.demographics_zillow_usa_zcta5clipped_2015_monthly_201304),\n",
       " Dataset(carto-do-public-data.zillow.demographics_zillow_usa_zcta5clipped_2015_monthly_201305),\n",
       " Dataset(carto-do-public-data.zillow.demographics_zillow_usa_zcta5clipped_2015_monthly_201306),\n",
       " Dataset(carto-do-public-data.zillow.demographics_zillow_usa_zcta5clipped_2015_monthly_201307),\n",
       " Dataset(carto-do-public-data.zillow.demographics_zillow_usa_zcta5clipped_2015_monthly_201308),\n",
       " Dataset(carto-do-public-data.zillow.demographics_zillow_usa_zcta5clipped_2015_monthly_201309),\n",
       " Dataset(carto-do-public-data.zillow.demographics_zillow_usa_zcta5clipped_2015_monthly_201310),\n",
       " Dataset(carto-do-public-data.zillow.demographics_zillow_usa_zcta5clipped_2015_monthly_201311),\n",
       " Dataset(carto-do-public-data.zillow.demographics_zillow_usa_zcta5clipped_2015_monthly_201312),\n",
       " Dataset(carto-do-public-data.zillow.demographics_zillow_usa_zcta5clipped_2015_monthly_201401),\n",
       " Dataset(carto-do-public-data.zillow.demographics_zillow_usa_zcta5clipped_2015_monthly_201402),\n",
       " Dataset(carto-do-public-data.zillow.demographics_zillow_usa_zcta5clipped_2015_monthly_201403),\n",
       " Dataset(carto-do-public-data.zillow.demographics_zillow_usa_zcta5clipped_2015_monthly_201404),\n",
       " Dataset(carto-do-public-data.zillow.demographics_zillow_usa_zcta5clipped_2015_monthly_201405),\n",
       " Dataset(carto-do-public-data.zillow.demographics_zillow_usa_zcta5clipped_2015_monthly_201406),\n",
       " Dataset(carto-do-public-data.zillow.demographics_zillow_usa_zcta5clipped_2015_monthly_201407),\n",
       " Dataset(carto-do-public-data.zillow.demographics_zillow_usa_zcta5clipped_2015_monthly_201408),\n",
       " Dataset(carto-do-public-data.zillow.demographics_zillow_usa_zcta5clipped_2015_monthly_201502),\n",
       " Dataset(carto-do-public-data.zillow.demographics_zillow_usa_zcta5clipped_2015_monthly_201503),\n",
       " Dataset(carto-do-public-data.zillow.demographics_zillow_usa_zcta5clipped_2015_monthly_201504),\n",
       " Dataset(carto-do-public-data.zillow.demographics_zillow_usa_zcta5clipped_2015_monthly_201603),\n",
       " Dataset(carto-do-public-data.zillow.demographics_zillow_usa_zcta5clipped_2015_monthly_201604),\n",
       " Dataset(carto-do-public-data.zillow.demographics_zillow_usa_zcta5clipped_2015_monthly_201608),\n",
       " Dataset(carto-do-public-data.zillow.demographics_zillow_usa_zcta5clipped_2015_monthly_201705),\n",
       " Dataset(carto-do-public-data.zillow.demographics_zillow_usa_zcta5clipped_2015_monthly_201706),\n",
       " Dataset(carto-do-public-data.zillow.demographics_zillow_usa_zcta5clipped_2015_monthly_201707),\n",
       " Dataset(carto-do-public-data.zillow.demographics_zillow_usa_zcta5clipped_2015_monthly_201708),\n",
       " Dataset(carto-do-public-data.zillow.demographics_zillow_usa_zcta5clipped_2015_monthly_201709),\n",
       " Dataset(carto-do-public-data.zillow.demographics_zillow_usa_zcta5clipped_2015_monthly_201710),\n",
       " Dataset(carto-do-public-data.zillow.demographics_zillow_usa_zcta5clipped_2015_monthly_201711),\n",
       " Dataset(carto-do-public-data.zillow.demographics_zillow_usa_zcta5clipped_2015_monthly_201712),\n",
       " Dataset(carto-do-public-data.zillow.demographics_zillow_usa_zcta5clipped_2015_monthly_201801),\n",
       " Dataset(carto-do-public-data.zillow.demographics_zillow_usa_zcta5clipped_2015_monthly_201802),\n",
       " Dataset(carto-do-public-data.zillow.demographics_zillow_usa_zcta5clipped_2015_monthly_201508),\n",
       " Dataset(carto-do-public-data.zillow.demographics_zillow_usa_zcta5clipped_2015_monthly_201509),\n",
       " Dataset(carto-do-public-data.zillow.demographics_zillow_usa_zcta5clipped_2015_monthly_201510),\n",
       " Dataset(carto-do-public-data.zillow.demographics_zillow_usa_zcta5clipped_2015_monthly_201511),\n",
       " Dataset(carto-do-public-data.zillow.demographics_zillow_usa_zcta5clipped_2015_monthly_201512),\n",
       " Dataset(carto-do-public-data.zillow.demographics_zillow_usa_zcta5clipped_2015_monthly_201601),\n",
       " Dataset(carto-do-public-data.zillow.demographics_zillow_usa_zcta5clipped_2015_monthly_201602)]"
      ]
     },
     "execution_count": 12,
     "metadata": {},
     "output_type": "execute_result"
    }
   ],
   "source": [
    "demographics_datasets = category1.datasets\n",
    "demographics_datasets"
   ]
  },
  {
   "cell_type": "code",
   "execution_count": 13,
   "metadata": {},
   "outputs": [
    {
     "data": {
      "text/plain": [
       "True"
      ]
     },
     "execution_count": 13,
     "metadata": {},
     "output_type": "execute_result"
    }
   ],
   "source": [
    "from cartoframes.data.observatory.dataset import Dataset\n",
    "\n",
    "isinstance(demographics_datasets[0], Dataset)"
   ]
  },
  {
   "cell_type": "markdown",
   "metadata": {},
   "source": [
    "Again, we can export the data as a pandas' DataFrame:"
   ]
  },
  {
   "cell_type": "code",
   "execution_count": 14,
   "metadata": {},
   "outputs": [
    {
     "data": {
      "text/plain": [
       "id                      carto-do-public-data.acsquantiles.demographics...\n",
       "name                    American Community Survey (ACS) quantiles data...\n",
       "description                                                          None\n",
       "provider_id                                                     open_data\n",
       "category_id                                                  demographics\n",
       "data_source_id                                               acsquantiles\n",
       "country_iso_code3                                                     usa\n",
       "language_iso_code3                                                   None\n",
       "geography_id            carto-do-public-data.tiger.geography_usa_schoo...\n",
       "temporal_aggregation                                                 5yrs\n",
       "time_coverage                                     [2006-01-01,2010-01-01)\n",
       "update_frequency                                                     None\n",
       "version                                                          20062010\n",
       "is_public_data                                                       True\n",
       "summary_jsonb                                                        None\n",
       "Name: 0, dtype: object"
      ]
     },
     "execution_count": 14,
     "metadata": {},
     "output_type": "execute_result"
    }
   ],
   "source": [
    "demographics_datasets.to_dataframe().iloc[0]"
   ]
  },
  {
   "cell_type": "markdown",
   "metadata": {},
   "source": [
    "And as well as Category, a Dataset can be used to extract related properties:"
   ]
  },
  {
   "cell_type": "code",
   "execution_count": 15,
   "metadata": {},
   "outputs": [
    {
     "data": {
      "text/plain": [
       "'usa'"
      ]
     },
     "execution_count": 15,
     "metadata": {},
     "output_type": "execute_result"
    }
   ],
   "source": [
    "d1 = demographics_datasets[0]\n",
    "\n",
    "d1.country"
   ]
  },
  {
   "cell_type": "code",
   "execution_count": 16,
   "metadata": {},
   "outputs": [
    {
     "data": {
      "text/plain": [
       "[Variable(carto-do-public-data.acsquantiles.demographics_acsquantiles_usa_schooldistrictunifiedclipped_2015_5yrs_20062010.male_55_to_59_quantile),\n",
       " Variable(carto-do-public-data.acsquantiles.demographics_acsquantiles_usa_schooldistrictunifiedclipped_2015_5yrs_20062010.white_male_55_64_quantile),\n",
       " Variable(carto-do-public-data.acsquantiles.demographics_acsquantiles_usa_schooldistrictunifiedclipped_2015_5yrs_20062010.male_10_to_14_quantile),\n",
       " Variable(carto-do-public-data.acsquantiles.demographics_acsquantiles_usa_schooldistrictunifiedclipped_2015_5yrs_20062010.white_male_45_54_quantile),\n",
       " Variable(carto-do-public-data.acsquantiles.demographics_acsquantiles_usa_schooldistrictunifiedclipped_2015_5yrs_20062010.female_pop_quantile),\n",
       " Variable(carto-do-public-data.acsquantiles.demographics_acsquantiles_usa_schooldistrictunifiedclipped_2015_5yrs_20062010.male_5_to_9_quantile),\n",
       " Variable(carto-do-public-data.acsquantiles.demographics_acsquantiles_usa_schooldistrictunifiedclipped_2015_5yrs_20062010.male_85_and_over_quantile),\n",
       " Variable(carto-do-public-data.acsquantiles.demographics_acsquantiles_usa_schooldistrictunifiedclipped_2015_5yrs_20062010.male_under_5_quantile),\n",
       " Variable(carto-do-public-data.acsquantiles.demographics_acsquantiles_usa_schooldistrictunifiedclipped_2015_5yrs_20062010.male_pop_quantile),\n",
       " Variable(carto-do-public-data.acsquantiles.demographics_acsquantiles_usa_schooldistrictunifiedclipped_2015_5yrs_20062010.asian_male_45_54_quantile),\n",
       " Variable(carto-do-public-data.acsquantiles.demographics_acsquantiles_usa_schooldistrictunifiedclipped_2015_5yrs_20062010.male_45_to_49_quantile),\n",
       " Variable(carto-do-public-data.acsquantiles.demographics_acsquantiles_usa_schooldistrictunifiedclipped_2015_5yrs_20062010.male_70_to_74_quantile),\n",
       " Variable(carto-do-public-data.acsquantiles.demographics_acsquantiles_usa_schooldistrictunifiedclipped_2015_5yrs_20062010.female_21_quantile),\n",
       " Variable(carto-do-public-data.acsquantiles.demographics_acsquantiles_usa_schooldistrictunifiedclipped_2015_5yrs_20062010.male_67_to_69_quantile),\n",
       " Variable(carto-do-public-data.acsquantiles.demographics_acsquantiles_usa_schooldistrictunifiedclipped_2015_5yrs_20062010.male_40_to_44_quantile),\n",
       " Variable(carto-do-public-data.acsquantiles.demographics_acsquantiles_usa_schooldistrictunifiedclipped_2015_5yrs_20062010.male_30_to_34_quantile),\n",
       " Variable(carto-do-public-data.acsquantiles.demographics_acsquantiles_usa_schooldistrictunifiedclipped_2015_5yrs_20062010.hispanic_any_race_quantile),\n",
       " Variable(carto-do-public-data.acsquantiles.demographics_acsquantiles_usa_schooldistrictunifiedclipped_2015_5yrs_20062010.male_25_to_29_quantile),\n",
       " Variable(carto-do-public-data.acsquantiles.demographics_acsquantiles_usa_schooldistrictunifiedclipped_2015_5yrs_20062010.asian_including_hispanic_quantile),\n",
       " Variable(carto-do-public-data.acsquantiles.demographics_acsquantiles_usa_schooldistrictunifiedclipped_2015_5yrs_20062010.geoidsl),\n",
       " Variable(carto-do-public-data.acsquantiles.demographics_acsquantiles_usa_schooldistrictunifiedclipped_2015_5yrs_20062010.geoidsc),\n",
       " Variable(carto-do-public-data.acsquantiles.demographics_acsquantiles_usa_schooldistrictunifiedclipped_2015_5yrs_20062010.male_62_64_quantile),\n",
       " Variable(carto-do-public-data.acsquantiles.demographics_acsquantiles_usa_schooldistrictunifiedclipped_2015_5yrs_20062010.income_50000_59999_quantile),\n",
       " Variable(carto-do-public-data.acsquantiles.demographics_acsquantiles_usa_schooldistrictunifiedclipped_2015_5yrs_20062010.income_45000_49999_quantile),\n",
       " Variable(carto-do-public-data.acsquantiles.demographics_acsquantiles_usa_schooldistrictunifiedclipped_2015_5yrs_20062010.income_40000_44999_quantile),\n",
       " Variable(carto-do-public-data.acsquantiles.demographics_acsquantiles_usa_schooldistrictunifiedclipped_2015_5yrs_20062010.income_35000_39999_quantile),\n",
       " Variable(carto-do-public-data.acsquantiles.demographics_acsquantiles_usa_schooldistrictunifiedclipped_2015_5yrs_20062010.income_30000_34999_quantile),\n",
       " Variable(carto-do-public-data.acsquantiles.demographics_acsquantiles_usa_schooldistrictunifiedclipped_2015_5yrs_20062010.income_25000_29999_quantile),\n",
       " Variable(carto-do-public-data.acsquantiles.demographics_acsquantiles_usa_schooldistrictunifiedclipped_2015_5yrs_20062010.income_20000_24999_quantile),\n",
       " Variable(carto-do-public-data.acsquantiles.demographics_acsquantiles_usa_schooldistrictunifiedclipped_2015_5yrs_20062010.income_15000_19999_quantile),\n",
       " Variable(carto-do-public-data.acsquantiles.demographics_acsquantiles_usa_schooldistrictunifiedclipped_2015_5yrs_20062010.income_10000_14999_quantile),\n",
       " Variable(carto-do-public-data.acsquantiles.demographics_acsquantiles_usa_schooldistrictunifiedclipped_2015_5yrs_20062010.income_less_10000_quantile),\n",
       " Variable(carto-do-public-data.acsquantiles.demographics_acsquantiles_usa_schooldistrictunifiedclipped_2015_5yrs_20062010.poverty_quantile),\n",
       " Variable(carto-do-public-data.acsquantiles.demographics_acsquantiles_usa_schooldistrictunifiedclipped_2015_5yrs_20062010.pop_determined_poverty_status_quantile),\n",
       " Variable(carto-do-public-data.acsquantiles.demographics_acsquantiles_usa_schooldistrictunifiedclipped_2015_5yrs_20062010.speak_spanish_at_home_low_english_quantile),\n",
       " Variable(carto-do-public-data.acsquantiles.demographics_acsquantiles_usa_schooldistrictunifiedclipped_2015_5yrs_20062010.speak_spanish_at_home_quantile),\n",
       " Variable(carto-do-public-data.acsquantiles.demographics_acsquantiles_usa_schooldistrictunifiedclipped_2015_5yrs_20062010.speak_only_english_at_home_quantile),\n",
       " Variable(carto-do-public-data.acsquantiles.demographics_acsquantiles_usa_schooldistrictunifiedclipped_2015_5yrs_20062010.pop_5_years_over_quantile),\n",
       " Variable(carto-do-public-data.acsquantiles.demographics_acsquantiles_usa_schooldistrictunifiedclipped_2015_5yrs_20062010.male_45_64_graduate_degree_quantile),\n",
       " Variable(carto-do-public-data.acsquantiles.demographics_acsquantiles_usa_schooldistrictunifiedclipped_2015_5yrs_20062010.male_45_64_bachelors_degree_quantile),\n",
       " Variable(carto-do-public-data.acsquantiles.demographics_acsquantiles_usa_schooldistrictunifiedclipped_2015_5yrs_20062010.male_45_64_associates_degree_quantile),\n",
       " Variable(carto-do-public-data.acsquantiles.demographics_acsquantiles_usa_schooldistrictunifiedclipped_2015_5yrs_20062010.male_45_64_some_college_quantile),\n",
       " Variable(carto-do-public-data.acsquantiles.demographics_acsquantiles_usa_schooldistrictunifiedclipped_2015_5yrs_20062010.male_45_64_high_school_quantile),\n",
       " Variable(carto-do-public-data.acsquantiles.demographics_acsquantiles_usa_schooldistrictunifiedclipped_2015_5yrs_20062010.male_45_64_grade_9_12_quantile),\n",
       " Variable(carto-do-public-data.acsquantiles.demographics_acsquantiles_usa_schooldistrictunifiedclipped_2015_5yrs_20062010.male_45_64_less_than_9_grade_quantile),\n",
       " Variable(carto-do-public-data.acsquantiles.demographics_acsquantiles_usa_schooldistrictunifiedclipped_2015_5yrs_20062010.male_45_to_64_quantile),\n",
       " Variable(carto-do-public-data.acsquantiles.demographics_acsquantiles_usa_schooldistrictunifiedclipped_2015_5yrs_20062010.in_undergrad_college_quantile),\n",
       " Variable(carto-do-public-data.acsquantiles.demographics_acsquantiles_usa_schooldistrictunifiedclipped_2015_5yrs_20062010.in_grades_9_to_12_quantile),\n",
       " Variable(carto-do-public-data.acsquantiles.demographics_acsquantiles_usa_schooldistrictunifiedclipped_2015_5yrs_20062010.in_grades_5_to_8_quantile),\n",
       " Variable(carto-do-public-data.acsquantiles.demographics_acsquantiles_usa_schooldistrictunifiedclipped_2015_5yrs_20062010.in_grades_1_to_4_quantile),\n",
       " Variable(carto-do-public-data.acsquantiles.demographics_acsquantiles_usa_schooldistrictunifiedclipped_2015_5yrs_20062010.in_school_quantile),\n",
       " Variable(carto-do-public-data.acsquantiles.demographics_acsquantiles_usa_schooldistrictunifiedclipped_2015_5yrs_20062010.population_3_years_over_quantile),\n",
       " Variable(carto-do-public-data.acsquantiles.demographics_acsquantiles_usa_schooldistrictunifiedclipped_2015_5yrs_20062010.pop_divorced_quantile),\n",
       " Variable(carto-do-public-data.acsquantiles.demographics_acsquantiles_usa_schooldistrictunifiedclipped_2015_5yrs_20062010.pop_widowed_quantile),\n",
       " Variable(carto-do-public-data.acsquantiles.demographics_acsquantiles_usa_schooldistrictunifiedclipped_2015_5yrs_20062010.pop_separated_quantile),\n",
       " Variable(carto-do-public-data.acsquantiles.demographics_acsquantiles_usa_schooldistrictunifiedclipped_2015_5yrs_20062010.pop_now_married_quantile),\n",
       " Variable(carto-do-public-data.acsquantiles.demographics_acsquantiles_usa_schooldistrictunifiedclipped_2015_5yrs_20062010.female_67_to_69_quantile),\n",
       " Variable(carto-do-public-data.acsquantiles.demographics_acsquantiles_usa_schooldistrictunifiedclipped_2015_5yrs_20062010.female_65_to_66_quantile),\n",
       " Variable(carto-do-public-data.acsquantiles.demographics_acsquantiles_usa_schooldistrictunifiedclipped_2015_5yrs_20062010.female_62_to_64_quantile),\n",
       " Variable(carto-do-public-data.acsquantiles.demographics_acsquantiles_usa_schooldistrictunifiedclipped_2015_5yrs_20062010.female_60_to_61_quantile),\n",
       " Variable(carto-do-public-data.acsquantiles.demographics_acsquantiles_usa_schooldistrictunifiedclipped_2015_5yrs_20062010.female_55_to_59_quantile),\n",
       " Variable(carto-do-public-data.acsquantiles.demographics_acsquantiles_usa_schooldistrictunifiedclipped_2015_5yrs_20062010.female_50_to_54_quantile),\n",
       " Variable(carto-do-public-data.acsquantiles.demographics_acsquantiles_usa_schooldistrictunifiedclipped_2015_5yrs_20062010.female_45_to_49_quantile),\n",
       " Variable(carto-do-public-data.acsquantiles.demographics_acsquantiles_usa_schooldistrictunifiedclipped_2015_5yrs_20062010.female_40_to_44_quantile),\n",
       " Variable(carto-do-public-data.acsquantiles.demographics_acsquantiles_usa_schooldistrictunifiedclipped_2015_5yrs_20062010.female_35_to_39_quantile),\n",
       " Variable(carto-do-public-data.acsquantiles.demographics_acsquantiles_usa_schooldistrictunifiedclipped_2015_5yrs_20062010.female_30_to_34_quantile),\n",
       " Variable(carto-do-public-data.acsquantiles.demographics_acsquantiles_usa_schooldistrictunifiedclipped_2015_5yrs_20062010.female_25_to_29_quantile),\n",
       " Variable(carto-do-public-data.acsquantiles.demographics_acsquantiles_usa_schooldistrictunifiedclipped_2015_5yrs_20062010.female_22_to_24_quantile),\n",
       " Variable(carto-do-public-data.acsquantiles.demographics_acsquantiles_usa_schooldistrictunifiedclipped_2015_5yrs_20062010.female_20_quantile),\n",
       " Variable(carto-do-public-data.acsquantiles.demographics_acsquantiles_usa_schooldistrictunifiedclipped_2015_5yrs_20062010.female_18_to_19_quantile),\n",
       " Variable(carto-do-public-data.acsquantiles.demographics_acsquantiles_usa_schooldistrictunifiedclipped_2015_5yrs_20062010.female_15_to_17_quantile),\n",
       " Variable(carto-do-public-data.acsquantiles.demographics_acsquantiles_usa_schooldistrictunifiedclipped_2015_5yrs_20062010.female_10_to_14_quantile),\n",
       " Variable(carto-do-public-data.acsquantiles.demographics_acsquantiles_usa_schooldistrictunifiedclipped_2015_5yrs_20062010.female_5_to_9_quantile),\n",
       " Variable(carto-do-public-data.acsquantiles.demographics_acsquantiles_usa_schooldistrictunifiedclipped_2015_5yrs_20062010.female_under_5_quantile),\n",
       " Variable(carto-do-public-data.acsquantiles.demographics_acsquantiles_usa_schooldistrictunifiedclipped_2015_5yrs_20062010.male_80_to_84_quantile),\n",
       " Variable(carto-do-public-data.acsquantiles.demographics_acsquantiles_usa_schooldistrictunifiedclipped_2015_5yrs_20062010.male_75_to_79_quantile),\n",
       " Variable(carto-do-public-data.acsquantiles.demographics_acsquantiles_usa_schooldistrictunifiedclipped_2015_5yrs_20062010.male_65_to_66_quantile),\n",
       " Variable(carto-do-public-data.acsquantiles.demographics_acsquantiles_usa_schooldistrictunifiedclipped_2015_5yrs_20062010.male_50_to_54_quantile),\n",
       " Variable(carto-do-public-data.acsquantiles.demographics_acsquantiles_usa_schooldistrictunifiedclipped_2015_5yrs_20062010.male_22_to_24_quantile),\n",
       " Variable(carto-do-public-data.acsquantiles.demographics_acsquantiles_usa_schooldistrictunifiedclipped_2015_5yrs_20062010.male_21_quantile),\n",
       " Variable(carto-do-public-data.acsquantiles.demographics_acsquantiles_usa_schooldistrictunifiedclipped_2015_5yrs_20062010.male_20_quantile),\n",
       " Variable(carto-do-public-data.acsquantiles.demographics_acsquantiles_usa_schooldistrictunifiedclipped_2015_5yrs_20062010.male_18_to_19_quantile),\n",
       " Variable(carto-do-public-data.acsquantiles.demographics_acsquantiles_usa_schooldistrictunifiedclipped_2015_5yrs_20062010.male_60_61_quantile),\n",
       " Variable(carto-do-public-data.acsquantiles.demographics_acsquantiles_usa_schooldistrictunifiedclipped_2015_5yrs_20062010.hispanic_male_55_64_quantile),\n",
       " Variable(carto-do-public-data.acsquantiles.demographics_acsquantiles_usa_schooldistrictunifiedclipped_2015_5yrs_20062010.hispanic_male_45_54_quantile),\n",
       " Variable(carto-do-public-data.acsquantiles.demographics_acsquantiles_usa_schooldistrictunifiedclipped_2015_5yrs_20062010.male_15_to_17_quantile),\n",
       " Variable(carto-do-public-data.acsquantiles.demographics_acsquantiles_usa_schooldistrictunifiedclipped_2015_5yrs_20062010.male_35_to_39_quantile),\n",
       " Variable(carto-do-public-data.acsquantiles.demographics_acsquantiles_usa_schooldistrictunifiedclipped_2015_5yrs_20062010.do_date),\n",
       " Variable(carto-do-public-data.acsquantiles.demographics_acsquantiles_usa_schooldistrictunifiedclipped_2015_5yrs_20062010.geoid),\n",
       " Variable(carto-do-public-data.acsquantiles.demographics_acsquantiles_usa_schooldistrictunifiedclipped_2015_5yrs_20062010.sales_office_employed_quantile),\n",
       " Variable(carto-do-public-data.acsquantiles.demographics_acsquantiles_usa_schooldistrictunifiedclipped_2015_5yrs_20062010.dwellings_1_units_detached_quantile),\n",
       " Variable(carto-do-public-data.acsquantiles.demographics_acsquantiles_usa_schooldistrictunifiedclipped_2015_5yrs_20062010.vacant_housing_units_for_sale_quantile),\n",
       " Variable(carto-do-public-data.acsquantiles.demographics_acsquantiles_usa_schooldistrictunifiedclipped_2015_5yrs_20062010.dwellings_2_units_quantile),\n",
       " Variable(carto-do-public-data.acsquantiles.demographics_acsquantiles_usa_schooldistrictunifiedclipped_2015_5yrs_20062010.vacant_housing_units_for_rent_quantile),\n",
       " Variable(carto-do-public-data.acsquantiles.demographics_acsquantiles_usa_schooldistrictunifiedclipped_2015_5yrs_20062010.housing_units_renter_occupied_quantile),\n",
       " Variable(carto-do-public-data.acsquantiles.demographics_acsquantiles_usa_schooldistrictunifiedclipped_2015_5yrs_20062010.occupied_housing_units_quantile),\n",
       " Variable(carto-do-public-data.acsquantiles.demographics_acsquantiles_usa_schooldistrictunifiedclipped_2015_5yrs_20062010.vacant_housing_units_quantile),\n",
       " Variable(carto-do-public-data.acsquantiles.demographics_acsquantiles_usa_schooldistrictunifiedclipped_2015_5yrs_20062010.housing_units_quantile),\n",
       " Variable(carto-do-public-data.acsquantiles.demographics_acsquantiles_usa_schooldistrictunifiedclipped_2015_5yrs_20062010.father_in_labor_force_one_parent_families_with_young_children_quantile),\n",
       " Variable(carto-do-public-data.acsquantiles.demographics_acsquantiles_usa_schooldistrictunifiedclipped_2015_5yrs_20062010.father_one_parent_families_with_young_children_quantile),\n",
       " Variable(carto-do-public-data.acsquantiles.demographics_acsquantiles_usa_schooldistrictunifiedclipped_2015_5yrs_20062010.one_parent_families_with_young_children_quantile),\n",
       " Variable(carto-do-public-data.acsquantiles.demographics_acsquantiles_usa_schooldistrictunifiedclipped_2015_5yrs_20062010.two_parents_not_in_labor_force_families_with_young_children_quantile),\n",
       " Variable(carto-do-public-data.acsquantiles.demographics_acsquantiles_usa_schooldistrictunifiedclipped_2015_5yrs_20062010.two_parents_mother_in_labor_force_families_with_young_children_quantile),\n",
       " Variable(carto-do-public-data.acsquantiles.demographics_acsquantiles_usa_schooldistrictunifiedclipped_2015_5yrs_20062010.two_parents_father_in_labor_force_families_with_young_children_quantile),\n",
       " Variable(carto-do-public-data.acsquantiles.demographics_acsquantiles_usa_schooldistrictunifiedclipped_2015_5yrs_20062010.two_parents_in_labor_force_families_with_young_children_quantile),\n",
       " Variable(carto-do-public-data.acsquantiles.demographics_acsquantiles_usa_schooldistrictunifiedclipped_2015_5yrs_20062010.two_parent_families_with_young_children_quantile),\n",
       " Variable(carto-do-public-data.acsquantiles.demographics_acsquantiles_usa_schooldistrictunifiedclipped_2015_5yrs_20062010.families_with_young_children_quantile),\n",
       " Variable(carto-do-public-data.acsquantiles.demographics_acsquantiles_usa_schooldistrictunifiedclipped_2015_5yrs_20062010.bachelors_degree_or_higher_25_64_quantile),\n",
       " Variable(carto-do-public-data.acsquantiles.demographics_acsquantiles_usa_schooldistrictunifiedclipped_2015_5yrs_20062010.pop_25_64_quantile),\n",
       " Variable(carto-do-public-data.acsquantiles.demographics_acsquantiles_usa_schooldistrictunifiedclipped_2015_5yrs_20062010.income_per_capita_quantile),\n",
       " Variable(carto-do-public-data.acsquantiles.demographics_acsquantiles_usa_schooldistrictunifiedclipped_2015_5yrs_20062010.gini_index_quantile),\n",
       " Variable(carto-do-public-data.acsquantiles.demographics_acsquantiles_usa_schooldistrictunifiedclipped_2015_5yrs_20062010.households_retirement_income_quantile),\n",
       " Variable(carto-do-public-data.acsquantiles.demographics_acsquantiles_usa_schooldistrictunifiedclipped_2015_5yrs_20062010.households_public_asst_or_food_stamps_quantile),\n",
       " Variable(carto-do-public-data.acsquantiles.demographics_acsquantiles_usa_schooldistrictunifiedclipped_2015_5yrs_20062010.median_income_quantile),\n",
       " Variable(carto-do-public-data.acsquantiles.demographics_acsquantiles_usa_schooldistrictunifiedclipped_2015_5yrs_20062010.income_200000_or_more_quantile),\n",
       " Variable(carto-do-public-data.acsquantiles.demographics_acsquantiles_usa_schooldistrictunifiedclipped_2015_5yrs_20062010.income_150000_199999_quantile),\n",
       " Variable(carto-do-public-data.acsquantiles.demographics_acsquantiles_usa_schooldistrictunifiedclipped_2015_5yrs_20062010.income_125000_149999_quantile),\n",
       " Variable(carto-do-public-data.acsquantiles.demographics_acsquantiles_usa_schooldistrictunifiedclipped_2015_5yrs_20062010.income_100000_124999_quantile),\n",
       " Variable(carto-do-public-data.acsquantiles.demographics_acsquantiles_usa_schooldistrictunifiedclipped_2015_5yrs_20062010.income_75000_99999_quantile),\n",
       " Variable(carto-do-public-data.acsquantiles.demographics_acsquantiles_usa_schooldistrictunifiedclipped_2015_5yrs_20062010.income_60000_74999_quantile),\n",
       " Variable(carto-do-public-data.acsquantiles.demographics_acsquantiles_usa_schooldistrictunifiedclipped_2015_5yrs_20062010.four_more_cars_quantile),\n",
       " Variable(carto-do-public-data.acsquantiles.demographics_acsquantiles_usa_schooldistrictunifiedclipped_2015_5yrs_20062010.three_cars_quantile),\n",
       " Variable(carto-do-public-data.acsquantiles.demographics_acsquantiles_usa_schooldistrictunifiedclipped_2015_5yrs_20062010.two_cars_quantile),\n",
       " Variable(carto-do-public-data.acsquantiles.demographics_acsquantiles_usa_schooldistrictunifiedclipped_2015_5yrs_20062010.one_car_quantile),\n",
       " Variable(carto-do-public-data.acsquantiles.demographics_acsquantiles_usa_schooldistrictunifiedclipped_2015_5yrs_20062010.no_cars_quantile),\n",
       " Variable(carto-do-public-data.acsquantiles.demographics_acsquantiles_usa_schooldistrictunifiedclipped_2015_5yrs_20062010.aggregate_travel_time_to_work_quantile),\n",
       " Variable(carto-do-public-data.acsquantiles.demographics_acsquantiles_usa_schooldistrictunifiedclipped_2015_5yrs_20062010.no_car_quantile),\n",
       " Variable(carto-do-public-data.acsquantiles.demographics_acsquantiles_usa_schooldistrictunifiedclipped_2015_5yrs_20062010.worked_at_home_quantile),\n",
       " Variable(carto-do-public-data.acsquantiles.demographics_acsquantiles_usa_schooldistrictunifiedclipped_2015_5yrs_20062010.walked_to_work_quantile),\n",
       " Variable(carto-do-public-data.acsquantiles.demographics_acsquantiles_usa_schooldistrictunifiedclipped_2015_5yrs_20062010.commuters_by_subway_or_elevated_quantile),\n",
       " Variable(carto-do-public-data.acsquantiles.demographics_acsquantiles_usa_schooldistrictunifiedclipped_2015_5yrs_20062010.commuters_by_bus_quantile),\n",
       " Variable(carto-do-public-data.acsquantiles.demographics_acsquantiles_usa_schooldistrictunifiedclipped_2015_5yrs_20062010.commuters_by_carpool_quantile),\n",
       " Variable(carto-do-public-data.acsquantiles.demographics_acsquantiles_usa_schooldistrictunifiedclipped_2015_5yrs_20062010.workers_16_and_over_quantile),\n",
       " Variable(carto-do-public-data.acsquantiles.demographics_acsquantiles_usa_schooldistrictunifiedclipped_2015_5yrs_20062010.different_house_year_ago_different_city_quantile),\n",
       " Variable(carto-do-public-data.acsquantiles.demographics_acsquantiles_usa_schooldistrictunifiedclipped_2015_5yrs_20062010.different_house_year_ago_same_city_quantile),\n",
       " Variable(carto-do-public-data.acsquantiles.demographics_acsquantiles_usa_schooldistrictunifiedclipped_2015_5yrs_20062010.population_1_year_and_over_quantile),\n",
       " Variable(carto-do-public-data.acsquantiles.demographics_acsquantiles_usa_schooldistrictunifiedclipped_2015_5yrs_20062010.graduate_professional_degree_quantile),\n",
       " Variable(carto-do-public-data.acsquantiles.demographics_acsquantiles_usa_schooldistrictunifiedclipped_2015_5yrs_20062010.bachelors_degree_2_quantile),\n",
       " Variable(carto-do-public-data.acsquantiles.demographics_acsquantiles_usa_schooldistrictunifiedclipped_2015_5yrs_20062010.some_college_and_associates_degree_quantile),\n",
       " Variable(carto-do-public-data.acsquantiles.demographics_acsquantiles_usa_schooldistrictunifiedclipped_2015_5yrs_20062010.high_school_including_ged_quantile),\n",
       " Variable(carto-do-public-data.acsquantiles.demographics_acsquantiles_usa_schooldistrictunifiedclipped_2015_5yrs_20062010.less_than_high_school_graduate_quantile),\n",
       " Variable(carto-do-public-data.acsquantiles.demographics_acsquantiles_usa_schooldistrictunifiedclipped_2015_5yrs_20062010.not_us_citizen_pop_quantile),\n",
       " Variable(carto-do-public-data.acsquantiles.demographics_acsquantiles_usa_schooldistrictunifiedclipped_2015_5yrs_20062010.hispanic_pop_quantile),\n",
       " Variable(carto-do-public-data.acsquantiles.demographics_acsquantiles_usa_schooldistrictunifiedclipped_2015_5yrs_20062010.two_or_more_races_pop_quantile),\n",
       " Variable(carto-do-public-data.acsquantiles.demographics_acsquantiles_usa_schooldistrictunifiedclipped_2015_5yrs_20062010.other_race_pop_quantile),\n",
       " Variable(carto-do-public-data.acsquantiles.demographics_acsquantiles_usa_schooldistrictunifiedclipped_2015_5yrs_20062010.asian_pop_quantile),\n",
       " Variable(carto-do-public-data.acsquantiles.demographics_acsquantiles_usa_schooldistrictunifiedclipped_2015_5yrs_20062010.amerindian_pop_quantile),\n",
       " Variable(carto-do-public-data.acsquantiles.demographics_acsquantiles_usa_schooldistrictunifiedclipped_2015_5yrs_20062010.black_pop_quantile),\n",
       " Variable(carto-do-public-data.acsquantiles.demographics_acsquantiles_usa_schooldistrictunifiedclipped_2015_5yrs_20062010.white_pop_quantile),\n",
       " Variable(carto-do-public-data.acsquantiles.demographics_acsquantiles_usa_schooldistrictunifiedclipped_2015_5yrs_20062010.not_hispanic_pop_quantile),\n",
       " Variable(carto-do-public-data.acsquantiles.demographics_acsquantiles_usa_schooldistrictunifiedclipped_2015_5yrs_20062010.amerindian_including_hispanic_quantile),\n",
       " Variable(carto-do-public-data.acsquantiles.demographics_acsquantiles_usa_schooldistrictunifiedclipped_2015_5yrs_20062010.black_including_hispanic_quantile),\n",
       " Variable(carto-do-public-data.acsquantiles.demographics_acsquantiles_usa_schooldistrictunifiedclipped_2015_5yrs_20062010.white_including_hispanic_quantile),\n",
       " Variable(carto-do-public-data.acsquantiles.demographics_acsquantiles_usa_schooldistrictunifiedclipped_2015_5yrs_20062010.total_pop_quantile),\n",
       " Variable(carto-do-public-data.acsquantiles.demographics_acsquantiles_usa_schooldistrictunifiedclipped_2015_5yrs_20062010.housing_built_2005_or_later_quantile),\n",
       " Variable(carto-do-public-data.acsquantiles.demographics_acsquantiles_usa_schooldistrictunifiedclipped_2015_5yrs_20062010.mobile_homes_quantile),\n",
       " Variable(carto-do-public-data.acsquantiles.demographics_acsquantiles_usa_schooldistrictunifiedclipped_2015_5yrs_20062010.dwellings_50_or_more_units_quantile),\n",
       " Variable(carto-do-public-data.acsquantiles.demographics_acsquantiles_usa_schooldistrictunifiedclipped_2015_5yrs_20062010.dwellings_20_to_49_units_quantile),\n",
       " Variable(carto-do-public-data.acsquantiles.demographics_acsquantiles_usa_schooldistrictunifiedclipped_2015_5yrs_20062010.dwellings_10_to_19_units_quantile),\n",
       " Variable(carto-do-public-data.acsquantiles.demographics_acsquantiles_usa_schooldistrictunifiedclipped_2015_5yrs_20062010.dwellings_5_to_9_units_quantile),\n",
       " Variable(carto-do-public-data.acsquantiles.demographics_acsquantiles_usa_schooldistrictunifiedclipped_2015_5yrs_20062010.dwellings_3_to_4_units_quantile),\n",
       " Variable(carto-do-public-data.acsquantiles.demographics_acsquantiles_usa_schooldistrictunifiedclipped_2015_5yrs_20062010.dwellings_1_units_attached_quantile),\n",
       " Variable(carto-do-public-data.acsquantiles.demographics_acsquantiles_usa_schooldistrictunifiedclipped_2015_5yrs_20062010.pop_never_married_quantile),\n",
       " Variable(carto-do-public-data.acsquantiles.demographics_acsquantiles_usa_schooldistrictunifiedclipped_2015_5yrs_20062010.pop_15_and_over_quantile),\n",
       " Variable(carto-do-public-data.acsquantiles.demographics_acsquantiles_usa_schooldistrictunifiedclipped_2015_5yrs_20062010.female_female_households_quantile),\n",
       " Variable(carto-do-public-data.acsquantiles.demographics_acsquantiles_usa_schooldistrictunifiedclipped_2015_5yrs_20062010.male_male_households_quantile),\n",
       " Variable(carto-do-public-data.acsquantiles.demographics_acsquantiles_usa_schooldistrictunifiedclipped_2015_5yrs_20062010.nonfamily_households_quantile),\n",
       " Variable(carto-do-public-data.acsquantiles.demographics_acsquantiles_usa_schooldistrictunifiedclipped_2015_5yrs_20062010.married_households_quantile),\n",
       " Variable(carto-do-public-data.acsquantiles.demographics_acsquantiles_usa_schooldistrictunifiedclipped_2015_5yrs_20062010.family_households_quantile),\n",
       " Variable(carto-do-public-data.acsquantiles.demographics_acsquantiles_usa_schooldistrictunifiedclipped_2015_5yrs_20062010.households_quantile),\n",
       " Variable(carto-do-public-data.acsquantiles.demographics_acsquantiles_usa_schooldistrictunifiedclipped_2015_5yrs_20062010.children_in_single_female_hh_quantile),\n",
       " Variable(carto-do-public-data.acsquantiles.demographics_acsquantiles_usa_schooldistrictunifiedclipped_2015_5yrs_20062010.children_quantile),\n",
       " Variable(carto-do-public-data.acsquantiles.demographics_acsquantiles_usa_schooldistrictunifiedclipped_2015_5yrs_20062010.commute_90_more_mins_quantile),\n",
       " Variable(carto-do-public-data.acsquantiles.demographics_acsquantiles_usa_schooldistrictunifiedclipped_2015_5yrs_20062010.commute_60_89_mins_quantile),\n",
       " Variable(carto-do-public-data.acsquantiles.demographics_acsquantiles_usa_schooldistrictunifiedclipped_2015_5yrs_20062010.commute_45_59_mins_quantile),\n",
       " Variable(carto-do-public-data.acsquantiles.demographics_acsquantiles_usa_schooldistrictunifiedclipped_2015_5yrs_20062010.commute_40_44_mins_quantile),\n",
       " Variable(carto-do-public-data.acsquantiles.demographics_acsquantiles_usa_schooldistrictunifiedclipped_2015_5yrs_20062010.commute_35_39_mins_quantile),\n",
       " Variable(carto-do-public-data.acsquantiles.demographics_acsquantiles_usa_schooldistrictunifiedclipped_2015_5yrs_20062010.commute_30_34_mins_quantile),\n",
       " Variable(carto-do-public-data.acsquantiles.demographics_acsquantiles_usa_schooldistrictunifiedclipped_2015_5yrs_20062010.commute_25_29_mins_quantile),\n",
       " Variable(carto-do-public-data.acsquantiles.demographics_acsquantiles_usa_schooldistrictunifiedclipped_2015_5yrs_20062010.commute_20_24_mins_quantile),\n",
       " Variable(carto-do-public-data.acsquantiles.demographics_acsquantiles_usa_schooldistrictunifiedclipped_2015_5yrs_20062010.commute_15_19_mins_quantile),\n",
       " Variable(carto-do-public-data.acsquantiles.demographics_acsquantiles_usa_schooldistrictunifiedclipped_2015_5yrs_20062010.commute_10_14_mins_quantile),\n",
       " Variable(carto-do-public-data.acsquantiles.demographics_acsquantiles_usa_schooldistrictunifiedclipped_2015_5yrs_20062010.commute_5_9_mins_quantile),\n",
       " Variable(carto-do-public-data.acsquantiles.demographics_acsquantiles_usa_schooldistrictunifiedclipped_2015_5yrs_20062010.commuters_by_public_transportation_quantile),\n",
       " Variable(carto-do-public-data.acsquantiles.demographics_acsquantiles_usa_schooldistrictunifiedclipped_2015_5yrs_20062010.rent_25_to_30_percent_quantile),\n",
       " Variable(carto-do-public-data.acsquantiles.demographics_acsquantiles_usa_schooldistrictunifiedclipped_2015_5yrs_20062010.rent_20_to_25_percent_quantile),\n",
       " Variable(carto-do-public-data.acsquantiles.demographics_acsquantiles_usa_schooldistrictunifiedclipped_2015_5yrs_20062010.rent_15_to_20_percent_quantile),\n",
       " Variable(carto-do-public-data.acsquantiles.demographics_acsquantiles_usa_schooldistrictunifiedclipped_2015_5yrs_20062010.rent_10_to_15_percent_quantile),\n",
       " Variable(carto-do-public-data.acsquantiles.demographics_acsquantiles_usa_schooldistrictunifiedclipped_2015_5yrs_20062010.rent_under_10_percent_quantile),\n",
       " Variable(carto-do-public-data.acsquantiles.demographics_acsquantiles_usa_schooldistrictunifiedclipped_2015_5yrs_20062010.renter_occupied_housing_units_paying_cash_median_gross_rent_quantile),\n",
       " Variable(carto-do-public-data.acsquantiles.demographics_acsquantiles_usa_schooldistrictunifiedclipped_2015_5yrs_20062010.median_rent_quantile),\n",
       " Variable(carto-do-public-data.acsquantiles.demographics_acsquantiles_usa_schooldistrictunifiedclipped_2015_5yrs_20062010.median_year_structure_built_quantile),\n",
       " Variable(carto-do-public-data.acsquantiles.demographics_acsquantiles_usa_schooldistrictunifiedclipped_2015_5yrs_20062010.housing_built_1939_or_earlier_quantile),\n",
       " Variable(carto-do-public-data.acsquantiles.demographics_acsquantiles_usa_schooldistrictunifiedclipped_2015_5yrs_20062010.housing_built_2000_to_2004_quantile),\n",
       " Variable(carto-do-public-data.acsquantiles.demographics_acsquantiles_usa_schooldistrictunifiedclipped_2015_5yrs_20062010.median_age_quantile),\n",
       " Variable(carto-do-public-data.acsquantiles.demographics_acsquantiles_usa_schooldistrictunifiedclipped_2015_5yrs_20062010.asian_male_55_64_quantile),\n",
       " Variable(carto-do-public-data.acsquantiles.demographics_acsquantiles_usa_schooldistrictunifiedclipped_2015_5yrs_20062010.black_male_55_64_quantile),\n",
       " Variable(carto-do-public-data.acsquantiles.demographics_acsquantiles_usa_schooldistrictunifiedclipped_2015_5yrs_20062010.black_male_45_54_quantile),\n",
       " Variable(carto-do-public-data.acsquantiles.demographics_acsquantiles_usa_schooldistrictunifiedclipped_2015_5yrs_20062010.female_85_and_over_quantile),\n",
       " Variable(carto-do-public-data.acsquantiles.demographics_acsquantiles_usa_schooldistrictunifiedclipped_2015_5yrs_20062010.female_80_to_84_quantile),\n",
       " Variable(carto-do-public-data.acsquantiles.demographics_acsquantiles_usa_schooldistrictunifiedclipped_2015_5yrs_20062010.female_75_to_79_quantile),\n",
       " Variable(carto-do-public-data.acsquantiles.demographics_acsquantiles_usa_schooldistrictunifiedclipped_2015_5yrs_20062010.female_70_to_74_quantile),\n",
       " Variable(carto-do-public-data.acsquantiles.demographics_acsquantiles_usa_schooldistrictunifiedclipped_2015_5yrs_20062010.management_business_sci_arts_employed_quantile),\n",
       " Variable(carto-do-public-data.acsquantiles.demographics_acsquantiles_usa_schooldistrictunifiedclipped_2015_5yrs_20062010.occupation_production_transportation_material_quantile),\n",
       " Variable(carto-do-public-data.acsquantiles.demographics_acsquantiles_usa_schooldistrictunifiedclipped_2015_5yrs_20062010.occupation_natural_resources_construction_maintenance_quantile),\n",
       " Variable(carto-do-public-data.acsquantiles.demographics_acsquantiles_usa_schooldistrictunifiedclipped_2015_5yrs_20062010.occupation_sales_office_quantile),\n",
       " Variable(carto-do-public-data.acsquantiles.demographics_acsquantiles_usa_schooldistrictunifiedclipped_2015_5yrs_20062010.occupation_services_quantile),\n",
       " Variable(carto-do-public-data.acsquantiles.demographics_acsquantiles_usa_schooldistrictunifiedclipped_2015_5yrs_20062010.employed_public_administration_quantile),\n",
       " Variable(carto-do-public-data.acsquantiles.demographics_acsquantiles_usa_schooldistrictunifiedclipped_2015_5yrs_20062010.employed_other_services_not_public_admin_quantile),\n",
       " Variable(carto-do-public-data.acsquantiles.demographics_acsquantiles_usa_schooldistrictunifiedclipped_2015_5yrs_20062010.employed_arts_entertainment_recreation_accommodation_food_quantile),\n",
       " Variable(carto-do-public-data.acsquantiles.demographics_acsquantiles_usa_schooldistrictunifiedclipped_2015_5yrs_20062010.employed_education_health_social_quantile),\n",
       " Variable(carto-do-public-data.acsquantiles.demographics_acsquantiles_usa_schooldistrictunifiedclipped_2015_5yrs_20062010.employed_science_management_admin_waste_quantile),\n",
       " Variable(carto-do-public-data.acsquantiles.demographics_acsquantiles_usa_schooldistrictunifiedclipped_2015_5yrs_20062010.employed_finance_insurance_real_estate_quantile),\n",
       " Variable(carto-do-public-data.acsquantiles.demographics_acsquantiles_usa_schooldistrictunifiedclipped_2015_5yrs_20062010.employed_information_quantile),\n",
       " Variable(carto-do-public-data.acsquantiles.demographics_acsquantiles_usa_schooldistrictunifiedclipped_2015_5yrs_20062010.occupation_management_arts_quantile),\n",
       " Variable(carto-do-public-data.acsquantiles.demographics_acsquantiles_usa_schooldistrictunifiedclipped_2015_5yrs_20062010.employed_transportation_warehousing_utilities_quantile),\n",
       " Variable(carto-do-public-data.acsquantiles.demographics_acsquantiles_usa_schooldistrictunifiedclipped_2015_5yrs_20062010.employed_retail_trade_quantile),\n",
       " Variable(carto-do-public-data.acsquantiles.demographics_acsquantiles_usa_schooldistrictunifiedclipped_2015_5yrs_20062010.employed_wholesale_trade_quantile),\n",
       " Variable(carto-do-public-data.acsquantiles.demographics_acsquantiles_usa_schooldistrictunifiedclipped_2015_5yrs_20062010.employed_manufacturing_quantile),\n",
       " Variable(carto-do-public-data.acsquantiles.demographics_acsquantiles_usa_schooldistrictunifiedclipped_2015_5yrs_20062010.employed_construction_quantile),\n",
       " Variable(carto-do-public-data.acsquantiles.demographics_acsquantiles_usa_schooldistrictunifiedclipped_2015_5yrs_20062010.employed_agriculture_forestry_fishing_hunting_mining_quantile),\n",
       " Variable(carto-do-public-data.acsquantiles.demographics_acsquantiles_usa_schooldistrictunifiedclipped_2015_5yrs_20062010.group_quarters_quantile),\n",
       " Variable(carto-do-public-data.acsquantiles.demographics_acsquantiles_usa_schooldistrictunifiedclipped_2015_5yrs_20062010.mortgaged_housing_units_quantile),\n",
       " Variable(carto-do-public-data.acsquantiles.demographics_acsquantiles_usa_schooldistrictunifiedclipped_2015_5yrs_20062010.owner_occupied_housing_units_upper_value_quartile_quantile),\n",
       " Variable(carto-do-public-data.acsquantiles.demographics_acsquantiles_usa_schooldistrictunifiedclipped_2015_5yrs_20062010.owner_occupied_housing_units_median_value_quantile),\n",
       " Variable(carto-do-public-data.acsquantiles.demographics_acsquantiles_usa_schooldistrictunifiedclipped_2015_5yrs_20062010.owner_occupied_housing_units_lower_value_quartile_quantile),\n",
       " Variable(carto-do-public-data.acsquantiles.demographics_acsquantiles_usa_schooldistrictunifiedclipped_2015_5yrs_20062010.million_dollar_housing_units_quantile),\n",
       " Variable(carto-do-public-data.acsquantiles.demographics_acsquantiles_usa_schooldistrictunifiedclipped_2015_5yrs_20062010.owner_occupied_housing_units_quantile),\n",
       " Variable(carto-do-public-data.acsquantiles.demographics_acsquantiles_usa_schooldistrictunifiedclipped_2015_5yrs_20062010.percent_income_spent_on_rent_quantile),\n",
       " Variable(carto-do-public-data.acsquantiles.demographics_acsquantiles_usa_schooldistrictunifiedclipped_2015_5yrs_20062010.rent_over_50_percent_quantile),\n",
       " Variable(carto-do-public-data.acsquantiles.demographics_acsquantiles_usa_schooldistrictunifiedclipped_2015_5yrs_20062010.rent_40_to_50_percent_quantile),\n",
       " Variable(carto-do-public-data.acsquantiles.demographics_acsquantiles_usa_schooldistrictunifiedclipped_2015_5yrs_20062010.rent_burden_not_computed_quantile),\n",
       " Variable(carto-do-public-data.acsquantiles.demographics_acsquantiles_usa_schooldistrictunifiedclipped_2015_5yrs_20062010.rent_35_to_40_percent_quantile),\n",
       " Variable(carto-do-public-data.acsquantiles.demographics_acsquantiles_usa_schooldistrictunifiedclipped_2015_5yrs_20062010.rent_30_to_35_percent_quantile),\n",
       " Variable(carto-do-public-data.acsquantiles.demographics_acsquantiles_usa_schooldistrictunifiedclipped_2015_5yrs_20062010.commuters_drove_alone_quantile),\n",
       " Variable(carto-do-public-data.acsquantiles.demographics_acsquantiles_usa_schooldistrictunifiedclipped_2015_5yrs_20062010.commuters_by_car_truck_van_quantile)]"
      ]
     },
     "execution_count": 16,
     "metadata": {},
     "output_type": "execute_result"
    }
   ],
   "source": [
    "vars1 = d1.variables\n",
    "vars1"
   ]
  },
  {
   "cell_type": "code",
   "execution_count": 17,
   "metadata": {},
   "outputs": [
    {
     "data": {
      "text/plain": [
       "True"
      ]
     },
     "execution_count": 17,
     "metadata": {},
     "output_type": "execute_result"
    }
   ],
   "source": [
    "from cartoframes.data.observatory.variable import Variable\n",
    "\n",
    "isinstance(vars1[0], Variable)"
   ]
  },
  {
   "cell_type": "code",
   "execution_count": 3,
   "metadata": {},
   "outputs": [],
   "source": [
    "from cartoframes.data.observatory.catalog import Catalog\n",
    "\n",
    "catalog = Catalog()"
   ]
  },
  {
   "cell_type": "code",
   "execution_count": null,
   "metadata": {},
   "outputs": [],
   "source": [
    "len(catalog.country('spain').datasets)"
   ]
  },
  {
   "cell_type": "code",
   "execution_count": 2,
   "metadata": {},
   "outputs": [
    {
     "data": {
      "text/plain": [
       "5"
      ]
     },
     "execution_count": 2,
     "metadata": {},
     "output_type": "execute_result"
    }
   ],
   "source": [
    "len(catalog.category('demographics').datasets)"
   ]
  },
  {
   "cell_type": "code",
   "execution_count": 3,
   "metadata": {},
   "outputs": [
    {
     "data": {
      "text/plain": [
       "273"
      ]
     },
     "execution_count": 3,
     "metadata": {},
     "output_type": "execute_result"
    }
   ],
   "source": [
    "catalog.clear_filters()\n",
    "len(catalog.category('demographics').datasets)"
   ]
  },
  {
   "cell_type": "code",
   "execution_count": 4,
   "metadata": {},
   "outputs": [
    {
     "data": {
      "text/plain": [
       "5"
      ]
     },
     "execution_count": 4,
     "metadata": {},
     "output_type": "execute_result"
    }
   ],
   "source": [
    "catalog.clear_filters()\n",
    "len(catalog.country('spain').category('demographics').datasets)"
   ]
  },
  {
   "cell_type": "code",
   "execution_count": 5,
   "metadata": {},
   "outputs": [
    {
     "data": {
      "text/plain": [
       "268"
      ]
     },
     "execution_count": 5,
     "metadata": {},
     "output_type": "execute_result"
    }
   ],
   "source": [
    "catalog.clear_filters()\n",
    "len(catalog.country('usa').category('demographics').datasets)"
   ]
  },
  {
   "cell_type": "code",
   "execution_count": 2,
   "metadata": {},
   "outputs": [
    {
     "data": {
      "text/plain": [
       "[Country(usa), Country(spain)]"
      ]
     },
     "execution_count": 2,
     "metadata": {},
     "output_type": "execute_result"
    }
   ],
   "source": [
    "catalog.category('demographics').countries"
   ]
  },
  {
   "cell_type": "code",
   "execution_count": 4,
   "metadata": {},
   "outputs": [
    {
     "ename": "CartoException",
     "evalue": "['column \"country_id\" does not exist']",
     "output_type": "error",
     "traceback": [
      "\u001b[0;31m---------------------------------------------------------------------------\u001b[0m",
      "\u001b[0;31mBadRequestException\u001b[0m                       Traceback (most recent call last)",
      "\u001b[0;32m~/.local/share/virtualenvs/cartoframes/src/carto/carto/sql.py\u001b[0m in \u001b[0;36msend\u001b[0;34m(self, sql, parse_json, do_post, format, **request_args)\u001b[0m\n\u001b[1;32m    109\u001b[0m \u001b[0;34m\u001b[0m\u001b[0m\n\u001b[0;32m--> 110\u001b[0;31m             \u001b[0;32mreturn\u001b[0m \u001b[0mself\u001b[0m\u001b[0;34m.\u001b[0m\u001b[0mauth_client\u001b[0m\u001b[0;34m.\u001b[0m\u001b[0mget_response_data\u001b[0m\u001b[0;34m(\u001b[0m\u001b[0mresp\u001b[0m\u001b[0;34m,\u001b[0m \u001b[0mparse_json\u001b[0m\u001b[0;34m)\u001b[0m\u001b[0;34m\u001b[0m\u001b[0;34m\u001b[0m\u001b[0m\n\u001b[0m\u001b[1;32m    111\u001b[0m         \u001b[0;32mexcept\u001b[0m \u001b[0mCartoRateLimitException\u001b[0m \u001b[0;32mas\u001b[0m \u001b[0me\u001b[0m\u001b[0;34m:\u001b[0m\u001b[0;34m\u001b[0m\u001b[0;34m\u001b[0m\u001b[0m\n",
      "\u001b[0;32m~/.virtualenvs/cartoframes/lib/python3.7/site-packages/pyrestcli/auth.py\u001b[0m in \u001b[0;36mget_response_data\u001b[0;34m(self, response, parse_json)\u001b[0m\n\u001b[1;32m     50\u001b[0m         \u001b[0;32melse\u001b[0m\u001b[0;34m:\u001b[0m\u001b[0;34m\u001b[0m\u001b[0;34m\u001b[0m\u001b[0m\n\u001b[0;32m---> 51\u001b[0;31m             \u001b[0;32mraise\u001b[0m \u001b[0mBaseException\u001b[0m\u001b[0;34m.\u001b[0m\u001b[0mcreate\u001b[0m\u001b[0;34m(\u001b[0m\u001b[0mresponse\u001b[0m\u001b[0;34m)\u001b[0m\u001b[0;34m\u001b[0m\u001b[0;34m\u001b[0m\u001b[0m\n\u001b[0m\u001b[1;32m     52\u001b[0m \u001b[0;34m\u001b[0m\u001b[0m\n",
      "\u001b[0;32m~/.virtualenvs/cartoframes/lib/python3.7/site-packages/pyrestcli/exceptions.py\u001b[0m in \u001b[0;36mcreate\u001b[0;34m(response)\u001b[0m\n\u001b[1;32m     37\u001b[0m         \u001b[0mklass\u001b[0m \u001b[0;34m=\u001b[0m \u001b[0mgetattr\u001b[0m\u001b[0;34m(\u001b[0m\u001b[0msys\u001b[0m\u001b[0;34m.\u001b[0m\u001b[0mmodules\u001b[0m\u001b[0;34m[\u001b[0m\u001b[0m__name__\u001b[0m\u001b[0;34m]\u001b[0m\u001b[0;34m,\u001b[0m \u001b[0merror\u001b[0m\u001b[0;34m)\u001b[0m\u001b[0;34m\u001b[0m\u001b[0;34m\u001b[0m\u001b[0m\n\u001b[0;32m---> 38\u001b[0;31m         \u001b[0;32mraise\u001b[0m \u001b[0mklass\u001b[0m\u001b[0;34m(\u001b[0m\u001b[0mmessage\u001b[0m\u001b[0;34m,\u001b[0m \u001b[0mstatus_code\u001b[0m\u001b[0;34m,\u001b[0m \u001b[0mheaders\u001b[0m\u001b[0;34m,\u001b[0m \u001b[0mreason\u001b[0m\u001b[0;34m,\u001b[0m \u001b[0murl\u001b[0m\u001b[0;34m)\u001b[0m\u001b[0;34m\u001b[0m\u001b[0;34m\u001b[0m\u001b[0m\n\u001b[0m\u001b[1;32m     39\u001b[0m \u001b[0;34m\u001b[0m\u001b[0m\n",
      "\u001b[0;31mBadRequestException\u001b[0m: ['column \"country_id\" does not exist']",
      "\nDuring handling of the above exception, another exception occurred:\n",
      "\u001b[0;31mCartoException\u001b[0m                            Traceback (most recent call last)",
      "\u001b[0;32m<ipython-input-4-7deb9c292661>\u001b[0m in \u001b[0;36m<module>\u001b[0;34m\u001b[0m\n\u001b[0;32m----> 1\u001b[0;31m \u001b[0mcatalog\u001b[0m\u001b[0;34m.\u001b[0m\u001b[0mcountry\u001b[0m\u001b[0;34m(\u001b[0m\u001b[0;34m'spain'\u001b[0m\u001b[0;34m)\u001b[0m\u001b[0;34m.\u001b[0m\u001b[0mcategories\u001b[0m\u001b[0;34m\u001b[0m\u001b[0;34m\u001b[0m\u001b[0m\n\u001b[0m",
      "\u001b[0;32m~/CARTO/dev/cartoframes/cartoframes/data/observatory/catalog.py\u001b[0m in \u001b[0;36mcategories\u001b[0;34m(self)\u001b[0m\n\u001b[1;32m     33\u001b[0m         \"\"\"\n\u001b[1;32m     34\u001b[0m \u001b[0;34m\u001b[0m\u001b[0m\n\u001b[0;32m---> 35\u001b[0;31m         \u001b[0;32mreturn\u001b[0m \u001b[0mCategory\u001b[0m\u001b[0;34m.\u001b[0m\u001b[0mget_all\u001b[0m\u001b[0;34m(\u001b[0m\u001b[0mself\u001b[0m\u001b[0;34m.\u001b[0m\u001b[0mfilters\u001b[0m\u001b[0;34m)\u001b[0m\u001b[0;34m\u001b[0m\u001b[0;34m\u001b[0m\u001b[0m\n\u001b[0m\u001b[1;32m     36\u001b[0m \u001b[0;34m\u001b[0m\u001b[0m\n\u001b[1;32m     37\u001b[0m     \u001b[0;34m@\u001b[0m\u001b[0mproperty\u001b[0m\u001b[0;34m\u001b[0m\u001b[0;34m\u001b[0m\u001b[0m\n",
      "\u001b[0;32m~/CARTO/dev/cartoframes/cartoframes/data/observatory/entity.py\u001b[0m in \u001b[0;36mget_all\u001b[0;34m(cls, filters)\u001b[0m\n\u001b[1;32m     26\u001b[0m     \u001b[0;34m@\u001b[0m\u001b[0mclassmethod\u001b[0m\u001b[0;34m\u001b[0m\u001b[0;34m\u001b[0m\u001b[0m\n\u001b[1;32m     27\u001b[0m     \u001b[0;32mdef\u001b[0m \u001b[0mget_all\u001b[0m\u001b[0;34m(\u001b[0m\u001b[0mcls\u001b[0m\u001b[0;34m,\u001b[0m \u001b[0mfilters\u001b[0m\u001b[0;34m=\u001b[0m\u001b[0;32mNone\u001b[0m\u001b[0;34m)\u001b[0m\u001b[0;34m:\u001b[0m\u001b[0;34m\u001b[0m\u001b[0;34m\u001b[0m\u001b[0m\n\u001b[0;32m---> 28\u001b[0;31m         \u001b[0;32mreturn\u001b[0m \u001b[0mcls\u001b[0m\u001b[0;34m.\u001b[0m\u001b[0mentity_repo\u001b[0m\u001b[0;34m.\u001b[0m\u001b[0mget_all\u001b[0m\u001b[0;34m(\u001b[0m\u001b[0mfilters\u001b[0m\u001b[0;34m)\u001b[0m\u001b[0;34m\u001b[0m\u001b[0;34m\u001b[0m\u001b[0m\n\u001b[0m\u001b[1;32m     29\u001b[0m \u001b[0;34m\u001b[0m\u001b[0m\n\u001b[1;32m     30\u001b[0m     \u001b[0;32mdef\u001b[0m \u001b[0mto_series\u001b[0m\u001b[0;34m(\u001b[0m\u001b[0mself\u001b[0m\u001b[0;34m)\u001b[0m\u001b[0;34m:\u001b[0m\u001b[0;34m\u001b[0m\u001b[0;34m\u001b[0m\u001b[0m\n",
      "\u001b[0;32m~/CARTO/dev/cartoframes/cartoframes/data/observatory/repository/entity_repo.py\u001b[0m in \u001b[0;36mget_all\u001b[0;34m(self, filters)\u001b[0m\n\u001b[1;32m     19\u001b[0m \u001b[0;34m\u001b[0m\u001b[0m\n\u001b[1;32m     20\u001b[0m     \u001b[0;32mdef\u001b[0m \u001b[0mget_all\u001b[0m\u001b[0;34m(\u001b[0m\u001b[0mself\u001b[0m\u001b[0;34m,\u001b[0m \u001b[0mfilters\u001b[0m\u001b[0;34m=\u001b[0m\u001b[0;32mNone\u001b[0m\u001b[0;34m)\u001b[0m\u001b[0;34m:\u001b[0m\u001b[0;34m\u001b[0m\u001b[0;34m\u001b[0m\u001b[0m\n\u001b[0;32m---> 21\u001b[0;31m         \u001b[0;32mreturn\u001b[0m \u001b[0mself\u001b[0m\u001b[0;34m.\u001b[0m\u001b[0m_get_filtered_entities\u001b[0m\u001b[0;34m(\u001b[0m\u001b[0mfilters\u001b[0m\u001b[0;34m)\u001b[0m\u001b[0;34m\u001b[0m\u001b[0;34m\u001b[0m\u001b[0m\n\u001b[0m\u001b[1;32m     22\u001b[0m \u001b[0;34m\u001b[0m\u001b[0m\n\u001b[1;32m     23\u001b[0m     \u001b[0;32mdef\u001b[0m \u001b[0mget_by_id\u001b[0m\u001b[0;34m(\u001b[0m\u001b[0mself\u001b[0m\u001b[0;34m,\u001b[0m \u001b[0mid_\u001b[0m\u001b[0;34m)\u001b[0m\u001b[0;34m:\u001b[0m\u001b[0;34m\u001b[0m\u001b[0;34m\u001b[0m\u001b[0m\n",
      "\u001b[0;32m~/CARTO/dev/cartoframes/cartoframes/data/observatory/repository/entity_repo.py\u001b[0m in \u001b[0;36m_get_filtered_entities\u001b[0;34m(self, filters)\u001b[0m\n\u001b[1;32m     33\u001b[0m     \u001b[0;32mdef\u001b[0m \u001b[0m_get_filtered_entities\u001b[0m\u001b[0;34m(\u001b[0m\u001b[0mself\u001b[0m\u001b[0;34m,\u001b[0m \u001b[0mfilters\u001b[0m\u001b[0;34m=\u001b[0m\u001b[0;32mNone\u001b[0m\u001b[0;34m)\u001b[0m\u001b[0;34m:\u001b[0m\u001b[0;34m\u001b[0m\u001b[0;34m\u001b[0m\u001b[0m\n\u001b[1;32m     34\u001b[0m         \u001b[0mcleaned_filters\u001b[0m \u001b[0;34m=\u001b[0m \u001b[0mself\u001b[0m\u001b[0;34m.\u001b[0m\u001b[0m_get_filters\u001b[0m\u001b[0;34m(\u001b[0m\u001b[0mfilters\u001b[0m\u001b[0;34m)\u001b[0m\u001b[0;34m\u001b[0m\u001b[0;34m\u001b[0m\u001b[0m\n\u001b[0;32m---> 35\u001b[0;31m         \u001b[0mrows\u001b[0m \u001b[0;34m=\u001b[0m \u001b[0mself\u001b[0m\u001b[0;34m.\u001b[0m\u001b[0m_get_rows\u001b[0m\u001b[0;34m(\u001b[0m\u001b[0mcleaned_filters\u001b[0m\u001b[0;34m)\u001b[0m\u001b[0;34m\u001b[0m\u001b[0;34m\u001b[0m\u001b[0m\n\u001b[0m\u001b[1;32m     36\u001b[0m \u001b[0;34m\u001b[0m\u001b[0m\n\u001b[1;32m     37\u001b[0m         \u001b[0;32mif\u001b[0m \u001b[0mlen\u001b[0m\u001b[0;34m(\u001b[0m\u001b[0mrows\u001b[0m\u001b[0;34m)\u001b[0m \u001b[0;34m==\u001b[0m \u001b[0;36m0\u001b[0m\u001b[0;34m:\u001b[0m\u001b[0;34m\u001b[0m\u001b[0;34m\u001b[0m\u001b[0m\n",
      "\u001b[0;32m~/CARTO/dev/cartoframes/cartoframes/data/observatory/repository/category_repo.py\u001b[0m in \u001b[0;36m_get_rows\u001b[0;34m(self, filters)\u001b[0m\n\u001b[1;32m     24\u001b[0m \u001b[0;34m\u001b[0m\u001b[0m\n\u001b[1;32m     25\u001b[0m     \u001b[0;32mdef\u001b[0m \u001b[0m_get_rows\u001b[0m\u001b[0;34m(\u001b[0m\u001b[0mself\u001b[0m\u001b[0;34m,\u001b[0m \u001b[0mfilters\u001b[0m\u001b[0;34m=\u001b[0m\u001b[0;32mNone\u001b[0m\u001b[0;34m)\u001b[0m\u001b[0;34m:\u001b[0m\u001b[0;34m\u001b[0m\u001b[0;34m\u001b[0m\u001b[0m\n\u001b[0;32m---> 26\u001b[0;31m         \u001b[0;32mreturn\u001b[0m \u001b[0mself\u001b[0m\u001b[0;34m.\u001b[0m\u001b[0mclient\u001b[0m\u001b[0;34m.\u001b[0m\u001b[0mget_categories\u001b[0m\u001b[0;34m(\u001b[0m\u001b[0mfilters\u001b[0m\u001b[0;34m)\u001b[0m\u001b[0;34m\u001b[0m\u001b[0;34m\u001b[0m\u001b[0m\n\u001b[0m\u001b[1;32m     27\u001b[0m \u001b[0;34m\u001b[0m\u001b[0m\n\u001b[1;32m     28\u001b[0m     \u001b[0;32mdef\u001b[0m \u001b[0m_map_row\u001b[0m\u001b[0;34m(\u001b[0m\u001b[0mself\u001b[0m\u001b[0;34m,\u001b[0m \u001b[0mrow\u001b[0m\u001b[0;34m)\u001b[0m\u001b[0;34m:\u001b[0m\u001b[0;34m\u001b[0m\u001b[0;34m\u001b[0m\u001b[0m\n",
      "\u001b[0;32m~/CARTO/dev/cartoframes/cartoframes/data/observatory/repository/repo_client.py\u001b[0m in \u001b[0;36mget_categories\u001b[0;34m(self, filters)\u001b[0m\n\u001b[1;32m     18\u001b[0m     \u001b[0;32mdef\u001b[0m \u001b[0mget_categories\u001b[0m\u001b[0;34m(\u001b[0m\u001b[0mself\u001b[0m\u001b[0;34m,\u001b[0m \u001b[0mfilters\u001b[0m\u001b[0;34m=\u001b[0m\u001b[0;32mNone\u001b[0m\u001b[0;34m)\u001b[0m\u001b[0;34m:\u001b[0m\u001b[0;34m\u001b[0m\u001b[0;34m\u001b[0m\u001b[0m\n\u001b[1;32m     19\u001b[0m         \u001b[0mquery\u001b[0m \u001b[0;34m=\u001b[0m \u001b[0;34m'select * from categories_public'\u001b[0m\u001b[0;34m\u001b[0m\u001b[0;34m\u001b[0m\u001b[0m\n\u001b[0;32m---> 20\u001b[0;31m         \u001b[0;32mreturn\u001b[0m \u001b[0mself\u001b[0m\u001b[0;34m.\u001b[0m\u001b[0m_run_query\u001b[0m\u001b[0;34m(\u001b[0m\u001b[0mquery\u001b[0m\u001b[0;34m,\u001b[0m \u001b[0mfilters\u001b[0m\u001b[0;34m)\u001b[0m\u001b[0;34m\u001b[0m\u001b[0;34m\u001b[0m\u001b[0m\n\u001b[0m\u001b[1;32m     21\u001b[0m \u001b[0;34m\u001b[0m\u001b[0m\n\u001b[1;32m     22\u001b[0m     \u001b[0;32mdef\u001b[0m \u001b[0mget_providers\u001b[0m\u001b[0;34m(\u001b[0m\u001b[0mself\u001b[0m\u001b[0;34m,\u001b[0m \u001b[0mfilters\u001b[0m\u001b[0;34m=\u001b[0m\u001b[0;32mNone\u001b[0m\u001b[0;34m)\u001b[0m\u001b[0;34m:\u001b[0m\u001b[0;34m\u001b[0m\u001b[0;34m\u001b[0m\u001b[0m\n",
      "\u001b[0;32m~/CARTO/dev/cartoframes/cartoframes/data/observatory/repository/repo_client.py\u001b[0m in \u001b[0;36m_run_query\u001b[0;34m(self, query, filters)\u001b[0m\n\u001b[1;32m     45\u001b[0m             \u001b[0mquery\u001b[0m \u001b[0;34m+=\u001b[0m \u001b[0;34m\" where {}\"\u001b[0m\u001b[0;34m.\u001b[0m\u001b[0mformat\u001b[0m\u001b[0;34m(\u001b[0m\u001b[0mconditions\u001b[0m\u001b[0;34m)\u001b[0m\u001b[0;34m\u001b[0m\u001b[0;34m\u001b[0m\u001b[0m\n\u001b[1;32m     46\u001b[0m \u001b[0;34m\u001b[0m\u001b[0m\n\u001b[0;32m---> 47\u001b[0;31m         \u001b[0;32mreturn\u001b[0m \u001b[0mself\u001b[0m\u001b[0;34m.\u001b[0m\u001b[0mclient\u001b[0m\u001b[0;34m.\u001b[0m\u001b[0mquery\u001b[0m\u001b[0;34m(\u001b[0m\u001b[0mquery\u001b[0m\u001b[0;34m)\u001b[0m\u001b[0;34m\u001b[0m\u001b[0;34m\u001b[0m\u001b[0m\n\u001b[0m\u001b[1;32m     48\u001b[0m \u001b[0;34m\u001b[0m\u001b[0m\n\u001b[1;32m     49\u001b[0m     \u001b[0;32mdef\u001b[0m \u001b[0m__new__\u001b[0m\u001b[0;34m(\u001b[0m\u001b[0mcls\u001b[0m\u001b[0;34m)\u001b[0m\u001b[0;34m:\u001b[0m\u001b[0;34m\u001b[0m\u001b[0;34m\u001b[0m\u001b[0m\n",
      "\u001b[0;32m~/CARTO/dev/cartoframes/cartoframes/data/clients/sql_client.py\u001b[0m in \u001b[0;36mquery\u001b[0;34m(self, query, verbose)\u001b[0m\n\u001b[1;32m     43\u001b[0m         \u001b[0mdocumentation\u001b[0m\u001b[0;34m\u001b[0m\u001b[0;34m\u001b[0m\u001b[0m\n\u001b[1;32m     44\u001b[0m         \u001b[0;34m<\u001b[0m\u001b[0mhttps\u001b[0m\u001b[0;34m:\u001b[0m\u001b[0;34m//\u001b[0m\u001b[0mcarto\u001b[0m\u001b[0;34m.\u001b[0m\u001b[0mcom\u001b[0m\u001b[0;34m/\u001b[0m\u001b[0mdevelopers\u001b[0m\u001b[0;34m/\u001b[0m\u001b[0msql\u001b[0m\u001b[0;34m-\u001b[0m\u001b[0mapi\u001b[0m\u001b[0;34m/\u001b[0m\u001b[0mreference\u001b[0m\u001b[0;34m/\u001b[0m\u001b[0;31m#tag/Single-SQL-Statement>`.\"\"\"\u001b[0m\u001b[0;34m\u001b[0m\u001b[0;34m\u001b[0m\u001b[0m\n\u001b[0;32m---> 45\u001b[0;31m         \u001b[0mresponse\u001b[0m \u001b[0;34m=\u001b[0m \u001b[0mself\u001b[0m\u001b[0;34m.\u001b[0m\u001b[0m_context\u001b[0m\u001b[0;34m.\u001b[0m\u001b[0mexecute_query\u001b[0m\u001b[0;34m(\u001b[0m\u001b[0mquery\u001b[0m\u001b[0;34m)\u001b[0m\u001b[0;34m\u001b[0m\u001b[0;34m\u001b[0m\u001b[0m\n\u001b[0m\u001b[1;32m     46\u001b[0m         \u001b[0;32mif\u001b[0m \u001b[0;32mnot\u001b[0m \u001b[0mverbose\u001b[0m\u001b[0;34m:\u001b[0m\u001b[0;34m\u001b[0m\u001b[0;34m\u001b[0m\u001b[0m\n\u001b[1;32m     47\u001b[0m             \u001b[0;32mreturn\u001b[0m \u001b[0mresponse\u001b[0m\u001b[0;34m.\u001b[0m\u001b[0mget\u001b[0m\u001b[0;34m(\u001b[0m\u001b[0;34m'rows'\u001b[0m\u001b[0;34m)\u001b[0m\u001b[0;34m\u001b[0m\u001b[0;34m\u001b[0m\u001b[0m\n",
      "\u001b[0;32m~/CARTO/dev/cartoframes/cartoframes/lib/context/api_context.py\u001b[0m in \u001b[0;36mexecute_query\u001b[0;34m(self, query, parse_json, do_post, format, **request_args)\u001b[0m\n\u001b[1;32m     46\u001b[0m \u001b[0;34m\u001b[0m\u001b[0m\n\u001b[1;32m     47\u001b[0m     \u001b[0;32mdef\u001b[0m \u001b[0mexecute_query\u001b[0m\u001b[0;34m(\u001b[0m\u001b[0mself\u001b[0m\u001b[0;34m,\u001b[0m \u001b[0mquery\u001b[0m\u001b[0;34m,\u001b[0m \u001b[0mparse_json\u001b[0m\u001b[0;34m=\u001b[0m\u001b[0;32mTrue\u001b[0m\u001b[0;34m,\u001b[0m \u001b[0mdo_post\u001b[0m\u001b[0;34m=\u001b[0m\u001b[0;32mTrue\u001b[0m\u001b[0;34m,\u001b[0m \u001b[0mformat\u001b[0m\u001b[0;34m=\u001b[0m\u001b[0;32mNone\u001b[0m\u001b[0;34m,\u001b[0m \u001b[0;34m**\u001b[0m\u001b[0mrequest_args\u001b[0m\u001b[0;34m)\u001b[0m\u001b[0;34m:\u001b[0m\u001b[0;34m\u001b[0m\u001b[0;34m\u001b[0m\u001b[0m\n\u001b[0;32m---> 48\u001b[0;31m         \u001b[0;32mreturn\u001b[0m \u001b[0mself\u001b[0m\u001b[0;34m.\u001b[0m\u001b[0msql_client\u001b[0m\u001b[0;34m.\u001b[0m\u001b[0msend\u001b[0m\u001b[0;34m(\u001b[0m\u001b[0mquery\u001b[0m\u001b[0;34m.\u001b[0m\u001b[0mstrip\u001b[0m\u001b[0;34m(\u001b[0m\u001b[0;34m)\u001b[0m\u001b[0;34m,\u001b[0m \u001b[0mparse_json\u001b[0m\u001b[0;34m,\u001b[0m \u001b[0mdo_post\u001b[0m\u001b[0;34m,\u001b[0m \u001b[0mformat\u001b[0m\u001b[0;34m,\u001b[0m \u001b[0;34m**\u001b[0m\u001b[0mrequest_args\u001b[0m\u001b[0;34m)\u001b[0m\u001b[0;34m\u001b[0m\u001b[0;34m\u001b[0m\u001b[0m\n\u001b[0m\u001b[1;32m     49\u001b[0m \u001b[0;34m\u001b[0m\u001b[0m\n\u001b[1;32m     50\u001b[0m     \u001b[0;32mdef\u001b[0m \u001b[0mexecute_long_running_query\u001b[0m\u001b[0;34m(\u001b[0m\u001b[0mself\u001b[0m\u001b[0;34m,\u001b[0m \u001b[0mquery\u001b[0m\u001b[0;34m)\u001b[0m\u001b[0;34m:\u001b[0m\u001b[0;34m\u001b[0m\u001b[0;34m\u001b[0m\u001b[0m\n",
      "\u001b[0;32m~/.local/share/virtualenvs/cartoframes/src/carto/carto/sql.py\u001b[0m in \u001b[0;36msend\u001b[0;34m(self, sql, parse_json, do_post, format, **request_args)\u001b[0m\n\u001b[1;32m    112\u001b[0m             \u001b[0;32mraise\u001b[0m \u001b[0me\u001b[0m\u001b[0;34m\u001b[0m\u001b[0;34m\u001b[0m\u001b[0m\n\u001b[1;32m    113\u001b[0m         \u001b[0;32mexcept\u001b[0m \u001b[0mException\u001b[0m \u001b[0;32mas\u001b[0m \u001b[0me\u001b[0m\u001b[0;34m:\u001b[0m\u001b[0;34m\u001b[0m\u001b[0;34m\u001b[0m\u001b[0m\n\u001b[0;32m--> 114\u001b[0;31m             \u001b[0;32mraise\u001b[0m \u001b[0mCartoException\u001b[0m\u001b[0;34m(\u001b[0m\u001b[0me\u001b[0m\u001b[0;34m)\u001b[0m\u001b[0;34m\u001b[0m\u001b[0;34m\u001b[0m\u001b[0m\n\u001b[0m\u001b[1;32m    115\u001b[0m \u001b[0;34m\u001b[0m\u001b[0m\n\u001b[1;32m    116\u001b[0m \u001b[0;34m\u001b[0m\u001b[0m\n",
      "\u001b[0;31mCartoException\u001b[0m: ['column \"country_id\" does not exist']"
     ]
    }
   ],
   "source": [
    "catalog.country('spain').categories"
   ]
  }
 ],
 "metadata": {
  "kernelspec": {
   "display_name": "cartoframes",
   "language": "python",
   "name": "cartoframes"
  },
  "language_info": {
   "codemirror_mode": {
    "name": "ipython",
    "version": 3
   },
   "file_extension": ".py",
   "mimetype": "text/x-python",
   "name": "python",
   "nbconvert_exporter": "python",
   "pygments_lexer": "ipython3",
   "version": "3.7.3"
  }
 },
 "nbformat": 4,
 "nbformat_minor": 2
}
